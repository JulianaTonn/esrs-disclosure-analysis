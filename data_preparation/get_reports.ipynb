{
 "cells": [
  {
   "cell_type": "code",
   "execution_count": 100,
   "id": "838b71cb",
   "metadata": {},
   "outputs": [],
   "source": [
    "import pandas as pd\n",
    "import pandas as pd\n",
    "import geopandas as gpd\n",
    "import matplotlib.pyplot as plt\n",
    "import matplotlib.cm as cm\n",
    "import matplotlib.colors as mcolors"
   ]
  },
  {
   "cell_type": "markdown",
   "id": "ae51695d",
   "metadata": {},
   "source": [
    "# Dataset containing links to the reports\n",
    "Downloaded file from the Sustainability Reporting Navigator\n",
    "\n",
    "https://docs.google.com/spreadsheets/d/1Nlyf8Yz_9Fst8rEmQc2IMc-DWLF1fpmBTB7n4FlZwxs/edit?gid=0#gid=0 \n",
    "date: 14.08.2025"
   ]
  },
  {
   "cell_type": "code",
   "execution_count": 101,
   "id": "3ad16dbd",
   "metadata": {},
   "outputs": [
    {
     "name": "stdout",
     "output_type": "stream",
     "text": [
      "  verified      srn_id        company          isin  country publication date  \\\n",
      "0      yes  tVkXa1OoYn     Netcompany  DK0060952919  Denmark       2025-01-29   \n",
      "1      yes  4P9CZx30gn           Tryg  DK0060636678  Denmark       2025-01-23   \n",
      "2      yes  u63Ki9uBLF  DSV Panalpina  DK0060079531  Denmark       2025-02-04   \n",
      "3      yes  PtoavXijSQ       Lundbeck  DK0061804697  Denmark       2025-02-04   \n",
      "4      yes  g5GXXjndDy         Vestas  DK0061539921  Denmark       2025-02-05   \n",
      "\n",
      "  claim full CSRD compliance   auditor  start PDF  end PDF  pages PDF  \\\n",
      "0                       True        EY       62.0    154.0       93.0   \n",
      "1                       True       PwC       53.0    131.0       79.0   \n",
      "2                       True       PwC       42.0     84.0       43.0   \n",
      "3                       True       PwC       59.0    144.0       86.0   \n",
      "4                       True  Deloitte       51.0    132.0       82.0   \n",
      "\n",
      "                                                link ESEF-\\ntagged  \\\n",
      "0     https://netcompany.com/investor/annual-report/           NaN   \n",
      "1  https://tryg.com/sites/tryg.com/files/2025-01/...           NaN   \n",
      "2  https://investor.dsv.com/static-files/d34d3dfc...           NaN   \n",
      "3  https://www.lundbeck.com/content/dam/lundbeck-...           NaN   \n",
      "4  https://www.vestas.com/content/dam/vestas-com/...           NaN   \n",
      "\n",
      "     SASB industry \\n(SICS® Industries)  \n",
      "0             Internet Media & Services  \n",
      "1                             Insurance  \n",
      "2               Air Freight & Logistics  \n",
      "3       Biotechnology & Pharmaceuticals  \n",
      "4  Wind Technology & Project Developers  \n"
     ]
    }
   ],
   "source": [
    "# read in csv\n",
    "srn_reports_raw = pd.read_csv(\"SRN-CSRD_report_archive - csrd.csv\", header=2)\n",
    "print(srn_reports_raw.head())"
   ]
  },
  {
   "cell_type": "code",
   "execution_count": 102,
   "id": "58cc8988",
   "metadata": {},
   "outputs": [
    {
     "name": "stdout",
     "output_type": "stream",
     "text": [
      "627\n"
     ]
    }
   ],
   "source": [
    "# drop all rows where 'verified' is not yes\n",
    "esrs_reports = srn_reports_raw[srn_reports_raw['verified'] == 'yes']\n",
    "print(len(esrs_reports))\n",
    "\n",
    "# keep only relevant columns\n",
    "esrs_reports = esrs_reports[['company', 'isin', 'country', 'publication date', 'auditor', 'link', 'SASB industry \\n(SICS® Industries)']]\n",
    "# rename columns\n",
    "esrs_reports = esrs_reports.rename(columns={\n",
    "    'publication date': 'publication_date',\n",
    "    'SASB industry \\n(SICS® Industries)': 'SASB_industry'\n",
    "})"
   ]
  },
  {
   "cell_type": "code",
   "execution_count": 103,
   "id": "404d443c",
   "metadata": {},
   "outputs": [],
   "source": [
    "# save as excel\n",
    "esrs_reports.to_excel(\"esrs_reports.xlsx\", index=False)"
   ]
  },
  {
   "cell_type": "markdown",
   "id": "2001a9b7",
   "metadata": {},
   "source": [
    "# Dataset with company info\n",
    "\n",
    "retrieved all company data with the help of ISIN code from LSEG (where isin was available)"
   ]
  },
  {
   "cell_type": "code",
   "execution_count": 104,
   "id": "86178b09",
   "metadata": {},
   "outputs": [
    {
     "name": "stdout",
     "output_type": "stream",
     "text": [
      "     srn_company      srn_isin srn_country    Unnamed: 3  \\\n",
      "0     Netcompany  DK0060952919     Denmark  DK0060952919   \n",
      "1           Tryg  DK0060636678     Denmark  DK0060636678   \n",
      "2  DSV Panalpina  DK0060079531     Denmark  DK0060079531   \n",
      "3       Lundbeck  DK0061804697     Denmark  DK0061804697   \n",
      "4         Vestas  DK0061539921     Denmark  DK0061539921   \n",
      "\n",
      "       Company Common Name          ISIN       RIC Country of Headquarters  \\\n",
      "0     Netcompany Group A/S  DK0060952919  NETCG.CO                 Denmark   \n",
      "1                 Tryg A/S  DK0060636678   TRYG.CO                 Denmark   \n",
      "2                  DSV A/S  DK0060079531    DSV.CO                 Denmark   \n",
      "3           H Lundbeck A/S  DK0061804697  HLUNa.CO                 Denmark   \n",
      "4  Vestas Wind Systems A/S  DK0061539921    VWS.CO                 Denmark   \n",
      "\n",
      "         GICS Sector Name  Number of Employees Social Pillar Score  \\\n",
      "0  Information Technology               7927.0           57.975414   \n",
      "1              Financials               6600.0           60.083289   \n",
      "2             Industrials              74026.0           73.829912   \n",
      "3             Health Care               5500.0           62.120307   \n",
      "4             Industrials              33678.0           67.404225   \n",
      "\n",
      "  Social Pillar Score Grade Workforce Score Grade Workforce Score  \\\n",
      "0                        B-                    A-       75.528169   \n",
      "1                         B                    B-       53.911565   \n",
      "2                        B+                    A-        77.57732   \n",
      "3                         B                    B+       67.913832   \n",
      "4                        B+                     B       66.477273   \n",
      "\n",
      "  Company Market Capitalization  \n",
      "0                   2272.986602  \n",
      "1                   12522.66828  \n",
      "2                  49300.298367  \n",
      "3                   5305.884086  \n",
      "4                  13282.258342  \n",
      "584\n"
     ]
    }
   ],
   "source": [
    "company_data = pd.read_excel(\"lseg_data.xlsx\", header=2)\n",
    "print(company_data.head())\n",
    "print(len(company_data))"
   ]
  },
  {
   "cell_type": "code",
   "execution_count": 105,
   "id": "aacfc904",
   "metadata": {},
   "outputs": [],
   "source": [
    "# drop unnecessary columns\n",
    "company_data = company_data.drop(columns=['Unnamed: 3'])"
   ]
  },
  {
   "cell_type": "code",
   "execution_count": 106,
   "id": "10a070a8",
   "metadata": {},
   "outputs": [
    {
     "name": "stdout",
     "output_type": "stream",
     "text": [
      "500\n"
     ]
    }
   ],
   "source": [
    "# drop NAs\n",
    "company_data = company_data.dropna()\n",
    "print(len(company_data))\n"
   ]
  },
  {
   "cell_type": "code",
   "execution_count": 107,
   "id": "a055ad1f",
   "metadata": {},
   "outputs": [
    {
     "name": "stdout",
     "output_type": "stream",
     "text": [
      "479\n"
     ]
    }
   ],
   "source": [
    "# drop all companys with above 750 employees\n",
    "company_data = company_data[company_data['Number of Employees'] >= 750]\n",
    "print(len(company_data))"
   ]
  },
  {
   "cell_type": "markdown",
   "id": "5a000447",
   "metadata": {},
   "source": [
    "### Control for mismatches between srn and lseg info"
   ]
  },
  {
   "cell_type": "code",
   "execution_count": 108,
   "id": "45cb15c4",
   "metadata": {},
   "outputs": [
    {
     "name": "stdout",
     "output_type": "stream",
     "text": [
      "         srn_company      srn_isin  srn_country         Company Common Name  \\\n",
      "12     GN Store Nord  DK0010272632      Denmark                   TomTom NV   \n",
      "13            Ørsted  DK0060094928      Denmark           GN Store Nord A/S   \n",
      "14             Mærsk  DK0010244425      Denmark                 Oersted A/S   \n",
      "15             Solar  DK0010274844      Denmark     AP Moeller - Maersk A/S   \n",
      "16         Carlsberg  DK0010181759      Denmark                   Solar A/S   \n",
      "..               ...           ...          ...                         ...   \n",
      "570  Astarta Holding  NL0000686509  Netherlands                   Qiagen NV   \n",
      "571          Ubisoft  FR0000054470       France  Assicurazioni Generali SpA   \n",
      "572              CCC  PLCCC0000016       Poland               Frequentis AG   \n",
      "573             Aker  NO0010234552       Norway                  Fluidra SA   \n",
      "574    Aker Horizons  NO0010921232       Norway                    Snam SpA   \n",
      "\n",
      "             ISIN               RIC Country of Headquarters  \\\n",
      "12   NL0013332471           TOM2.AS             Netherlands   \n",
      "13   DK0010272632             GN.CO                 Denmark   \n",
      "14   DK0060094928         ORSTED.CO                 Denmark   \n",
      "15   DK0010244425        MAERSKa.CO                 Denmark   \n",
      "16   DK0010274844         SOLARb.CO                 Denmark   \n",
      "..            ...               ...                     ...   \n",
      "570  NL0015001WM6  NL0015001WM6.TRE             Netherlands   \n",
      "571  IT0000062072           GASI.MI                   Italy   \n",
      "572  ATFREQUENT09            FQT.DE                 Austria   \n",
      "573  ES0137650018           FLUI.MC                   Spain   \n",
      "574  IT0003153415            SRG.MI                   Italy   \n",
      "\n",
      "           GICS Sector Name  Number of Employees Social Pillar Score  \\\n",
      "12   Information Technology               3499.0           54.055749   \n",
      "13   Consumer Discretionary               7281.0           62.214076   \n",
      "14                Utilities               8377.0           55.781659   \n",
      "15              Industrials             105909.0           57.729829   \n",
      "16              Industrials               2880.0           36.032835   \n",
      "..                      ...                  ...                 ...   \n",
      "570             Health Care               5800.0           93.002798   \n",
      "571              Financials              84755.0           85.878605   \n",
      "572             Industrials               2335.0           68.573058   \n",
      "573             Industrials               6784.0           78.641762   \n",
      "574               Utilities               3803.0            86.09341   \n",
      "\n",
      "    Social Pillar Score Grade Workforce Score Grade Workforce Score  \\\n",
      "12                         B-                    B-       54.424779   \n",
      "13                          B                    B+       67.105263   \n",
      "14                         B-                     B       63.240418   \n",
      "15                         B-                    C+       44.818653   \n",
      "16                          C                    C+        48.62543   \n",
      "..                        ...                   ...             ...   \n",
      "570                        A+                     A       89.862205   \n",
      "571                         A                    A+       95.748299   \n",
      "572                        B+                     B       64.795918   \n",
      "573                        A-                    A+       99.090909   \n",
      "574                         A                    A+       97.457627   \n",
      "\n",
      "    Company Market Capitalization  \n",
      "12                         623.75  \n",
      "13                    2706.741592  \n",
      "14                   18276.092416  \n",
      "15                   24792.642977  \n",
      "16                     259.451698  \n",
      "..                            ...  \n",
      "570                   9294.186823  \n",
      "571                  42798.083509  \n",
      "572                       357.232  \n",
      "573                   4518.875726  \n",
      "574                  14374.388849  \n",
      "\n",
      "[470 rows x 14 columns]\n"
     ]
    }
   ],
   "source": [
    "# print all rows where srn_isin and ISIN are not the same\n",
    "mismatched_isin = company_data[company_data['srn_isin'] != company_data['ISIN']]\n",
    "print(mismatched_isin)"
   ]
  },
  {
   "cell_type": "code",
   "execution_count": 109,
   "id": "2f093e31",
   "metadata": {},
   "outputs": [
    {
     "name": "stdout",
     "output_type": "stream",
     "text": [
      "              srn_company      srn_isin  srn_country  \\\n",
      "12          GN Store Nord  DK0010272632      Denmark   \n",
      "19                  Barco  BE0974362940      Belgium   \n",
      "20               Randstad  NL0000379121  Netherlands   \n",
      "21                 Genmab  DK0010272202      Denmark   \n",
      "22             Stora Enso  FI0009005961      Finland   \n",
      "..                    ...           ...          ...   \n",
      "569  Naturgy Energy Group  ES0116870314        Spain   \n",
      "571               Ubisoft  FR0000054470       France   \n",
      "572                   CCC  PLCCC0000016       Poland   \n",
      "573                  Aker  NO0010234552       Norway   \n",
      "574         Aker Horizons  NO0010921232       Norway   \n",
      "\n",
      "            Company Common Name          ISIN        RIC  \\\n",
      "12                    TomTom NV  NL0013332471    TOM2.AS   \n",
      "19              Danske Bank A/S  DK0010274414  DANSKE.CO   \n",
      "20                     Barco NV  BE0974362940     BAR.BR   \n",
      "21                  Randstad NV  NL0000379121    RAND.AS   \n",
      "22                   Genmab A/S  DK0010272202    GMAB.CO   \n",
      "..                          ...           ...        ...   \n",
      "569                     Kruk SA  PLKRK0000010     KRU.WA   \n",
      "571  Assicurazioni Generali SpA  IT0000062072    GASI.MI   \n",
      "572               Frequentis AG  ATFREQUENT09     FQT.DE   \n",
      "573                  Fluidra SA  ES0137650018    FLUI.MC   \n",
      "574                    Snam SpA  IT0003153415     SRG.MI   \n",
      "\n",
      "    Country of Headquarters        GICS Sector Name  Number of Employees  \\\n",
      "12              Netherlands  Information Technology               3499.0   \n",
      "19                  Denmark              Financials              20057.0   \n",
      "20                  Belgium  Information Technology               3305.0   \n",
      "21              Netherlands             Industrials              40860.0   \n",
      "22                  Denmark             Health Care               2635.0   \n",
      "..                      ...                     ...                  ...   \n",
      "569                  Poland              Financials               3426.0   \n",
      "571                   Italy              Financials              84755.0   \n",
      "572                 Austria             Industrials               2335.0   \n",
      "573                   Spain             Industrials               6784.0   \n",
      "574                   Italy               Utilities               3803.0   \n",
      "\n",
      "    Social Pillar Score Social Pillar Score Grade Workforce Score Grade  \\\n",
      "12            54.055749                        B-                    B-   \n",
      "19            55.924062                        B-                     B   \n",
      "20            79.244274                        A-                     A   \n",
      "21            87.790225                         A                    A+   \n",
      "22            80.650474                        A-                    A+   \n",
      "..                  ...                       ...                   ...   \n",
      "569           69.019312                        B+                    A+   \n",
      "571           85.878605                         A                    A+   \n",
      "572           68.573058                        B+                     B   \n",
      "573           78.641762                        A-                    A+   \n",
      "574            86.09341                         A                    A+   \n",
      "\n",
      "    Workforce Score Company Market Capitalization  \n",
      "12        54.424779                        623.75  \n",
      "19        62.641316                  23551.494668  \n",
      "20        86.416185                     973.76644  \n",
      "21        99.575071                   7363.189692  \n",
      "22        94.586614                  13246.935761  \n",
      "..              ...                           ...  \n",
      "569       92.915392                   1885.353899  \n",
      "571       95.748299                  42798.083509  \n",
      "572       64.795918                       357.232  \n",
      "573       99.090909                   4518.875726  \n",
      "574       97.457627                  14374.388849  \n",
      "\n",
      "[372 rows x 14 columns]\n"
     ]
    }
   ],
   "source": [
    "# print all rows where srn_country and Country of Headquarters are not the same\n",
    "mismatched_country = company_data[company_data['srn_country'] != company_data['Country of Headquarters']]\n",
    "print(mismatched_country)"
   ]
  },
  {
   "cell_type": "code",
   "execution_count": 110,
   "id": "c7bd28a6",
   "metadata": {},
   "outputs": [
    {
     "name": "stdout",
     "output_type": "stream",
     "text": [
      "         srn_company      srn_isin  srn_country         Company Common Name  \\\n",
      "0         Netcompany  DK0060952919      Denmark        Netcompany Group A/S   \n",
      "2      DSV Panalpina  DK0060079531      Denmark                     DSV A/S   \n",
      "3           Lundbeck  DK0061804697      Denmark              H Lundbeck A/S   \n",
      "4             Vestas  DK0061539921      Denmark     Vestas Wind Systems A/S   \n",
      "12     GN Store Nord  DK0010272632      Denmark                   TomTom NV   \n",
      "..               ...           ...          ...                         ...   \n",
      "570  Astarta Holding  NL0000686509  Netherlands                   Qiagen NV   \n",
      "571          Ubisoft  FR0000054470       France  Assicurazioni Generali SpA   \n",
      "572              CCC  PLCCC0000016       Poland               Frequentis AG   \n",
      "573             Aker  NO0010234552       Norway                  Fluidra SA   \n",
      "574    Aker Horizons  NO0010921232       Norway                    Snam SpA   \n",
      "\n",
      "             ISIN               RIC Country of Headquarters  \\\n",
      "0    DK0060952919          NETCG.CO                 Denmark   \n",
      "2    DK0060079531            DSV.CO                 Denmark   \n",
      "3    DK0061804697          HLUNa.CO                 Denmark   \n",
      "4    DK0061539921            VWS.CO                 Denmark   \n",
      "12   NL0013332471           TOM2.AS             Netherlands   \n",
      "..            ...               ...                     ...   \n",
      "570  NL0015001WM6  NL0015001WM6.TRE             Netherlands   \n",
      "571  IT0000062072           GASI.MI                   Italy   \n",
      "572  ATFREQUENT09            FQT.DE                 Austria   \n",
      "573  ES0137650018           FLUI.MC                   Spain   \n",
      "574  IT0003153415            SRG.MI                   Italy   \n",
      "\n",
      "           GICS Sector Name  Number of Employees Social Pillar Score  \\\n",
      "0    Information Technology               7927.0           57.975414   \n",
      "2               Industrials              74026.0           73.829912   \n",
      "3               Health Care               5500.0           62.120307   \n",
      "4               Industrials              33678.0           67.404225   \n",
      "12   Information Technology               3499.0           54.055749   \n",
      "..                      ...                  ...                 ...   \n",
      "570             Health Care               5800.0           93.002798   \n",
      "571              Financials              84755.0           85.878605   \n",
      "572             Industrials               2335.0           68.573058   \n",
      "573             Industrials               6784.0           78.641762   \n",
      "574               Utilities               3803.0            86.09341   \n",
      "\n",
      "    Social Pillar Score Grade Workforce Score Grade Workforce Score  \\\n",
      "0                          B-                    A-       75.528169   \n",
      "2                          B+                    A-        77.57732   \n",
      "3                           B                    B+       67.913832   \n",
      "4                          B+                     B       66.477273   \n",
      "12                         B-                    B-       54.424779   \n",
      "..                        ...                   ...             ...   \n",
      "570                        A+                     A       89.862205   \n",
      "571                         A                    A+       95.748299   \n",
      "572                        B+                     B       64.795918   \n",
      "573                        A-                    A+       99.090909   \n",
      "574                         A                    A+       97.457627   \n",
      "\n",
      "    Company Market Capitalization  srn_company_std Company Common Name_std  \n",
      "0                     2272.986602       netcompany        netcompany group  \n",
      "2                    49300.298367    dsv panalpina                     dsv  \n",
      "3                     5305.884086         lundbeck              h lundbeck  \n",
      "4                    13282.258342           vestas     vestas wind systems  \n",
      "12                         623.75    gn store nord                  tomtom  \n",
      "..                            ...              ...                     ...  \n",
      "570                   9294.186823  astarta holding                  qiagen  \n",
      "571                  42798.083509          ubisoft  assicurazioni generali  \n",
      "572                       357.232              ccc              frequentis  \n",
      "573                   4518.875726             aker                 fluidra  \n",
      "574                  14374.388849    aker horizons                    snam  \n",
      "\n",
      "[474 rows x 16 columns]\n"
     ]
    }
   ],
   "source": [
    "# look at all mismatches in the names\n",
    "    # 1. prepare standardizes names (remove sa, se, nv, ag, a/s)\n",
    "\n",
    "def standardize_name(name):\n",
    "    name = name.lower()\n",
    "    name = name.replace(\" sa\", \"\").replace(\" se\", \"\").replace(\" nv\", \"\").replace(\" ag\", \"\").replace(\" a/s\", \"\").replace(\" oyj\", \"\").replace(\" ab\", \"\").replace(\" abp\", \"\").replace(\" plc\", \"\").replace(\" spa\", \"\").replace(\" asa\", \"\").replace(\" nyrt\", \"\")\n",
    "    name = name.strip()\n",
    "    return name\n",
    "\n",
    "# compare standardized \"srn_company\" and \"Company Common Name\"\n",
    "company_data['srn_company_std'] = company_data['srn_company'].apply(standardize_name)\n",
    "company_data['Company Common Name_std'] = company_data['Company Common Name'].apply(standardize_name)\n",
    "mismatched_names = company_data[company_data['srn_company_std'] != company_data['Company Common Name_std']]\n",
    "print(mismatched_names)"
   ]
  },
  {
   "cell_type": "markdown",
   "id": "d6beb8e7",
   "metadata": {},
   "source": [
    "## Descriptives"
   ]
  },
  {
   "cell_type": "code",
   "execution_count": 111,
   "id": "7fb29e38",
   "metadata": {},
   "outputs": [
    {
     "data": {
      "image/png": "[encoded data removed]",
      "text/plain": [
       "<Figure size 800x800 with 2 Axes>"
      ]
     },
     "metadata": {},
     "output_type": "display_data"
    }
   ],
   "source": [
    "# Load shapefile\n",
    "world = gpd.read_file(\"earth/ne_110m_admin_0_countries.shp\")\n",
    "\n",
    "# Filter on Europe only\n",
    "europe = world[world['CONTINENT'] == 'Europe']\n",
    "\n",
    "# Count companies per country\n",
    "country_counts = company_data[\"Country of Headquarters\"].value_counts().reset_index()\n",
    "country_counts.columns = [\"country\", \"count\"]\n",
    "\n",
    "# Merge counts with Europe geometry\n",
    "europe_counts = europe.merge(country_counts, left_on=\"NAME\", right_on=\"country\", how=\"left\")\n",
    "europe_counts[\"count\"] = europe_counts[\"count\"].fillna(0)\n",
    "\n",
    "# Initialize figure\n",
    "fig, ax = plt.subplots(1, 1, figsize=(8, 8))\n",
    "\n",
    "# Define colors\n",
    "cmap = cm.Reds\n",
    "min_rate, max_rate = europe_counts[\"count\"].min(), europe_counts[\"count\"].max()\n",
    "norm = mcolors.Normalize(vmin=min_rate, vmax=max_rate)\n",
    "\n",
    "# Plot map with white for missing values (0 count)\n",
    "europe_counts.plot(\n",
    "    column='count',\n",
    "    cmap=cmap,\n",
    "    norm=norm,\n",
    "    edgecolor='black',\n",
    "    linewidth=0.2,\n",
    "    ax=ax,\n",
    "    legend=True,\n",
    "    legend_kwds={\n",
    "        \"label\": \"# Companies\",\n",
    "        \"orientation\": \"horizontal\",\n",
    "        \"shrink\": 0.5,   # smaller legend\n",
    "        \"pad\": 0.02      # closer to map\n",
    "    },\n",
    "    missing_kwds={\n",
    "        \"color\": \"white\",     # countries with 0 count are white\n",
    "        \"edgecolor\": \"black\",\n",
    "        \"hatch\": None\n",
    "    }\n",
    ")\n",
    "\n",
    "# Add country labels using representative points\n",
    "for idx, row in europe_counts.iterrows():\n",
    "    if row[\"count\"] > 0:  # only label if > 0\n",
    "        x, y = row.geometry.representative_point().coords[0]\n",
    "        ax.text(x, y, int(row[\"count\"]), ha=\"center\", va=\"center\", fontsize=9, color=\"black\")\n",
    "\n",
    "# Custom axis\n",
    "ax.set_xlim(-15, 35)\n",
    "ax.set_ylim(32, 72)\n",
    "ax.axis('off')\n",
    "\n",
    "plt.title(\"Number of Companies per Country\", fontsize=14, weight=\"bold\")\n",
    "plt.tight_layout()\n",
    "plt.show()\n"
   ]
  },
  {
   "cell_type": "code",
   "execution_count": 112,
   "id": "7eed497d",
   "metadata": {},
   "outputs": [
    {
     "data": {
      "image/png": "[encoded data removed]",
      "text/plain": [
       "<Figure size 1000x600 with 1 Axes>"
      ]
     },
     "metadata": {},
     "output_type": "display_data"
    }
   ],
   "source": [
    "# Count companies per sector\n",
    "sector_counts = (\n",
    "    company_data[\"GICS Sector Name\"]\n",
    "    .value_counts()\n",
    "    .reset_index()\n",
    ")\n",
    "sector_counts.columns = [\"Sector\", \"Count\"]\n",
    "\n",
    "# Sort sectors so highest count is first\n",
    "sector_counts = sector_counts.sort_values(\"Count\", ascending=True).reset_index(drop=True)\n",
    "\n",
    "# Create color palette from light to dark red (highest count = darkest red)\n",
    "colors = sns.color_palette(\"Reds\", n_colors=len(sector_counts))\n",
    "\n",
    "# Assign colors based on sorted order\n",
    "color_map = dict(zip(sector_counts[\"Sector\"], colors))\n",
    "bar_colors = sector_counts[\"Sector\"].map(color_map)\n",
    "\n",
    "# Plot (horizontal bar chart)\n",
    "fig, ax = plt.subplots(figsize=(10, 6))\n",
    "bars = ax.barh(\n",
    "    y=sector_counts[\"Sector\"],\n",
    "    width=sector_counts[\"Count\"],\n",
    "    color=bar_colors\n",
    ")\n",
    "\n",
    "# Add counts at the end of each bar\n",
    "for bar in bars:\n",
    "    width = bar.get_width()\n",
    "    ax.text(width + 0.5, bar.get_y() + bar.get_height()/2,\n",
    "            f\"{int(width)}\",\n",
    "            va=\"center\", ha=\"left\", fontsize=10)\n",
    "\n",
    "# Style\n",
    "ax.set_title(\"Number of Companies per GICS Sector\", fontsize=14, weight=\"bold\")\n",
    "ax.set_xlabel(\"\")  # remove x-axis label\n",
    "ax.xaxis.set_visible(False)  # hide x-axis ticks and labels\n",
    "ax.spines[\"top\"].set_visible(False)\n",
    "ax.spines[\"right\"].set_visible(False)\n",
    "ax.spines[\"bottom\"].set_visible(False)\n",
    "ax.spines[\"left\"].set_visible(False)\n",
    "ax.grid(False)  # remove grid lines\n",
    "\n",
    "plt.tight_layout()\n",
    "plt.show()"
   ]
  },
  {
   "cell_type": "code",
   "execution_count": 113,
   "id": "d14a9618",
   "metadata": {},
   "outputs": [],
   "source": [
    "# descriptive table with min, max, mean, median, std about: Company Market Capitalization, Number of Employees, social pillar score, workforce score\n",
    "desc_table = company_data[['Company Market Capitalization', 'Number of Employees', 'Social Pillar Score', 'Workforce Score']].describe()"
   ]
  },
  {
   "cell_type": "code",
   "execution_count": 114,
   "id": "90301ebd",
   "metadata": {},
   "outputs": [
    {
     "data": {
      "application/vnd.microsoft.datawrangler.viewer.v0+json": {
       "columns": [
        {
         "name": "index",
         "rawType": "object",
         "type": "string"
        },
        {
         "name": "Company Market Capitalization",
         "rawType": "float64",
         "type": "float"
        }
       ],
       "ref": "cb45ad64-d6cf-4525-b621-c87d65c47769",
       "rows": [
        [
         "count",
         "479.0"
        ],
        [
         "unique",
         "478.0"
        ],
        [
         "top",
         "5305.88408642333"
        ],
        [
         "freq",
         "2.0"
        ]
       ],
       "shape": {
        "columns": 1,
        "rows": 4
       }
      },
      "text/plain": [
       "count      479.000000\n",
       "unique     478.000000\n",
       "top       5305.884086\n",
       "freq         2.000000\n",
       "Name: Company Market Capitalization, dtype: float64"
      ]
     },
     "execution_count": 114,
     "metadata": {},
     "output_type": "execute_result"
    }
   ],
   "source": [
    "company_data['Company Market Capitalization'].describe()"
   ]
  },
  {
   "cell_type": "code",
   "execution_count": 121,
   "id": "c1dbcf55",
   "metadata": {},
   "outputs": [
    {
     "data": {
      "application/vnd.microsoft.datawrangler.viewer.v0+json": {
       "columns": [
        {
         "name": "Variable",
         "rawType": "object",
         "type": "string"
        },
        {
         "name": "Min",
         "rawType": "object",
         "type": "unknown"
        },
        {
         "name": "Max",
         "rawType": "object",
         "type": "unknown"
        },
        {
         "name": "Mean",
         "rawType": "object",
         "type": "unknown"
        },
        {
         "name": "Median",
         "rawType": "object",
         "type": "unknown"
        },
        {
         "name": "Std Dev",
         "rawType": "object",
         "type": "unknown"
        },
        {
         "name": "Total Observations",
         "rawType": "int64",
         "type": "integer"
        }
       ],
       "ref": "f9af0952-3fd9-48aa-ac2e-cd79436b5ddd",
       "rows": [
        [
         "Company Market Capitalization",
         "46.07388858",
         "317967.15035",
         "17009.590280142624",
         "4671.11848057438",
         "37298.26109574092",
         "479"
        ],
        [
         "Number of Employees",
         "751.0",
         "651917.0",
         "33798.31732776618",
         "11000.0",
         "64623.661049421156",
         "479"
        ],
        [
         "Workforce Score",
         "9.22528032619776",
         "99.8281786941581",
         "76.00385388814765",
         "80.6620209059233",
         "19.78417346484558",
         "479"
        ]
       ],
       "shape": {
        "columns": 6,
        "rows": 3
       }
      },
      "text/html": [
       "<div>\n",
       "<style scoped>\n",
       "    .dataframe tbody tr th:only-of-type {\n",
       "        vertical-align: middle;\n",
       "    }\n",
       "\n",
       "    .dataframe tbody tr th {\n",
       "        vertical-align: top;\n",
       "    }\n",
       "\n",
       "    .dataframe thead th {\n",
       "        text-align: right;\n",
       "    }\n",
       "</style>\n",
       "<table border=\"1\" class=\"dataframe\">\n",
       "  <thead>\n",
       "    <tr style=\"text-align: right;\">\n",
       "      <th></th>\n",
       "      <th>Min</th>\n",
       "      <th>Max</th>\n",
       "      <th>Mean</th>\n",
       "      <th>Median</th>\n",
       "      <th>Std Dev</th>\n",
       "      <th>Total Observations</th>\n",
       "    </tr>\n",
       "    <tr>\n",
       "      <th>Variable</th>\n",
       "      <th></th>\n",
       "      <th></th>\n",
       "      <th></th>\n",
       "      <th></th>\n",
       "      <th></th>\n",
       "      <th></th>\n",
       "    </tr>\n",
       "  </thead>\n",
       "  <tbody>\n",
       "    <tr>\n",
       "      <th>Company Market Capitalization</th>\n",
       "      <td>46.073889</td>\n",
       "      <td>317967.15035</td>\n",
       "      <td>17009.59028</td>\n",
       "      <td>4671.118481</td>\n",
       "      <td>37298.261096</td>\n",
       "      <td>479</td>\n",
       "    </tr>\n",
       "    <tr>\n",
       "      <th>Number of Employees</th>\n",
       "      <td>751.0</td>\n",
       "      <td>651917.0</td>\n",
       "      <td>33798.317328</td>\n",
       "      <td>11000.0</td>\n",
       "      <td>64623.661049</td>\n",
       "      <td>479</td>\n",
       "    </tr>\n",
       "    <tr>\n",
       "      <th>Workforce Score</th>\n",
       "      <td>9.22528</td>\n",
       "      <td>99.828179</td>\n",
       "      <td>76.003854</td>\n",
       "      <td>80.662021</td>\n",
       "      <td>19.784173</td>\n",
       "      <td>479</td>\n",
       "    </tr>\n",
       "  </tbody>\n",
       "</table>\n",
       "</div>"
      ],
      "text/plain": [
       "                                     Min           Max          Mean  \\\n",
       "Variable                                                               \n",
       "Company Market Capitalization  46.073889  317967.15035   17009.59028   \n",
       "Number of Employees                751.0      651917.0  33798.317328   \n",
       "Workforce Score                  9.22528     99.828179     76.003854   \n",
       "\n",
       "                                    Median       Std Dev  Total Observations  \n",
       "Variable                                                                      \n",
       "Company Market Capitalization  4671.118481  37298.261096                 479  \n",
       "Number of Employees                11000.0  64623.661049                 479  \n",
       "Workforce Score                  80.662021     19.784173                 479  "
      ]
     },
     "execution_count": 121,
     "metadata": {},
     "output_type": "execute_result"
    }
   ],
   "source": [
    "\n",
    "# Select the columns you want\n",
    "cols = [\n",
    "    \"Company Market Capitalization\",\n",
    "    \"Number of Employees\",\n",
    "    \"Workforce Score\"\n",
    "]\n",
    "\n",
    "# Calculate descriptive statistics\n",
    "desc_table = pd.DataFrame({\n",
    "    \"Min\": company_data[cols].min(),\n",
    "    \"Max\": company_data[cols].max(),\n",
    "    \"Mean\": company_data[cols].mean(),\n",
    "    \"Median\": company_data[cols].median(),\n",
    "    \"Std Dev\": company_data[cols].std(),\n",
    "    \"Total Observations\": len(company_data[cols]),\n",
    "})\n",
    "\n",
    "\n",
    "# Optional: Rename index to nice format\n",
    "desc_table.index.name = \"Variable\"\n",
    "\n",
    "# Display table\n",
    "desc_table\n"
   ]
  },
  {
   "cell_type": "code",
   "execution_count": 116,
   "id": "10b17de0",
   "metadata": {},
   "outputs": [
    {
     "name": "stdout",
     "output_type": "stream",
     "text": [
      "                                     Min           Max          Mean  \\\n",
      "Variable                                                               \n",
      "Company Market Capitalization  46.073889  317967.15035   17009.59028   \n",
      "Number of Employees                751.0      651917.0  33798.317328   \n",
      "Workforce Score                  9.22528     99.828179     76.003854   \n",
      "\n",
      "                                    Median       Std Dev  Total Observations  \n",
      "Variable                                                                      \n",
      "Company Market Capitalization  4671.118481  37298.261096                 479  \n",
      "Number of Employees                11000.0  64623.661049                 479  \n",
      "Workforce Score                  80.662021     19.784173                 479  \n"
     ]
    }
   ],
   "source": [
    "print(desc_table)"
   ]
  },
  {
   "cell_type": "markdown",
   "id": "a75022d1",
   "metadata": {},
   "source": [
    "Company Market Capitalization in Million Euros"
   ]
  }
 ],
 "metadata": {
  "kernelspec": {
   "display_name": ".venv",
   "language": "python",
   "name": "python3"
  },
  "language_info": {
   "codemirror_mode": {
    "name": "ipython",
    "version": 3
   },
   "file_extension": ".py",
   "mimetype": "text/x-python",
   "name": "python",
   "nbconvert_exporter": "python",
   "pygments_lexer": "ipython3",
   "version": "3.12.3"
  }
 },
 "nbformat": 4,
 "nbformat_minor": 5
}

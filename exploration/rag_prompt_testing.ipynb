{
 "cells": [
  {
   "cell_type": "markdown",
   "id": "d48b96af",
   "metadata": {},
   "source": [
    "# Testing the prompts for the RAG implementation\n",
    "\n",
    "Purpose of the notebook: test which queries and prompts work best; optionally which embedding models / LLM models, PDF text extraction approaches perform best\n",
    "Evaluate on a manually coded validation set based on three sample reports\n",
    "\n",
    "Evaluate\n",
    "1.  RAG retrieval\n",
    "2.  RAG generation"
   ]
  },
  {
   "cell_type": "markdown",
   "id": "9d7736bb",
   "metadata": {},
   "source": [
    "## Preparation"
   ]
  },
  {
   "cell_type": "code",
   "execution_count": 32,
   "id": "78f47b2c",
   "metadata": {},
   "outputs": [],
   "source": [
    "import pandas as pd\n",
    "import re\n",
    "import urllib3\n",
    "import pymupdf\n",
    "import requests\n",
    "import os\n",
    "import io\n",
    "from langchain.text_splitter import RecursiveCharacterTextSplitter\n",
    "from langchain.vectorstores import FAISS\n",
    "from langchain_openai import OpenAIEmbeddings\n",
    "\n",
    "# import OpenAI API key from environment variable\n",
    "OPENAI_API_KEY = os.getenv(\"OPENAI_API_KEY\")\n",
    "#os.environ[\"OPENAI_API_KEY\"] = os.getenv(\"OPENAI_API_KEY\")"
   ]
  },
  {
   "cell_type": "markdown",
   "id": "696a9482",
   "metadata": {},
   "source": [
    "## 1. Select sample reports\n",
    "Source: Sustainability Reporting Navigator (crowd-source list of CSRD-compliant reports for fiscal years starting on 01/01/2024)\n",
    "\n",
    "Download CSV with information on all reports on the 08/04/2025 https://www.sustainabilityreportingnavigator.com/#/csrdreports "
   ]
  },
  {
   "cell_type": "code",
   "execution_count": 23,
   "id": "73b9d20f",
   "metadata": {},
   "outputs": [
    {
     "name": "stdout",
     "output_type": "stream",
     "text": [
      "277\n"
     ]
    }
   ],
   "source": [
    "# Open the csv data file\n",
    "reports_24 = pd.read_csv('esg_reports_2024.csv')\n",
    "print(len(reports_24))"
   ]
  },
  {
   "cell_type": "code",
   "execution_count": 24,
   "id": "71a989ed",
   "metadata": {},
   "outputs": [
    {
     "data": {
      "application/vnd.microsoft.datawrangler.viewer.v0+json": {
       "columns": [
        {
         "name": "index",
         "rawType": "int64",
         "type": "integer"
        },
        {
         "name": "Unnamed: 0",
         "rawType": "int64",
         "type": "integer"
        },
        {
         "name": "company_withAccessInfo",
         "rawType": "object",
         "type": "string"
        },
        {
         "name": "link",
         "rawType": "object",
         "type": "string"
        },
        {
         "name": "country",
         "rawType": "object",
         "type": "string"
        },
        {
         "name": "sector",
         "rawType": "object",
         "type": "string"
        },
        {
         "name": "industry",
         "rawType": "object",
         "type": "string"
        },
        {
         "name": "publication date",
         "rawType": "object",
         "type": "string"
        },
        {
         "name": "pages PDF",
         "rawType": "int64",
         "type": "integer"
        },
        {
         "name": "auditor",
         "rawType": "object",
         "type": "string"
        }
       ],
       "ref": "37a20887-17b8-4379-bef5-d3e86f9662d9",
       "rows": [
        [
         "220",
         "19",
         "Continental AG",
         "https://annualreport.continental.com/2024/en/service/docs/annual-report-2024-data.pdf",
         "Germany",
         "Transportation",
         "Auto Parts",
         "2025-03-18",
         "125",
         "PwC"
        ],
        [
         "58",
         "266",
         "Schneider Electric*",
         "https://www.se.com/ww/en/assets/564/document/510443/2024-universal-registration-document.pdf?p_enDocType=Financial%20release&p_File_Name=Universal%20Registration%20Document%202024",
         "France",
         "Resource Transformation",
         "Electrical & Electronic Equipment",
         "2025-03-26",
         "186",
         "PwC & Mazars"
        ],
        [
         "89",
         "103",
         "Philips",
         "https://www.results.philips.com/publications/ar24/downloads/files/en/PhilipsFullAnnualReport2024-English.pdf?v%3D20250221111026&sa=D&source=editors&ust=1740414875713543&usg=AOvVaw03JVrsRo5pGqKO9bnEsL-L",
         "Netherlands",
         "Infrastructure",
         "Electric Utilities & Power Generators",
         "2025-02-21",
         "85",
         "EY"
        ]
       ],
       "shape": {
        "columns": 9,
        "rows": 3
       }
      },
      "text/html": [
       "<div>\n",
       "<style scoped>\n",
       "    .dataframe tbody tr th:only-of-type {\n",
       "        vertical-align: middle;\n",
       "    }\n",
       "\n",
       "    .dataframe tbody tr th {\n",
       "        vertical-align: top;\n",
       "    }\n",
       "\n",
       "    .dataframe thead th {\n",
       "        text-align: right;\n",
       "    }\n",
       "</style>\n",
       "<table border=\"1\" class=\"dataframe\">\n",
       "  <thead>\n",
       "    <tr style=\"text-align: right;\">\n",
       "      <th></th>\n",
       "      <th>Unnamed: 0</th>\n",
       "      <th>company_withAccessInfo</th>\n",
       "      <th>link</th>\n",
       "      <th>country</th>\n",
       "      <th>sector</th>\n",
       "      <th>industry</th>\n",
       "      <th>publication date</th>\n",
       "      <th>pages PDF</th>\n",
       "      <th>auditor</th>\n",
       "    </tr>\n",
       "  </thead>\n",
       "  <tbody>\n",
       "    <tr>\n",
       "      <th>220</th>\n",
       "      <td>19</td>\n",
       "      <td>Continental AG</td>\n",
       "      <td>https://annualreport.continental.com/2024/en/s...</td>\n",
       "      <td>Germany</td>\n",
       "      <td>Transportation</td>\n",
       "      <td>Auto Parts</td>\n",
       "      <td>2025-03-18</td>\n",
       "      <td>125</td>\n",
       "      <td>PwC</td>\n",
       "    </tr>\n",
       "    <tr>\n",
       "      <th>58</th>\n",
       "      <td>266</td>\n",
       "      <td>Schneider Electric*</td>\n",
       "      <td>https://www.se.com/ww/en/assets/564/document/5...</td>\n",
       "      <td>France</td>\n",
       "      <td>Resource Transformation</td>\n",
       "      <td>Electrical &amp; Electronic Equipment</td>\n",
       "      <td>2025-03-26</td>\n",
       "      <td>186</td>\n",
       "      <td>PwC &amp; Mazars</td>\n",
       "    </tr>\n",
       "    <tr>\n",
       "      <th>89</th>\n",
       "      <td>103</td>\n",
       "      <td>Philips</td>\n",
       "      <td>https://www.results.philips.com/publications/a...</td>\n",
       "      <td>Netherlands</td>\n",
       "      <td>Infrastructure</td>\n",
       "      <td>Electric Utilities &amp; Power Generators</td>\n",
       "      <td>2025-02-21</td>\n",
       "      <td>85</td>\n",
       "      <td>EY</td>\n",
       "    </tr>\n",
       "  </tbody>\n",
       "</table>\n",
       "</div>"
      ],
      "text/plain": [
       "     Unnamed: 0 company_withAccessInfo  \\\n",
       "220          19         Continental AG   \n",
       "58          266    Schneider Electric*   \n",
       "89          103                Philips   \n",
       "\n",
       "                                                  link      country  \\\n",
       "220  https://annualreport.continental.com/2024/en/s...      Germany   \n",
       "58   https://www.se.com/ww/en/assets/564/document/5...       France   \n",
       "89   https://www.results.philips.com/publications/a...  Netherlands   \n",
       "\n",
       "                      sector                               industry  \\\n",
       "220           Transportation                             Auto Parts   \n",
       "58   Resource Transformation      Electrical & Electronic Equipment   \n",
       "89            Infrastructure  Electric Utilities & Power Generators   \n",
       "\n",
       "    publication date  pages PDF       auditor  \n",
       "220       2025-03-18        125           PwC  \n",
       "58        2025-03-26        186  PwC & Mazars  \n",
       "89        2025-02-21         85            EY  "
      ]
     },
     "execution_count": 24,
     "metadata": {},
     "output_type": "execute_result"
    }
   ],
   "source": [
    "# randomly select 3 reports from 2024\n",
    "sample = reports_24.sample(n=3, random_state=3)\n",
    "sample.head()"
   ]
  },
  {
   "cell_type": "markdown",
   "id": "9812e684",
   "metadata": {},
   "source": [
    "## 2. Manually hand code ground truth\n"
   ]
  },
  {
   "cell_type": "markdown",
   "id": "101386a0",
   "metadata": {},
   "source": [
    "## 3. Evaluate the performance of different approaches\n",
    "\n",
    "### 0 Define baseline approach\n",
    "based on: Ni, J., Bingler, J., Colesanti-Senni, C., Kraus, M., Gostlow, G., Schimanski, T., Stammbach, D., Vaghefi, S. A., Wang, Q., Webersinke, N., Wekhof, T., Yu, T., & Leippold, M. (2023). CHATREPORT: Democratizing Sustainability Disclosure Analysis through LLM-based Tools. Swiss Finance Institute Research Paper, No. 23-111. https://doi.org/10.48550/arXiv.2307.15770\n",
    "\n",
    "- PDF text extraction: MyPuPDF\n",
    "- Embedding model: OpenAI text-embedding-ada-002\n"
   ]
  },
  {
   "cell_type": "code",
   "execution_count": 41,
   "id": "52881b1a",
   "metadata": {},
   "outputs": [],
   "source": [
    "# Code based on Ni et al. (2023)\n",
    "TOP_K = 35\n",
    "CHUNK_SIZE = 500\n",
    "CHUNK_OVERLAP = 20\n",
    "\n",
    "# 1. Load the PDF\n",
    "def load_pdf(path=None, url=None):\n",
    "    assert (path is not None) != (url is not None), \"Either path or url must be provided\"\n",
    "    \n",
    "    if path:\n",
    "        return pymupdf.open(path)\n",
    "    else:\n",
    "        response = requests.get(url)\n",
    "        pdf_bytes = io.BytesIO(response.content)\n",
    "        return pymupdf.open(stream=pdf_bytes, filetype='pdf')\n",
    "    \n",
    "# 2. Extract text from the PDF\n",
    "def extract_text(pdf):\n",
    "    text_list = [page.get_text() for page in pdf]\n",
    "    all_text = ''.join(text_list)\n",
    "    return text_list, all_text\n",
    "\n",
    "# 4. Create or Load Vector Store\n",
    "def get_retriever(pdf, db_path, top_k=TOP_K):\n",
    "    embeddings = OpenAIEmbeddings()\n",
    "    text_splitter = RecursiveCharacterTextSplitter(\n",
    "        chunk_size=CHUNK_SIZE,\n",
    "        chunk_overlap=CHUNK_OVERLAP,\n",
    "        length_function=len,\n",
    "        separators=[\"\\n\\n\", \"\\n\", \" \"],\n",
    "    )\n",
    "\n",
    "    chunks = []\n",
    "    page_idx = []\n",
    "\n",
    "    for i, page in enumerate(pdf):\n",
    "        page_chunks = text_splitter.split_text(page.get_text())\n",
    "        page_idx.extend([i + 1] * len(page_chunks))\n",
    "        chunks.extend(page_chunks)\n",
    "\n",
    "    if os.path.exists(db_path):\n",
    "        doc_search = FAISS.load_local(db_path, embeddings=embeddings, allow_dangerous_deserialization=True)\n",
    "    else:\n",
    "        doc_search = FAISS.from_texts(\n",
    "            chunks,\n",
    "            embeddings,\n",
    "            metadatas=[{\"source\": str(i), \"page\": str(idx)} for i, idx in enumerate(page_idx)]\n",
    "        )\n",
    "        doc_search.save_local(db_path)\n",
    "\n",
    "    retriever = doc_search.as_retriever(search_kwargs={\"k\": top_k})\n",
    "    return retriever, doc_search\n",
    "\n",
    "# 5. Retrieve relevant chunks\n",
    "def retrieve_chunks(retriever, queries):\n",
    "    section_text_dict = {}\n",
    "\n",
    "    for key, prompts in queries.items():\n",
    "        if key == 'general' and isinstance(prompts, list):\n",
    "            combined_docs = []\n",
    "            for prompt in prompts:\n",
    "                combined_docs.extend(retriever.invoke(prompt)[:5])\n",
    "            section_text_dict[key] = combined_docs\n",
    "        else:\n",
    "            section_text_dict[key] = retriever.invoke(prompts)\n",
    "    \n",
    "    return section_text_dict"
   ]
  },
  {
   "cell_type": "code",
   "execution_count": 27,
   "id": "f0304adf",
   "metadata": {},
   "outputs": [],
   "source": [
    "# Defined retrieval queries based on the ESRS S1 requirements\n",
    "\n",
    "QUERIES = {\n",
    "    #'general': [\"What is the company of the report?\", \"What sector does the company belong to?\", \"Where is the company located?\"],\n",
    "    'S1_A': \"What are the material risks and opportunities arising from the company’s impacts and dependencies on people in its own workforce?\",\n",
    "    'S1_B': \"What are the material impacts on the company’s own workforce, who is affected, and how are these impacts managed?\",\n",
    "    'S1_C': \"How does the company identify, prevent, and address negative impacts on its own workforce and how is affected by them?\",\n",
    "    'S1_D': \"What are the company’s material positive impacts on its own workforce, and who benefits from them?\",\n",
    "    'S1_E': \"What are the company’s human rights and labor rights commitments for its own workforce, what violations have occured, how were they managed? Which operations are considered at significant risk for human rights violations such as forced labor, child labor, or trafficking?\",\n",
    "    'S1_F': \"How does the company manage workplace accident prevention?\",\n",
    "    'S1_G': \"What policies does the company have in place to eliminate discrimination and promote diversity and inclusion within its own workforce, and how are these policies implemented and enforced?\",\n",
    "    'S1_H': \"When and how does the company engage with its own workforce or their representatives in decision-making processes and who in the organization is responsible that engagement influences strategy and operations? How does the company assess the effectiveness of its workforce engagement practices?\",\n",
    "    'S1_I': \"Has the company taken any actions to provide or enable remedy for negative impacts on its own workforce, and how does it ensure that such remedies are appropriate and effective?\",\n",
    "    'S1_J': \"What channels are available for people in the company’s own workforce to raise concerns or needs, how are these channels supported, protected, and monitored?\",\n",
    "    'S1_K': \"How does the company ensure that its employees receive adequate wages?\",\n",
    "    'S1_L': \"To what extent does the company’s own workforce receive social protection, and how does the company address employees who are not yet covered by such protections?\",\n",
    "}"
   ]
  },
  {
   "cell_type": "code",
   "execution_count": 42,
   "id": "41e84b7b",
   "metadata": {},
   "outputs": [
    {
     "name": "stdout",
     "output_type": "stream",
     "text": [
      "\n",
      "Processing: ContinentalAG_2024\n",
      "\n",
      "Processing: SchneiderElectric_2024\n",
      "\n",
      "Processing: Philips_2024\n"
     ]
    }
   ],
   "source": [
    "# Now apply the functions to the 3 sampled reports\n",
    "all_results = {}\n",
    "\n",
    "def prepare_filename(name):\n",
    "    return re.sub(r'[\\\\/*?:\"<>|]', \"\", name)\n",
    "\n",
    "for idx, row in sample.iterrows():\n",
    "    filename = f\"{prepare_filename(row['company_withAccessInfo'])}_2024\"\n",
    "    filename = filename.replace(\" \", \"\")\n",
    "    print(f\"\\nProcessing: {filename}\")\n",
    "\n",
    "    try:\n",
    "        PATH = f\"./sample_reports/{filename}.pdf\"\n",
    "        pdf = load_pdf(path=PATH) \n",
    "        text_list, all_text = extract_text(pdf)\n",
    "        DB_PATH = f\"./faiss_db_OpenAI/{filename}\"\n",
    "        retriever, doc_search = get_retriever(pdf, db_path=DB_PATH)\n",
    "        results = retrieve_chunks(retriever, queries=QUERIES)\n",
    "        all_results[filename] = results\n",
    "    \n",
    "    except Exception as e:\n",
    "        print(f\"Error processing {row['company_withAccessInfo']}: {e}\")\n"
   ]
  },
  {
   "cell_type": "markdown",
   "id": "6244c120",
   "metadata": {},
   "source": [
    "Note: Ressorces needed for 3 reports\n",
    "- Time: 1.5 min (--> 13 h for 500 reports)\n",
    "- Costs: 0.2 Dollar (--> 100$ for 500 reports)"
   ]
  },
  {
   "cell_type": "code",
   "execution_count": 47,
   "id": "59152a9e",
   "metadata": {},
   "outputs": [],
   "source": [
    "# save results\n",
    "results_df = pd.DataFrame.from_dict(all_results, orient='index')\n",
    "results_df.to_csv('retrieval_results_0_OpenAI.csv', index=True)"
   ]
  },
  {
   "cell_type": "code",
   "execution_count": 48,
   "id": "cba42403",
   "metadata": {},
   "outputs": [],
   "source": [
    "# read in the results\n",
    "retrieval_results = pd.read_csv('retrieval_results_0_OpenAI.csv', index_col=0)"
   ]
  }
 ],
 "metadata": {
  "kernelspec": {
   "display_name": ".venv",
   "language": "python",
   "name": "python3"
  },
  "language_info": {
   "codemirror_mode": {
    "name": "ipython",
    "version": 3
   },
   "file_extension": ".py",
   "mimetype": "text/x-python",
   "name": "python",
   "nbconvert_exporter": "python",
   "pygments_lexer": "ipython3",
   "version": "3.12.3"
  }
 },
 "nbformat": 4,
 "nbformat_minor": 5
}

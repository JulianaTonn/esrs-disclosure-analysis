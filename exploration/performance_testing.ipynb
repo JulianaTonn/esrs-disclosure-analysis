{
 "cells": [
  {
   "cell_type": "markdown",
   "id": "d48b96af",
   "metadata": {},
   "source": [
    "# Testing the RAG implementation\n",
    "\n",
    "Purpose of the notebook: test which retrieval queries and generation prompts work best, which embedding models / LLM models, PDF text extraction approaches perform best\n",
    "Evaluate on a manually coded validation set based on three sample reports\n",
    "\n",
    "Evaluate\n",
    "1.  RAG retrieval\n",
    "2.  RAG generation"
   ]
  },
  {
   "cell_type": "markdown",
   "id": "9d7736bb",
   "metadata": {},
   "source": [
    "## Preparation"
   ]
  },
  {
   "cell_type": "code",
   "execution_count": 1,
   "id": "78f47b2c",
   "metadata": {},
   "outputs": [
    {
     "name": "stderr",
     "output_type": "stream",
     "text": [
      "[nltk_data] Downloading package punkt to\n",
      "[nltk_data]     C:\\Users\\julia\\AppData\\Roaming\\nltk_data...\n",
      "[nltk_data]   Package punkt is already up-to-date!\n",
      "[nltk_data] Downloading package punkt_tab to\n",
      "[nltk_data]     C:\\Users\\julia\\AppData\\Roaming\\nltk_data...\n",
      "[nltk_data]   Package punkt_tab is already up-to-date!\n"
     ]
    }
   ],
   "source": [
    "import pandas as pd\n",
    "import matplotlib.pyplot as plt\n",
    "import seaborn as sns\n",
    "import numpy as np\n",
    "import time\n",
    "from thefuzz import process, fuzz\n",
    "import re\n",
    "import urllib3\n",
    "import pymupdf\n",
    "import requests\n",
    "import os\n",
    "import io\n",
    "from langchain.text_splitter import RecursiveCharacterTextSplitter\n",
    "from langchain.vectorstores import FAISS\n",
    "from langchain_openai import OpenAIEmbeddings\n",
    "from langchain_huggingface import HuggingFaceEmbeddings\n",
    "\n",
    "\n",
    "import nltk\n",
    "from nltk.tokenize import sent_tokenize\n",
    "nltk.download('punkt')\n",
    "nltk.download('punkt_tab')\n",
    "\n",
    "# import OpenAI API key from environment variable\n",
    "OPENAI_API_KEY = os.getenv(\"OPENAI_API_KEY\")"
   ]
  },
  {
   "cell_type": "markdown",
   "id": "696a9482",
   "metadata": {},
   "source": [
    "## 1. Select sample reports\n",
    "Source: Sustainability Reporting Navigator (crowd-source list of CSRD-compliant reports for fiscal years starting on 01/01/2024)\n",
    "\n",
    "Download CSV with information on all reports on the 08/04/2025 https://www.sustainabilityreportingnavigator.com/#/csrdreports "
   ]
  },
  {
   "cell_type": "code",
   "execution_count": 2,
   "id": "73b9d20f",
   "metadata": {},
   "outputs": [
    {
     "name": "stdout",
     "output_type": "stream",
     "text": [
      "277\n"
     ]
    }
   ],
   "source": [
    "# Open the csv data file\n",
    "reports_24 = pd.read_csv('esg_reports_2024.csv')\n",
    "print(len(reports_24))"
   ]
  },
  {
   "cell_type": "code",
   "execution_count": 3,
   "id": "71a989ed",
   "metadata": {},
   "outputs": [
    {
     "data": {
      "application/vnd.microsoft.datawrangler.viewer.v0+json": {
       "columns": [
        {
         "name": "index",
         "rawType": "int64",
         "type": "integer"
        },
        {
         "name": "Unnamed: 0",
         "rawType": "int64",
         "type": "integer"
        },
        {
         "name": "company_withAccessInfo",
         "rawType": "object",
         "type": "string"
        },
        {
         "name": "link",
         "rawType": "object",
         "type": "string"
        },
        {
         "name": "country",
         "rawType": "object",
         "type": "string"
        },
        {
         "name": "sector",
         "rawType": "object",
         "type": "string"
        },
        {
         "name": "industry",
         "rawType": "object",
         "type": "string"
        },
        {
         "name": "publication date",
         "rawType": "object",
         "type": "string"
        },
        {
         "name": "pages PDF",
         "rawType": "int64",
         "type": "integer"
        },
        {
         "name": "auditor",
         "rawType": "object",
         "type": "string"
        }
       ],
       "ref": "860713b3-acf1-45c7-9527-c6783a20dda0",
       "rows": [
        [
         "220",
         "19",
         "Continental AG",
         "https://annualreport.continental.com/2024/en/service/docs/annual-report-2024-data.pdf",
         "Germany",
         "Transportation",
         "Auto Parts",
         "2025-03-18",
         "125",
         "PwC"
        ],
        [
         "58",
         "266",
         "Schneider Electric*",
         "https://www.se.com/ww/en/assets/564/document/510443/2024-universal-registration-document.pdf?p_enDocType=Financial%20release&p_File_Name=Universal%20Registration%20Document%202024",
         "France",
         "Resource Transformation",
         "Electrical & Electronic Equipment",
         "2025-03-26",
         "186",
         "PwC & Mazars"
        ],
        [
         "89",
         "103",
         "Philips",
         "https://www.results.philips.com/publications/ar24/downloads/files/en/PhilipsFullAnnualReport2024-English.pdf?v%3D20250221111026&sa=D&source=editors&ust=1740414875713543&usg=AOvVaw03JVrsRo5pGqKO9bnEsL-L",
         "Netherlands",
         "Infrastructure",
         "Electric Utilities & Power Generators",
         "2025-02-21",
         "85",
         "EY"
        ]
       ],
       "shape": {
        "columns": 9,
        "rows": 3
       }
      },
      "text/html": [
       "<div>\n",
       "<style scoped>\n",
       "    .dataframe tbody tr th:only-of-type {\n",
       "        vertical-align: middle;\n",
       "    }\n",
       "\n",
       "    .dataframe tbody tr th {\n",
       "        vertical-align: top;\n",
       "    }\n",
       "\n",
       "    .dataframe thead th {\n",
       "        text-align: right;\n",
       "    }\n",
       "</style>\n",
       "<table border=\"1\" class=\"dataframe\">\n",
       "  <thead>\n",
       "    <tr style=\"text-align: right;\">\n",
       "      <th></th>\n",
       "      <th>Unnamed: 0</th>\n",
       "      <th>company_withAccessInfo</th>\n",
       "      <th>link</th>\n",
       "      <th>country</th>\n",
       "      <th>sector</th>\n",
       "      <th>industry</th>\n",
       "      <th>publication date</th>\n",
       "      <th>pages PDF</th>\n",
       "      <th>auditor</th>\n",
       "    </tr>\n",
       "  </thead>\n",
       "  <tbody>\n",
       "    <tr>\n",
       "      <th>220</th>\n",
       "      <td>19</td>\n",
       "      <td>Continental AG</td>\n",
       "      <td>https://annualreport.continental.com/2024/en/s...</td>\n",
       "      <td>Germany</td>\n",
       "      <td>Transportation</td>\n",
       "      <td>Auto Parts</td>\n",
       "      <td>2025-03-18</td>\n",
       "      <td>125</td>\n",
       "      <td>PwC</td>\n",
       "    </tr>\n",
       "    <tr>\n",
       "      <th>58</th>\n",
       "      <td>266</td>\n",
       "      <td>Schneider Electric*</td>\n",
       "      <td>https://www.se.com/ww/en/assets/564/document/5...</td>\n",
       "      <td>France</td>\n",
       "      <td>Resource Transformation</td>\n",
       "      <td>Electrical &amp; Electronic Equipment</td>\n",
       "      <td>2025-03-26</td>\n",
       "      <td>186</td>\n",
       "      <td>PwC &amp; Mazars</td>\n",
       "    </tr>\n",
       "    <tr>\n",
       "      <th>89</th>\n",
       "      <td>103</td>\n",
       "      <td>Philips</td>\n",
       "      <td>https://www.results.philips.com/publications/a...</td>\n",
       "      <td>Netherlands</td>\n",
       "      <td>Infrastructure</td>\n",
       "      <td>Electric Utilities &amp; Power Generators</td>\n",
       "      <td>2025-02-21</td>\n",
       "      <td>85</td>\n",
       "      <td>EY</td>\n",
       "    </tr>\n",
       "  </tbody>\n",
       "</table>\n",
       "</div>"
      ],
      "text/plain": [
       "     Unnamed: 0 company_withAccessInfo  \\\n",
       "220          19         Continental AG   \n",
       "58          266    Schneider Electric*   \n",
       "89          103                Philips   \n",
       "\n",
       "                                                  link      country  \\\n",
       "220  https://annualreport.continental.com/2024/en/s...      Germany   \n",
       "58   https://www.se.com/ww/en/assets/564/document/5...       France   \n",
       "89   https://www.results.philips.com/publications/a...  Netherlands   \n",
       "\n",
       "                      sector                               industry  \\\n",
       "220           Transportation                             Auto Parts   \n",
       "58   Resource Transformation      Electrical & Electronic Equipment   \n",
       "89            Infrastructure  Electric Utilities & Power Generators   \n",
       "\n",
       "    publication date  pages PDF       auditor  \n",
       "220       2025-03-18        125           PwC  \n",
       "58        2025-03-26        186  PwC & Mazars  \n",
       "89        2025-02-21         85            EY  "
      ]
     },
     "execution_count": 3,
     "metadata": {},
     "output_type": "execute_result"
    }
   ],
   "source": [
    "# randomly select 3 reports from 2024\n",
    "sample = reports_24.sample(n=3, random_state=3)\n",
    "sample.head()"
   ]
  },
  {
   "cell_type": "markdown",
   "id": "9812e684",
   "metadata": {},
   "source": [
    "## 2. Manually hand code ground truth = validation set"
   ]
  },
  {
   "cell_type": "code",
   "execution_count": null,
   "id": "22270666",
   "metadata": {},
   "outputs": [
    {
     "name": "stdout",
     "output_type": "stream",
     "text": [
      "          report_name query  \\\n",
      "0  ContinentalAG_2024  S1_F   \n",
      "1  ContinentalAG_2024  S1_F   \n",
      "2  ContinentalAG_2024  S1_F   \n",
      "3  ContinentalAG_2024  S1_F   \n",
      "4  ContinentalAG_2024  S1_F   \n",
      "\n",
      "                                                text page_number  \n",
      "0  Occupational safety and health\\nContinental ha...    181, 182  \n",
      "1  Occupational safety and health\\nContinental op...         174  \n",
      "2  This section describes the management approach...         176  \n",
      "3  Occupational safety and health\\nAs part of the...         189  \n",
      "4  Substances of concern and very high concern\\nC...         153  \n"
     ]
    }
   ],
   "source": [
    "validation_set = pd.read_excel('validation_dataset.xlsx')\n",
    "print(validation_set.head())"
   ]
  },
  {
   "cell_type": "code",
   "execution_count": null,
   "id": "1cc18e84",
   "metadata": {},
   "outputs": [
    {
     "name": "stdout",
     "output_type": "stream",
     "text": [
      "query  report_name           \n",
      "S1_A   ContinentalAG_2024        14\n",
      "       SchneiderElectric_2024     4\n",
      "S1_B   ContinentalAG_2024        12\n",
      "S1_C   ContinentalAG_2024        26\n",
      "S1_D   ContinentalAG_2024        19\n",
      "S1_E   ContinentalAG_2024        19\n",
      "S1_F   ContinentalAG_2024        11\n",
      "       SchneiderElectric_2024    17\n",
      "S1_G   ContinentalAG_2024        12\n",
      "       SchneiderElectric_2024    24\n",
      "S1_H   ContinentalAG_2024        23\n",
      "       SchneiderElectric_2024    10\n",
      "S1_I   ContinentalAG_2024         4\n",
      "       SchneiderElectric_2024     1\n",
      "S1_J   ContinentalAG_2024        12\n",
      "       SchneiderElectric_2024    20\n",
      "S1_K   ContinentalAG_2024        12\n",
      "       SchneiderElectric_2024    14\n",
      "S1_L   ContinentalAG_2024         5\n",
      "       SchneiderElectric_2024     8\n",
      "dtype: int64\n"
     ]
    }
   ],
   "source": [
    "# print how many text chunks per query, per report name\n",
    "print(validation_set.groupby(['query', 'report_name' ]).size())"
   ]
  },
  {
   "cell_type": "code",
   "execution_count": 6,
   "id": "7fa62422",
   "metadata": {},
   "outputs": [
    {
     "data": {
      "text/plain": [
       "Text(0.5, 1.0, 'Distribution of Text Chunk Lengths (Characters)')"
      ]
     },
     "execution_count": 6,
     "metadata": {},
     "output_type": "execute_result"
    },
    {
     "data": {
      "image/png": "[encoded data removed]",
      "text/plain": [
       "<Figure size 640x480 with 1 Axes>"
      ]
     },
     "metadata": {},
     "output_type": "display_data"
    }
   ],
   "source": [
    "# graph the number of characters per text chunk\n",
    "validation_set['text_length'] = validation_set['text'].apply(lambda x: len(x))\n",
    "validation_set['text_length'].hist(bins=50)\n",
    "plt.title('Distribution of Text Chunk Lengths (Characters)')"
   ]
  },
  {
   "cell_type": "code",
   "execution_count": 18,
   "id": "b5c4382f",
   "metadata": {},
   "outputs": [
    {
     "name": "stderr",
     "output_type": "stream",
     "text": [
      "C:\\Users\\julia\\AppData\\Local\\Temp\\ipykernel_20448\\3170922132.py:14: UserWarning: No artists with labels found to put in legend.  Note that artists whose label start with an underscore are ignored when legend() is called with no argument.\n",
      "  plt.legend(title='Report Name')\n"
     ]
    },
    {
     "data": {
      "image/png": "[encoded data removed]",
      "text/plain": [
       "<Figure size 1000x600 with 1 Axes>"
      ]
     },
     "metadata": {},
     "output_type": "display_data"
    }
   ],
   "source": [
    "# Compute text lengths\n",
    "validation_set['text_length'] = validation_set['text'].apply(len)\n",
    "\n",
    "# Set up the figure\n",
    "plt.figure(figsize=(10, 6))\n",
    "\n",
    "# Use seaborn to plot the histogram by report_name\n",
    "sns.histplot(data=validation_set, x='text_length', hue='report_name', bins=50, kde=False, multiple='stack')\n",
    "\n",
    "# Customize the plot\n",
    "plt.title('Distribution of Text Chunk Lengths by Report Name')\n",
    "plt.xlabel('Text Length (Characters)')\n",
    "plt.ylabel('Count')\n",
    "plt.legend(title='Report Name')\n",
    "plt.tight_layout()\n",
    "plt.show()"
   ]
  },
  {
   "cell_type": "markdown",
   "id": "101386a0",
   "metadata": {},
   "source": [
    "## 3. Evaluate the performance of different approaches\n"
   ]
  },
  {
   "cell_type": "markdown",
   "id": "794fd0b0",
   "metadata": {},
   "source": [
    "1. Approach: Compare on sentence level whether ground truth sentences are as a whole retrieved"
   ]
  },
  {
   "cell_type": "code",
   "execution_count": 42,
   "id": "fe53a528",
   "metadata": {},
   "outputs": [
    {
     "name": "stdout",
     "output_type": "stream",
     "text": [
      "{'It is in line with the principle of equal pay for equal work.'}\n"
     ]
    }
   ],
   "source": [
    "ground_truth_sentences = set(['Equal pay /nFair and equitable pay is a core component of the Group’s compensation philosophy.',\n",
    "                            'It is in line with the principle of equal pay for equal work.',\n",
    "                            '100 % of Schneider are paid /nat least a living wage, which /nwas recognized for the /nsecond consecutive year by /nthe Living Wage Employer /nCertification from Fair /nWage Network.'])\n",
    "retrieved_sentences = set(['Fair and equitable pay is a core component of the Group’s compensation philosophy.',\n",
    "                           'It is in line with the principle of equal pay for equal work.',\n",
    "                           '100 % of Schneider are paid /nat least a living wage, which /nwas recognized for the /nsecond consecutive year'])\n",
    "\n",
    "found_ground_truth_sentences = set()\n",
    "for sentence in retrieved_sentences:\n",
    "    if sentence in ground_truth_sentences:\n",
    "        found_ground_truth_sentences.add(sentence)\n",
    "\n",
    "print(found_ground_truth_sentences)"
   ]
  },
  {
   "cell_type": "markdown",
   "id": "c3d1b310",
   "metadata": {},
   "source": [
    "This approach is very restrictive and cause for lower scores whenever the cunk size abbreviates sentences, eventhough the LLM could still understand the meaning.\n",
    "\n",
    "2. Approach fuzzy string matching\n"
   ]
  },
  {
   "cell_type": "code",
   "execution_count": 45,
   "id": "a312d4e4",
   "metadata": {},
   "outputs": [
    {
     "name": "stdout",
     "output_type": "stream",
     "text": [
      "Score: 93, Retrieved sentence: 'Fair and equitable pay is a core component of the Group’s compensation philosophy.', Found match: 'Equal pay /nFair and equitable pay is a core component of the Group’s compensation philosophy.'\n",
      "Score: 100, Retrieved sentence: 'It is in line with the principle of equal pay for equal work.', Found match: 'It is in line with the principle of equal pay for equal work.'\n"
     ]
    }
   ],
   "source": [
    "found_matches = 0\n",
    "for sentence in retrieved_sentences:\n",
    "    best_match, score = process.extractOne(sentence, ground_truth_sentences, scorer=fuzz.ratio)\n",
    "    if score > 80:\n",
    "        found_matches += 1\n",
    "        print(f\"Score: {score}, Retrieved sentence: '{sentence}', Found match: '{best_match}'\")"
   ]
  },
  {
   "cell_type": "code",
   "execution_count": null,
   "id": "fb5f2b3d",
   "metadata": {},
   "outputs": [],
   "source": [
    "def evaluate_retrieval_sentence_level(retrieved_docs, ground_truth_texts):\n",
    "    \"\"\"\n",
    "    Evaluates retrieval performance on a sentence level using fuzzy string matching.\n",
    "\n",
    "    Args:\n",
    "        retrieved_docs (list): A list of Document objects retrieved by LangChain.\n",
    "        ground_truth_texts (list): A list of ground-truth text snippets from the validation set.\n",
    "        score_threshold (int): The similarity score (0-100) required to consider a sentence a match.\n",
    "\n",
    "    Returns:\n",
    "        dict: A dictionary containing precision, recall, and f1-score.\n",
    "    \"\"\"\n",
    "    # 1. Extract all ground-truth and retrieved sentences\n",
    "    all_ground_truth_sentences = set()\n",
    "    for text in ground_truth_texts:\n",
    "        sentences = sent_tokenize(text)\n",
    "        all_ground_truth_sentences.update([s.strip() for s in sentences if s.strip()])\n",
    "\n",
    "    if not all_ground_truth_sentences:\n",
    "        return {\"precision\": None, \"recall\": None, \"f1\": None}\n",
    "\n",
    "    all_retrieved_sentences = set()\n",
    "    for doc in retrieved_docs:\n",
    "        chunk_sentences = sent_tokenize(doc.page_content)\n",
    "        all_retrieved_sentences.update([s.strip() for s in chunk_sentences if s.strip()])\n",
    "\n",
    "    if not all_retrieved_sentences:\n",
    "        return {\"precision\": 0.0, \"recall\": 0.0, \"f1\": 0.0}\n",
    "    \n",
    "    # 2. For each retrieved sentence, find its best match in the ground truth sentences.\n",
    "    found_matches = 0\n",
    "    for retrieved_sentence in all_retrieved_sentences:\n",
    "        # process.extractOne finds the best matching string from a collection.\n",
    "        # It returns a tuple: (best_match_string, score)\n",
    "        best_match, score = process.extractOne(\n",
    "            retrieved_sentence, \n",
    "            all_ground_truth_sentences, \n",
    "            scorer=fuzz.ratio\n",
    "        )\n",
    "        \n",
    "        # If the best match has a score above our threshold, we count it as a successful find.\n",
    "        if score >= 80:\n",
    "            found_matches += 1\n",
    "\n",
    "    # 3. Calculate metrics based on the fuzzy matches.\n",
    "    true_positives = found_matches\n",
    "    \n",
    "    # Precision = (Relevant sentences found) / (Total sentences retrieved)\n",
    "    precision = true_positives / len(all_retrieved_sentences) if all_retrieved_sentences else 0.0\n",
    "    \n",
    "    # Recall = (Relevant sentences found) / (Total relevant sentences that exist)\n",
    "    recall = true_positives / len(all_ground_truth_sentences) if all_ground_truth_sentences else 0.0\n",
    "    \n",
    "    f1 = 2 * (precision * recall) / (precision + recall) if (precision + recall) > 0 else 0.0\n",
    "\n",
    "    return {\"precision\": precision, \"recall\": recall, \"f1\": f1}"
   ]
  },
  {
   "cell_type": "code",
   "execution_count": 47,
   "id": "5821d2cc",
   "metadata": {},
   "outputs": [],
   "source": [
    "def evaluate_retrieval(retrieval_results):\n",
    "    \"\"\"\n",
    "    Evaluates the retrieval performance of a LangChain vector store against a validation set.\n",
    "\n",
    "    Args:\n",
    "        retrieval_results (list): A list of Document objects retrieved by LangChain.\n",
    "\n",
    "    Returns:\n",
    "        dict: A dictionary containing precision, recall, and f1-score.\n",
    "    \"\"\"\n",
    "    evaluation_results_all = []\n",
    "    \n",
    "    for report_name, queries_results in retrieval_results.items():\n",
    "        for query_key, retrieved_documents in queries_results.items():\n",
    "\n",
    "            # Get the corresponding ground-truth texts from the validation set\n",
    "            gt_texts = validation_set[\n",
    "                (validation_set['report_name'] == report_name) & \n",
    "                (validation_set['query'] == query_key)\n",
    "            ]['text'].tolist()\n",
    "\n",
    "            if not gt_texts:\n",
    "                continue\n",
    "\n",
    "            # Evaluate the retrieval performance\n",
    "            scores = evaluate_retrieval_sentence_level(\n",
    "                retrieved_docs=retrieved_documents,\n",
    "                ground_truth_texts=gt_texts\n",
    "            )\n",
    "\n",
    "            evaluation_results_all.append({\n",
    "                \"report_name\": report_name,\n",
    "                \"query\": query_key,\n",
    "                **scores\n",
    "            })\n",
    "\n",
    "    evaluation_results_mean = pd.DataFrame(evaluation_results_all).groupby(['query'])[['precision', 'recall', 'f1']].mean().reset_index()\n",
    "    overall_mean = evaluation_results_mean[['precision', 'recall', 'f1']].mean()\n",
    "    evaluation_results_mean.loc['Overall Mean'] = overall_mean\n",
    "\n",
    "    print(\"--- Retrieval Performance Summary ---\")\n",
    "    print(evaluation_results_mean.round(3))"
   ]
  },
  {
   "cell_type": "markdown",
   "id": "e5c5fc9c",
   "metadata": {},
   "source": [
    "### 0: Baseline approach based on Ni et al. (2023)\n",
    "based on: Ni, J., Bingler, J., Colesanti-Senni, C., Kraus, M., Gostlow, G., Schimanski, T., Stammbach, D., Vaghefi, S. A., Wang, Q., Webersinke, N., Wekhof, T., Yu, T., & Leippold, M. (2023). CHATREPORT: Democratizing Sustainability Disclosure Analysis through LLM-based Tools. Swiss Finance Institute Research Paper, No. 23-111. https://doi.org/10.48550/arXiv.2307.15770\n",
    "\n",
    "- PDF text extraction: MyPuPDF\n",
    "- Retrieval:\n",
    "    - Embedding model: OpenAI text-embedding-ada-002\n",
    "    - top k: 20\n",
    "    - chunk size: 500\n",
    "    - chunk overlap: 20"
   ]
  },
  {
   "cell_type": "code",
   "execution_count": 48,
   "id": "52881b1a",
   "metadata": {},
   "outputs": [],
   "source": [
    "# Code based on Ni et al. (2023)\n",
    "TOP_K = 20\n",
    "CHUNK_SIZE = 500\n",
    "CHUNK_OVERLAP = 20\n",
    "\n",
    "# 1. Load the PDF\n",
    "def load_pdf(path=None, url=None):\n",
    "    assert (path is not None) != (url is not None), \"Either path or url must be provided\"\n",
    "    \n",
    "    if path:\n",
    "        return pymupdf.open(path)\n",
    "    else:\n",
    "        response = requests.get(url)\n",
    "        pdf_bytes = io.BytesIO(response.content)\n",
    "        return pymupdf.open(stream=pdf_bytes, filetype='pdf')\n",
    "    \n",
    "# 2. Extract text from the PDF\n",
    "def extract_text(pdf):\n",
    "    text_list = [page.get_text() for page in pdf]\n",
    "    all_text = ''.join(text_list)\n",
    "    return text_list, all_text\n",
    "\n",
    "# 4. Create or Load Vector Store\n",
    "def get_retriever(pdf, db_path, top_k=TOP_K):\n",
    "    embeddings = OpenAIEmbeddings()\n",
    "    text_splitter = RecursiveCharacterTextSplitter(\n",
    "        chunk_size=CHUNK_SIZE,\n",
    "        chunk_overlap=CHUNK_OVERLAP,\n",
    "        length_function=len,\n",
    "        separators=[\"\\n\\n\", \"\\n\", \" \"],\n",
    "    )\n",
    "\n",
    "    chunks = []\n",
    "    page_idx = []\n",
    "\n",
    "    for i, page in enumerate(pdf):\n",
    "        page_chunks = text_splitter.split_text(page.get_text())\n",
    "        page_idx.extend([i + 1] * len(page_chunks))\n",
    "        chunks.extend(page_chunks)\n",
    "\n",
    "    if os.path.exists(db_path):\n",
    "        doc_search = FAISS.load_local(db_path, embeddings=embeddings, allow_dangerous_deserialization=True)\n",
    "    else:\n",
    "        doc_search = FAISS.from_texts(\n",
    "            chunks,\n",
    "            embeddings,\n",
    "            metadatas=[{\"source\": str(i), \"page\": str(idx)} for i, idx in enumerate(page_idx)]\n",
    "        )\n",
    "        doc_search.save_local(db_path)\n",
    "\n",
    "    retriever = doc_search.as_retriever(search_kwargs={\"k\": top_k})\n",
    "    return retriever, doc_search\n",
    "\n",
    "# 5. Retrieve relevant chunks\n",
    "def retrieve_chunks(retriever, queries):\n",
    "    section_text_dict = {}\n",
    "\n",
    "    for key, prompts in queries.items():\n",
    "        if key == 'general' and isinstance(prompts, list):\n",
    "            combined_docs = []\n",
    "            for prompt in prompts:\n",
    "                combined_docs.extend(retriever.invoke(prompt)[:5])\n",
    "            section_text_dict[key] = combined_docs\n",
    "        else:\n",
    "            section_text_dict[key] = retriever.invoke(prompts)\n",
    "    \n",
    "    return section_text_dict\n",
    "\n",
    "# for preparing filenames\n",
    "def prepare_filename(name):\n",
    "    return re.sub(r'[\\\\/*?:\"<>|]', \"\", name)"
   ]
  },
  {
   "cell_type": "code",
   "execution_count": 49,
   "id": "f0304adf",
   "metadata": {},
   "outputs": [],
   "source": [
    "# Defined retrieval queries based on the ESRS S1 requirements\n",
    "\n",
    "QUERIES = {\n",
    "    #'general': [\"What is the company of the report?\", \"What sector does the company belong to?\", \"Where is the company located?\"],\n",
    "    'S1_A': \"What are the material risks and opportunities arising from the company’s impacts and dependencies on people in its own workforce?\",\n",
    "    'S1_B': \"What are the material impacts on the company’s own workforce, who is affected, and how are these impacts managed?\",\n",
    "    'S1_C': \"How does the company identify, prevent, and address negative impacts on its own workforce and how is affected by them?\",\n",
    "    'S1_D': \"What are the company’s material positive impacts on its own workforce, and who benefits from them?\",\n",
    "    'S1_E': \"What are the company’s human rights and labor rights commitments for its own workforce, what violations have occured, how were they managed? Which operations are considered at significant risk for human rights violations such as forced labor, child labor, or trafficking?\",\n",
    "    'S1_F': \"How does the company manage workplace accident prevention?\",\n",
    "    'S1_G': \"What policies does the company have in place to eliminate discrimination and promote diversity and inclusion within its own workforce, and how are these policies implemented and enforced?\",\n",
    "    'S1_H': \"When and how does the company engage with its own workforce or their representatives in decision-making processes and who in the organization is responsible that engagement influences strategy and operations? How does the company assess the effectiveness of its workforce engagement practices?\",\n",
    "    'S1_I': \"Has the company taken any actions to provide or enable remedy for negative impacts on its own workforce, and how does it ensure that such remedies are appropriate and effective?\",\n",
    "    'S1_J': \"What channels are available for people in the company’s own workforce to raise concerns or needs, how are these channels supported, protected, and monitored?\",\n",
    "    'S1_K': \"How does the company ensure that its employees receive adequate wages?\",\n",
    "    'S1_L': \"To what extent does the company’s own workforce receive social protection, and how does the company address employees who are not yet covered by such protections?\",\n",
    "}"
   ]
  },
  {
   "cell_type": "code",
   "execution_count": 50,
   "id": "41e84b7b",
   "metadata": {},
   "outputs": [
    {
     "name": "stdout",
     "output_type": "stream",
     "text": [
      "\n",
      "Processing: ContinentalAG_2024\n",
      "\n",
      "Processing: SchneiderElectric_2024\n",
      "\n",
      "Processing: Philips_2024\n"
     ]
    }
   ],
   "source": [
    "# Now apply the functions to the 3 sampled reports\n",
    "all_results = {}\n",
    "\n",
    "for idx, row in sample.iterrows():\n",
    "    filename = f\"{prepare_filename(row['company_withAccessInfo'])}_2024\"\n",
    "    filename = filename.replace(\" \", \"\")\n",
    "    print(f\"\\nProcessing: {filename}\")\n",
    "\n",
    "    try:\n",
    "        PATH = f\"./sample_reports/{filename}.pdf\"\n",
    "        pdf = load_pdf(path=PATH) \n",
    "        text_list, all_text = extract_text(pdf)\n",
    "        DB_PATH = f\"./faiss_db_OpenAI/{filename}\"\n",
    "        retriever, doc_search = get_retriever(pdf, db_path=DB_PATH)\n",
    "        results = retrieve_chunks(retriever, queries=QUERIES)\n",
    "        all_results[filename] = results\n",
    "    \n",
    "    except Exception as e:\n",
    "        print(f\"Error processing {row['company_withAccessInfo']}: {e}\")\n"
   ]
  },
  {
   "cell_type": "markdown",
   "id": "6244c120",
   "metadata": {},
   "source": [
    "Note: **Ressorces needed for 3 reports**\n",
    "- Time: 1.5 min (--> 13 h for 500 reports)\n",
    "- Costs: 0.2 Dollar (--> 100$ for 500 reports)"
   ]
  },
  {
   "cell_type": "code",
   "execution_count": 47,
   "id": "59152a9e",
   "metadata": {},
   "outputs": [],
   "source": [
    "# save results\n",
    "results_df = pd.DataFrame.from_dict(all_results, orient='index')\n",
    "results_df.to_csv('retrieval_results_0_OpenAI.csv', index=True)"
   ]
  },
  {
   "cell_type": "code",
   "execution_count": 2,
   "id": "cba42403",
   "metadata": {},
   "outputs": [],
   "source": [
    "# read in the results\n",
    "retrieval_results = pd.read_csv('retrieval_results_0_OpenAI.csv', index_col=0)"
   ]
  },
  {
   "cell_type": "code",
   "execution_count": 51,
   "id": "d18c56ed",
   "metadata": {},
   "outputs": [
    {
     "name": "stdout",
     "output_type": "stream",
     "text": [
      "--- Retrieval Performance Summary ---\n",
      "             query  precision  recall     f1\n",
      "0             S1_A      0.156   0.191  0.164\n",
      "1             S1_B      0.490   0.067  0.118\n",
      "2             S1_C      0.472   0.148  0.225\n",
      "3             S1_D      0.279   0.200  0.233\n",
      "4             S1_E      0.345   0.297  0.319\n",
      "5             S1_F      0.296   0.240  0.252\n",
      "6             S1_G      0.404   0.208  0.271\n",
      "7             S1_H      0.262   0.147  0.189\n",
      "8             S1_I      0.037   0.207  0.049\n",
      "9             S1_J      0.396   0.274  0.323\n",
      "10            S1_K      0.520   0.334  0.382\n",
      "11            S1_L      0.063   0.127  0.080\n",
      "Overall Mean   NaN      0.310   0.203  0.217\n"
     ]
    }
   ],
   "source": [
    "evaluate_retrieval(all_results)"
   ]
  },
  {
   "cell_type": "markdown",
   "id": "51da2fdc",
   "metadata": {},
   "source": [
    "### A) Evaluate open source embedding models\n",
    "#### 1. Qwen3-Embedding-0.6B\n",
    "- Place 4 in MTEB Leaderboard (26.06.2025), best for 2 GB Memory Usage https://huggingface.co/spaces/mteb/leaderboard\n",
    "- Number of Paramaters: 0.6B\n",
    "- Context Length: 32k\n",
    "- Embedding Dimension: Up to 1024, supports user-defined output dimensions ranging from 32 to 1024\n",
    "https://huggingface.co/Qwen/Qwen3-Embedding-0.6B "
   ]
  },
  {
   "cell_type": "code",
   "execution_count": 54,
   "id": "bd519470",
   "metadata": {},
   "outputs": [],
   "source": [
    "# A1. Create or Load Vector Store for Qwen\n",
    "def get_retriever_qwen(pdf, db_path, top_k=TOP_K):\n",
    "\n",
    "    # 1. Initialize embeddings\n",
    "    embeddings = HuggingFaceEmbeddings(\n",
    "        model_name=\"Qwen/Qwen3-Embedding-0.6B\",\n",
    "        model_kwargs={'device': 'cpu'} # specify device='cuda' if GPU and PyTorch available\n",
    "    )\n",
    "\n",
    "    # 2. Split the document into chunks (same logic as before).\n",
    "    text_splitter = RecursiveCharacterTextSplitter(\n",
    "        chunk_size=CHUNK_SIZE,\n",
    "        chunk_overlap=CHUNK_OVERLAP,\n",
    "        length_function=len,\n",
    "        separators=[\"\\n\\n\", \"\\n\", \" \"],\n",
    "    )\n",
    "\n",
    "    chunks = []\n",
    "    page_idx = []\n",
    "\n",
    "    for i, page in enumerate(pdf):\n",
    "        page_chunks = text_splitter.split_text(page.get_text())\n",
    "        page_idx.extend([i + 1] * len(page_chunks))\n",
    "        chunks.extend(page_chunks)\n",
    "\n",
    "    # 3. Create or load the FAISS vector store\n",
    "    if os.path.exists(db_path):\n",
    "        print(f\"Loading existing FAISS DB from {db_path}\")\n",
    "        doc_search = FAISS.load_local(\n",
    "            db_path, \n",
    "            embeddings=embeddings, \n",
    "            allow_dangerous_deserialization=True # Be sure you trust the source of the DB file\n",
    "        )\n",
    "    else:\n",
    "        print(f\"Creating new FAISS DB at {db_path}\")\n",
    "        doc_search = FAISS.from_texts(\n",
    "            chunks,\n",
    "            embeddings,\n",
    "            metadatas=[{\"source\": str(i), \"page\": str(idx)} for i, idx in enumerate(page_idx)]\n",
    "        )\n",
    "        doc_search.save_local(db_path)\n",
    "\n",
    "    # 4. Create the retriever (same logic as before).\n",
    "    retriever = doc_search.as_retriever(search_kwargs={\"k\": top_k})\n",
    "    return retriever, doc_search"
   ]
  },
  {
   "cell_type": "code",
   "execution_count": 55,
   "id": "cdd3cab0",
   "metadata": {},
   "outputs": [
    {
     "name": "stdout",
     "output_type": "stream",
     "text": [
      "\n",
      "Processing: ContinentalAG_2024\n",
      "Loading existing FAISS DB from ./faiss_db_Qwen/ContinentalAG_2024\n",
      "Successfully processed and retrieved chunks for ContinentalAG_2024\n",
      "\n",
      "Processing: SchneiderElectric_2024\n",
      "Loading existing FAISS DB from ./faiss_db_Qwen/SchneiderElectric_2024\n",
      "Successfully processed and retrieved chunks for SchneiderElectric_2024\n",
      "\n",
      "Processing: Philips_2024\n",
      "Loading existing FAISS DB from ./faiss_db_Qwen/Philips_2024\n",
      "Successfully processed and retrieved chunks for Philips_2024\n"
     ]
    }
   ],
   "source": [
    "# Now apply on the sample reports\n",
    "all_results = {}\n",
    "#start_time = time.time()\n",
    "\n",
    "for idx, row in sample.iterrows():\n",
    "    filename = f\"{prepare_filename(row['company_withAccessInfo'])}_2024\"\n",
    "    filename = filename.replace(\" \", \"\")\n",
    "    print(f\"\\nProcessing: {filename}\")\n",
    "\n",
    "    try:\n",
    "        PATH = f\"./sample_reports/{filename}.pdf\"\n",
    "        pdf = load_pdf(path=PATH) \n",
    "        text_list, all_text = extract_text(pdf)\n",
    "        DB_PATH = f\"./faiss_db_Qwen/{filename}\"\n",
    "        retriever, doc_search = get_retriever_qwen(pdf, db_path=DB_PATH)\n",
    "        results = retrieve_chunks(retriever, queries=QUERIES)\n",
    "        all_results[filename] = results\n",
    "        print(f\"Successfully processed and retrieved chunks for {filename}\")\n",
    "    \n",
    "    except Exception as e:\n",
    "        print(f\"Error processing {row['company_withAccessInfo']}: {e}\")\n",
    "\n",
    "#print(f\"Computation time: {(time.time() - start_time) / 60:.2f} minutes\")"
   ]
  },
  {
   "cell_type": "markdown",
   "id": "ffd20743",
   "metadata": {},
   "source": [
    "**Ressorces needed** for 3 reports\n",
    "- Time: \n",
    "    - on local CPU: 3h (--> 20 days for 500 reports)\n",
    "- Costs: 0 Dollar (--> opensource)"
   ]
  },
  {
   "cell_type": "code",
   "execution_count": 56,
   "id": "ded2f42a",
   "metadata": {},
   "outputs": [
    {
     "name": "stdout",
     "output_type": "stream",
     "text": [
      "--- Retrieval Performance Summary ---\n",
      "             query  precision  recall     f1\n",
      "0             S1_A      0.149   0.168  0.154\n",
      "1             S1_B      0.468   0.061  0.109\n",
      "2             S1_C      0.388   0.112  0.174\n",
      "3             S1_D      0.271   0.217  0.241\n",
      "4             S1_E      0.273   0.234  0.252\n",
      "5             S1_F      0.269   0.178  0.204\n",
      "6             S1_G      0.411   0.215  0.278\n",
      "7             S1_H      0.305   0.160  0.210\n",
      "8             S1_I      0.019   0.180  0.029\n",
      "9             S1_J      0.396   0.271  0.321\n",
      "10            S1_K      0.521   0.325  0.384\n",
      "11            S1_L      0.059   0.093  0.072\n",
      "Overall Mean   NaN      0.294   0.185  0.202\n"
     ]
    }
   ],
   "source": [
    "evaluate_retrieval(all_results)"
   ]
  },
  {
   "cell_type": "markdown",
   "id": "88ae5363",
   "metadata": {},
   "source": [
    "### Evaluate PDF Text Extraction\n",
    "- OCR (Optical Character Recognition) with MyPuPDF: This method involves utilizing open source 3rd party technology (Tesseract) to scan the page for images and to convert that imagery into text. Imagine PDFs which contain screenshots of information, these will just be identified as “image” within the PDF, but somehow we want machine-readable text. This method uses PyMuPDF’s Page.get_textpage_ocr()function to take on the heavy lifting. https://medium.com/@pymupdf/text-extraction-strategies-with-pymupdf-dd0ef2461847 \n",
    "    - Limitations: Slower processing times, Accuracy depends on image quality, Higher computational and memory requirements, May introduce errors in recognition\n",
    "- Docling OCR"
   ]
  }
 ],
 "metadata": {
  "kernelspec": {
   "display_name": "myKernel_thesis",
   "language": "python",
   "name": "mykernel_thesis"
  },
  "language_info": {
   "codemirror_mode": {
    "name": "ipython",
    "version": 3
   },
   "file_extension": ".py",
   "mimetype": "text/x-python",
   "name": "python",
   "nbconvert_exporter": "python",
   "pygments_lexer": "ipython3",
   "version": "3.9.20"
  }
 },
 "nbformat": 4,
 "nbformat_minor": 5
}

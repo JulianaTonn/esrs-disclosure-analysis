{
 "cells": [
  {
   "cell_type": "markdown",
   "id": "d48b96af",
   "metadata": {},
   "source": [
    "# Testing the prompts for the RAG implementation\n",
    "\n",
    "Purpose of the notebook: test which queries and prompts work best; optionally which embedding models / LLM models, PDF text extraction approaches perform best\n",
    "Evaluate on a manually coded validation set based on three sample reports\n",
    "\n",
    "Evaluate\n",
    "1.  RAG retrieval\n",
    "2.  RAG generation"
   ]
  },
  {
   "cell_type": "markdown",
   "id": "9d7736bb",
   "metadata": {},
   "source": [
    "## Preparation"
   ]
  },
  {
   "cell_type": "code",
   "execution_count": 38,
   "id": "78f47b2c",
   "metadata": {},
   "outputs": [
    {
     "name": "stderr",
     "output_type": "stream",
     "text": [
      "[nltk_data] Downloading package punkt to\n",
      "[nltk_data]     C:\\Users\\julia\\AppData\\Roaming\\nltk_data...\n",
      "[nltk_data]   Package punkt is already up-to-date!\n"
     ]
    }
   ],
   "source": [
    "import pandas as pd\n",
    "import matplotlib.pyplot as plt\n",
    "import numpy as np\n",
    "import re\n",
    "import urllib3\n",
    "import pymupdf\n",
    "import requests\n",
    "import os\n",
    "import io\n",
    "from langchain.text_splitter import RecursiveCharacterTextSplitter\n",
    "from langchain.vectorstores import FAISS\n",
    "from langchain_openai import OpenAIEmbeddings\n",
    "\n",
    "import nltk\n",
    "from nltk.tokenize import sent_tokenize\n",
    "nltk.download('punkt')\n",
    "\n",
    "# import OpenAI API key from environment variable\n",
    "OPENAI_API_KEY = os.getenv(\"OPENAI_API_KEY\")\n",
    "#os.environ[\"OPENAI_API_KEY\"] = os.getenv(\"OPENAI_API_KEY\")"
   ]
  },
  {
   "cell_type": "markdown",
   "id": "696a9482",
   "metadata": {},
   "source": [
    "## 1. Select sample reports\n",
    "Source: Sustainability Reporting Navigator (crowd-source list of CSRD-compliant reports for fiscal years starting on 01/01/2024)\n",
    "\n",
    "Download CSV with information on all reports on the 08/04/2025 https://www.sustainabilityreportingnavigator.com/#/csrdreports "
   ]
  },
  {
   "cell_type": "code",
   "execution_count": 29,
   "id": "73b9d20f",
   "metadata": {},
   "outputs": [
    {
     "name": "stdout",
     "output_type": "stream",
     "text": [
      "277\n"
     ]
    }
   ],
   "source": [
    "# Open the csv data file\n",
    "reports_24 = pd.read_csv('esg_reports_2024.csv')\n",
    "print(len(reports_24))"
   ]
  },
  {
   "cell_type": "code",
   "execution_count": 30,
   "id": "71a989ed",
   "metadata": {},
   "outputs": [
    {
     "data": {
      "application/vnd.microsoft.datawrangler.viewer.v0+json": {
       "columns": [
        {
         "name": "index",
         "rawType": "int64",
         "type": "integer"
        },
        {
         "name": "Unnamed: 0",
         "rawType": "int64",
         "type": "integer"
        },
        {
         "name": "company_withAccessInfo",
         "rawType": "object",
         "type": "string"
        },
        {
         "name": "link",
         "rawType": "object",
         "type": "string"
        },
        {
         "name": "country",
         "rawType": "object",
         "type": "string"
        },
        {
         "name": "sector",
         "rawType": "object",
         "type": "string"
        },
        {
         "name": "industry",
         "rawType": "object",
         "type": "string"
        },
        {
         "name": "publication date",
         "rawType": "object",
         "type": "string"
        },
        {
         "name": "pages PDF",
         "rawType": "int64",
         "type": "integer"
        },
        {
         "name": "auditor",
         "rawType": "object",
         "type": "string"
        }
       ],
       "ref": "1c26873e-52c1-412b-bf8d-7a44b3dd31c7",
       "rows": [
        [
         "220",
         "19",
         "Continental AG",
         "https://annualreport.continental.com/2024/en/service/docs/annual-report-2024-data.pdf",
         "Germany",
         "Transportation",
         "Auto Parts",
         "2025-03-18",
         "125",
         "PwC"
        ],
        [
         "58",
         "266",
         "Schneider Electric*",
         "https://www.se.com/ww/en/assets/564/document/510443/2024-universal-registration-document.pdf?p_enDocType=Financial%20release&p_File_Name=Universal%20Registration%20Document%202024",
         "France",
         "Resource Transformation",
         "Electrical & Electronic Equipment",
         "2025-03-26",
         "186",
         "PwC & Mazars"
        ],
        [
         "89",
         "103",
         "Philips",
         "https://www.results.philips.com/publications/ar24/downloads/files/en/PhilipsFullAnnualReport2024-English.pdf?v%3D20250221111026&sa=D&source=editors&ust=1740414875713543&usg=AOvVaw03JVrsRo5pGqKO9bnEsL-L",
         "Netherlands",
         "Infrastructure",
         "Electric Utilities & Power Generators",
         "2025-02-21",
         "85",
         "EY"
        ]
       ],
       "shape": {
        "columns": 9,
        "rows": 3
       }
      },
      "text/html": [
       "<div>\n",
       "<style scoped>\n",
       "    .dataframe tbody tr th:only-of-type {\n",
       "        vertical-align: middle;\n",
       "    }\n",
       "\n",
       "    .dataframe tbody tr th {\n",
       "        vertical-align: top;\n",
       "    }\n",
       "\n",
       "    .dataframe thead th {\n",
       "        text-align: right;\n",
       "    }\n",
       "</style>\n",
       "<table border=\"1\" class=\"dataframe\">\n",
       "  <thead>\n",
       "    <tr style=\"text-align: right;\">\n",
       "      <th></th>\n",
       "      <th>Unnamed: 0</th>\n",
       "      <th>company_withAccessInfo</th>\n",
       "      <th>link</th>\n",
       "      <th>country</th>\n",
       "      <th>sector</th>\n",
       "      <th>industry</th>\n",
       "      <th>publication date</th>\n",
       "      <th>pages PDF</th>\n",
       "      <th>auditor</th>\n",
       "    </tr>\n",
       "  </thead>\n",
       "  <tbody>\n",
       "    <tr>\n",
       "      <th>220</th>\n",
       "      <td>19</td>\n",
       "      <td>Continental AG</td>\n",
       "      <td>https://annualreport.continental.com/2024/en/s...</td>\n",
       "      <td>Germany</td>\n",
       "      <td>Transportation</td>\n",
       "      <td>Auto Parts</td>\n",
       "      <td>2025-03-18</td>\n",
       "      <td>125</td>\n",
       "      <td>PwC</td>\n",
       "    </tr>\n",
       "    <tr>\n",
       "      <th>58</th>\n",
       "      <td>266</td>\n",
       "      <td>Schneider Electric*</td>\n",
       "      <td>https://www.se.com/ww/en/assets/564/document/5...</td>\n",
       "      <td>France</td>\n",
       "      <td>Resource Transformation</td>\n",
       "      <td>Electrical &amp; Electronic Equipment</td>\n",
       "      <td>2025-03-26</td>\n",
       "      <td>186</td>\n",
       "      <td>PwC &amp; Mazars</td>\n",
       "    </tr>\n",
       "    <tr>\n",
       "      <th>89</th>\n",
       "      <td>103</td>\n",
       "      <td>Philips</td>\n",
       "      <td>https://www.results.philips.com/publications/a...</td>\n",
       "      <td>Netherlands</td>\n",
       "      <td>Infrastructure</td>\n",
       "      <td>Electric Utilities &amp; Power Generators</td>\n",
       "      <td>2025-02-21</td>\n",
       "      <td>85</td>\n",
       "      <td>EY</td>\n",
       "    </tr>\n",
       "  </tbody>\n",
       "</table>\n",
       "</div>"
      ],
      "text/plain": [
       "     Unnamed: 0 company_withAccessInfo  \\\n",
       "220          19         Continental AG   \n",
       "58          266    Schneider Electric*   \n",
       "89          103                Philips   \n",
       "\n",
       "                                                  link      country  \\\n",
       "220  https://annualreport.continental.com/2024/en/s...      Germany   \n",
       "58   https://www.se.com/ww/en/assets/564/document/5...       France   \n",
       "89   https://www.results.philips.com/publications/a...  Netherlands   \n",
       "\n",
       "                      sector                               industry  \\\n",
       "220           Transportation                             Auto Parts   \n",
       "58   Resource Transformation      Electrical & Electronic Equipment   \n",
       "89            Infrastructure  Electric Utilities & Power Generators   \n",
       "\n",
       "    publication date  pages PDF       auditor  \n",
       "220       2025-03-18        125           PwC  \n",
       "58        2025-03-26        186  PwC & Mazars  \n",
       "89        2025-02-21         85            EY  "
      ]
     },
     "execution_count": 30,
     "metadata": {},
     "output_type": "execute_result"
    }
   ],
   "source": [
    "# randomly select 3 reports from 2024\n",
    "sample = reports_24.sample(n=3, random_state=3)\n",
    "sample.head()"
   ]
  },
  {
   "cell_type": "markdown",
   "id": "9812e684",
   "metadata": {},
   "source": [
    "## 2. Manually hand code ground truth = validation set"
   ]
  },
  {
   "cell_type": "code",
   "execution_count": 22,
   "id": "22270666",
   "metadata": {},
   "outputs": [
    {
     "name": "stdout",
     "output_type": "stream",
     "text": [
      "          report_name query  \\\n",
      "0  ContinentalAG_2024  S1_F   \n",
      "1  ContinentalAG_2024  S1_F   \n",
      "2  ContinentalAG_2024  S1_F   \n",
      "3  ContinentalAG_2024  S1_F   \n",
      "4  ContinentalAG_2024  S1_F   \n",
      "\n",
      "                                                text page_number  \n",
      "0  Occupational safety and health\\nContinental ha...    181, 182  \n",
      "1  Occupational safety and health\\nContinental op...         174  \n",
      "2  This section describes the management approach...         176  \n",
      "3  Occupational safety and health\\nAs part of the...         189  \n",
      "4  Substances of concern and very high concern\\nC...         153  \n"
     ]
    }
   ],
   "source": [
    "validation_set = pd.read_excel('validation_dataset.xlsx')\n",
    "print(validation_set.head())"
   ]
  },
  {
   "cell_type": "code",
   "execution_count": null,
   "id": "1cc18e84",
   "metadata": {},
   "outputs": [
    {
     "name": "stdout",
     "output_type": "stream",
     "text": [
      "report_name         query\n",
      "ContinentalAG_2024  S1_A     14\n",
      "                    S1_B     12\n",
      "                    S1_C     26\n",
      "                    S1_D     19\n",
      "                    S1_E     19\n",
      "                    S1_F     11\n",
      "                    S1_G     12\n",
      "                    S1_H     23\n",
      "                    S1_I      4\n",
      "                    S1_J     12\n",
      "                    S1_K     12\n",
      "                    S1_L      5\n",
      "dtype: int64\n"
     ]
    }
   ],
   "source": [
    "# print how many text chunks per query, per report name\n",
    "print(validation_set.groupby(['report_name', 'query']).size())"
   ]
  },
  {
   "cell_type": "code",
   "execution_count": 21,
   "id": "7fa62422",
   "metadata": {},
   "outputs": [
    {
     "data": {
      "text/plain": [
       "Text(0.5, 1.0, 'Distribution of Text Chunk Lengths')"
      ]
     },
     "execution_count": 21,
     "metadata": {},
     "output_type": "execute_result"
    },
    {
     "data": {
      "image/png": "[encoded data removed]",
      "text/plain": [
       "<Figure size 640x480 with 1 Axes>"
      ]
     },
     "metadata": {},
     "output_type": "display_data"
    }
   ],
   "source": [
    "# graph the number of characters per text chunk\n",
    "validation_set['text_length'] = validation_set['text'].apply(lambda x: len(x))\n",
    "validation_set['text_length'].hist(bins=50)\n",
    "plt.title('Distribution of Text Chunk Lengths')"
   ]
  },
  {
   "cell_type": "markdown",
   "id": "101386a0",
   "metadata": {},
   "source": [
    "## 3. Evaluate the performance of different approaches\n"
   ]
  },
  {
   "cell_type": "code",
   "execution_count": 42,
   "id": "e6863386",
   "metadata": {},
   "outputs": [
    {
     "name": "stderr",
     "output_type": "stream",
     "text": [
      "[nltk_data] Downloading package punkt to\n",
      "[nltk_data]     C:\\Users\\julia\\AppData\\Roaming\\nltk_data...\n",
      "[nltk_data]   Package punkt is already up-to-date!\n",
      "[nltk_data] Downloading package punkt_tab to\n",
      "[nltk_data]     C:\\Users\\julia\\AppData\\Roaming\\nltk_data...\n",
      "[nltk_data]   Unzipping tokenizers\\punkt_tab.zip.\n"
     ]
    }
   ],
   "source": [
    "import nltk\n",
    "from nltk.tokenize import sent_tokenize\n",
    "nltk.download('punkt')\n",
    "nltk.download('punkt_tab')\n",
    "\n",
    "def evaluate_retrieval_on_sentence_level(retrieved_docs, ground_truth_texts):\n",
    "    \"\"\"\n",
    "    Evaluates retrieval performance on a sentence level.\n",
    "\n",
    "    Args:\n",
    "        retrieved_docs (list): A list of Document objects retrieved by LangChain.\n",
    "        ground_truth_texts (list): A list of ground-truth text snippets from the validation set.\n",
    "\n",
    "    Returns:\n",
    "        dict: A dictionary containing precision, recall, and f1-score.\n",
    "    \"\"\"\n",
    "    # 1. Extract all ground-truth sentences into a set for efficient lookup.\n",
    "    # The NLTK 'punkt' tokenizer is used, which is effective for English.\n",
    "    all_ground_truth_sentences = set()\n",
    "    for text in ground_truth_texts:\n",
    "        sentences = sent_tokenize(text)\n",
    "        # Optional: clean sentences to remove leading/trailing whitespace\n",
    "        all_ground_truth_sentences.update([s.strip() for s in sentences if s.strip()])\n",
    "\n",
    "    if not all_ground_truth_sentences:\n",
    "        # If there are no ground truth sentences, we can't measure performance.\n",
    "        # Returning 1.0 assumes perfect performance for queries with no expected answer.\n",
    "        return {\"precision\": 0.0, \"recall\": 0.0, \"f1\": 0.0} \n",
    "\n",
    "    # 2. Extract all retrieved sentences and identify which ones match the ground truth.\n",
    "    all_retrieved_sentences = set()\n",
    "    found_ground_truth_sentences = set()\n",
    "\n",
    "    for doc in retrieved_docs:\n",
    "        chunk_sentences = sent_tokenize(doc.page_content)\n",
    "        for sentence in chunk_sentences:\n",
    "            cleaned_sentence = sentence.strip()\n",
    "            if cleaned_sentence:\n",
    "                all_retrieved_sentences.add(cleaned_sentence)\n",
    "                if cleaned_sentence in all_ground_truth_sentences:\n",
    "                    found_ground_truth_sentences.add(cleaned_sentence)\n",
    "\n",
    "    # 3. Calculate metrics based on the sentence counts.\n",
    "    true_positives = len(found_ground_truth_sentences)\n",
    "    false_positives = len(all_retrieved_sentences) - true_positives\n",
    "    false_negatives = len(all_ground_truth_sentences) - true_positives\n",
    "\n",
    "    precision = true_positives / (true_positives + false_positives) if (true_positives + false_positives) > 0 else 0.0\n",
    "    recall = true_positives / (true_positives + false_negatives) if (true_positives + false_negatives) > 0 else 0.0\n",
    "    f1 = 2 * (precision * recall) / (precision + recall) if (precision + recall) > 0 else 0.0\n",
    "\n",
    "    return {\"precision\": precision, \"recall\": recall, \"f1\": f1}\n"
   ]
  },
  {
   "cell_type": "code",
   "execution_count": 43,
   "id": "898683e8",
   "metadata": {},
   "outputs": [
    {
     "name": "stdout",
     "output_type": "stream",
     "text": [
      "           report_name query  precision    recall        f1\n",
      "0   ContinentalAG_2024  S1_A   0.020000  0.016393  0.018018\n",
      "1   ContinentalAG_2024  S1_B   0.040816  0.005587  0.009828\n",
      "2   ContinentalAG_2024  S1_C   0.000000  0.000000  0.000000\n",
      "3   ContinentalAG_2024  S1_D   0.000000  0.000000  0.000000\n",
      "4   ContinentalAG_2024  S1_E   0.018182  0.015625  0.016807\n",
      "5   ContinentalAG_2024  S1_F   0.016129  0.018868  0.017391\n",
      "6   ContinentalAG_2024  S1_G   0.123077  0.078431  0.095808\n",
      "7   ContinentalAG_2024  S1_H   0.120000  0.064286  0.083721\n",
      "8   ContinentalAG_2024  S1_I   0.000000  0.000000  0.000000\n",
      "9   ContinentalAG_2024  S1_J   0.134146  0.100917  0.115183\n",
      "10  ContinentalAG_2024  S1_K   0.133333  0.048485  0.071111\n",
      "11  ContinentalAG_2024  S1_L   0.000000  0.000000  0.000000\n"
     ]
    }
   ],
   "source": [
    "# --- Example of how to apply this in your main loop ---\n",
    "evaluation_results = []\n",
    "\n",
    "for report_name, queries_results in all_results.items():\n",
    "    for query_key, retrieved_documents in queries_results.items():\n",
    "        \n",
    "        # Get the corresponding ground-truth texts from the validation set\n",
    "        gt_texts = validation_set[\n",
    "            (validation_set['report_name'] == report_name) & \n",
    "            (validation_set['query'] == query_key)\n",
    "        ]['text'].tolist()\n",
    "\n",
    "        if not gt_texts:\n",
    "            continue\n",
    "\n",
    "        # Perform the evaluation\n",
    "        scores = evaluate_retrieval_on_sentence_level(retrieved_documents, gt_texts)\n",
    "        \n",
    "        evaluation_results.append({\n",
    "            \"report_name\": report_name,\n",
    "            \"query\": query_key,\n",
    "            **scores\n",
    "        })\n",
    "\n",
    "# Display results in a clear DataFrame\n",
    "df_evaluation = pd.DataFrame(evaluation_results)\n",
    "print(df_evaluation)"
   ]
  },
  {
   "cell_type": "markdown",
   "id": "e5c5fc9c",
   "metadata": {},
   "source": [
    "### 0: Baseline approach based on Ni et al. (2023)\n",
    "based on: Ni, J., Bingler, J., Colesanti-Senni, C., Kraus, M., Gostlow, G., Schimanski, T., Stammbach, D., Vaghefi, S. A., Wang, Q., Webersinke, N., Wekhof, T., Yu, T., & Leippold, M. (2023). CHATREPORT: Democratizing Sustainability Disclosure Analysis through LLM-based Tools. Swiss Finance Institute Research Paper, No. 23-111. https://doi.org/10.48550/arXiv.2307.15770\n",
    "\n",
    "- PDF text extraction: MyPuPDF\n",
    "- Embedding model: OpenAI text-embedding-ada-002"
   ]
  },
  {
   "cell_type": "code",
   "execution_count": 26,
   "id": "52881b1a",
   "metadata": {},
   "outputs": [],
   "source": [
    "# Code based on Ni et al. (2023)\n",
    "TOP_K = 20\n",
    "CHUNK_SIZE = 500\n",
    "CHUNK_OVERLAP = 20\n",
    "\n",
    "# 1. Load the PDF\n",
    "def load_pdf(path=None, url=None):\n",
    "    assert (path is not None) != (url is not None), \"Either path or url must be provided\"\n",
    "    \n",
    "    if path:\n",
    "        return pymupdf.open(path)\n",
    "    else:\n",
    "        response = requests.get(url)\n",
    "        pdf_bytes = io.BytesIO(response.content)\n",
    "        return pymupdf.open(stream=pdf_bytes, filetype='pdf')\n",
    "    \n",
    "# 2. Extract text from the PDF\n",
    "def extract_text(pdf):\n",
    "    text_list = [page.get_text() for page in pdf]\n",
    "    all_text = ''.join(text_list)\n",
    "    return text_list, all_text\n",
    "\n",
    "# 4. Create or Load Vector Store\n",
    "def get_retriever(pdf, db_path, top_k=TOP_K):\n",
    "    embeddings = OpenAIEmbeddings()\n",
    "    text_splitter = RecursiveCharacterTextSplitter(\n",
    "        chunk_size=CHUNK_SIZE,\n",
    "        chunk_overlap=CHUNK_OVERLAP,\n",
    "        length_function=len,\n",
    "        separators=[\"\\n\\n\", \"\\n\", \" \"],\n",
    "    )\n",
    "\n",
    "    chunks = []\n",
    "    page_idx = []\n",
    "\n",
    "    for i, page in enumerate(pdf):\n",
    "        page_chunks = text_splitter.split_text(page.get_text())\n",
    "        page_idx.extend([i + 1] * len(page_chunks))\n",
    "        chunks.extend(page_chunks)\n",
    "\n",
    "    if os.path.exists(db_path):\n",
    "        doc_search = FAISS.load_local(db_path, embeddings=embeddings, allow_dangerous_deserialization=True)\n",
    "    else:\n",
    "        doc_search = FAISS.from_texts(\n",
    "            chunks,\n",
    "            embeddings,\n",
    "            metadatas=[{\"source\": str(i), \"page\": str(idx)} for i, idx in enumerate(page_idx)]\n",
    "        )\n",
    "        doc_search.save_local(db_path)\n",
    "\n",
    "    retriever = doc_search.as_retriever(search_kwargs={\"k\": top_k})\n",
    "    return retriever, doc_search\n",
    "\n",
    "# 5. Retrieve relevant chunks\n",
    "def retrieve_chunks(retriever, queries):\n",
    "    section_text_dict = {}\n",
    "\n",
    "    for key, prompts in queries.items():\n",
    "        if key == 'general' and isinstance(prompts, list):\n",
    "            combined_docs = []\n",
    "            for prompt in prompts:\n",
    "                combined_docs.extend(retriever.invoke(prompt)[:5])\n",
    "            section_text_dict[key] = combined_docs\n",
    "        else:\n",
    "            section_text_dict[key] = retriever.invoke(prompts)\n",
    "    \n",
    "    return section_text_dict"
   ]
  },
  {
   "cell_type": "code",
   "execution_count": 27,
   "id": "f0304adf",
   "metadata": {},
   "outputs": [],
   "source": [
    "# Defined retrieval queries based on the ESRS S1 requirements\n",
    "\n",
    "QUERIES = {\n",
    "    #'general': [\"What is the company of the report?\", \"What sector does the company belong to?\", \"Where is the company located?\"],\n",
    "    'S1_A': \"What are the material risks and opportunities arising from the company’s impacts and dependencies on people in its own workforce?\",\n",
    "    'S1_B': \"What are the material impacts on the company’s own workforce, who is affected, and how are these impacts managed?\",\n",
    "    'S1_C': \"How does the company identify, prevent, and address negative impacts on its own workforce and how is affected by them?\",\n",
    "    'S1_D': \"What are the company’s material positive impacts on its own workforce, and who benefits from them?\",\n",
    "    'S1_E': \"What are the company’s human rights and labor rights commitments for its own workforce, what violations have occured, how were they managed? Which operations are considered at significant risk for human rights violations such as forced labor, child labor, or trafficking?\",\n",
    "    'S1_F': \"How does the company manage workplace accident prevention?\",\n",
    "    'S1_G': \"What policies does the company have in place to eliminate discrimination and promote diversity and inclusion within its own workforce, and how are these policies implemented and enforced?\",\n",
    "    'S1_H': \"When and how does the company engage with its own workforce or their representatives in decision-making processes and who in the organization is responsible that engagement influences strategy and operations? How does the company assess the effectiveness of its workforce engagement practices?\",\n",
    "    'S1_I': \"Has the company taken any actions to provide or enable remedy for negative impacts on its own workforce, and how does it ensure that such remedies are appropriate and effective?\",\n",
    "    'S1_J': \"What channels are available for people in the company’s own workforce to raise concerns or needs, how are these channels supported, protected, and monitored?\",\n",
    "    'S1_K': \"How does the company ensure that its employees receive adequate wages?\",\n",
    "    'S1_L': \"To what extent does the company’s own workforce receive social protection, and how does the company address employees who are not yet covered by such protections?\",\n",
    "}"
   ]
  },
  {
   "cell_type": "code",
   "execution_count": 31,
   "id": "41e84b7b",
   "metadata": {},
   "outputs": [
    {
     "name": "stdout",
     "output_type": "stream",
     "text": [
      "\n",
      "Processing: ContinentalAG_2024\n",
      "\n",
      "Processing: SchneiderElectric_2024\n",
      "\n",
      "Processing: Philips_2024\n"
     ]
    }
   ],
   "source": [
    "# Now apply the functions to the 3 sampled reports\n",
    "all_results = {}\n",
    "\n",
    "def prepare_filename(name):\n",
    "    return re.sub(r'[\\\\/*?:\"<>|]', \"\", name)\n",
    "\n",
    "for idx, row in sample.iterrows():\n",
    "    filename = f\"{prepare_filename(row['company_withAccessInfo'])}_2024\"\n",
    "    filename = filename.replace(\" \", \"\")\n",
    "    print(f\"\\nProcessing: {filename}\")\n",
    "\n",
    "    try:\n",
    "        PATH = f\"./sample_reports/{filename}.pdf\"\n",
    "        pdf = load_pdf(path=PATH) \n",
    "        text_list, all_text = extract_text(pdf)\n",
    "        DB_PATH = f\"./faiss_db_OpenAI/{filename}\"\n",
    "        retriever, doc_search = get_retriever(pdf, db_path=DB_PATH)\n",
    "        results = retrieve_chunks(retriever, queries=QUERIES)\n",
    "        all_results[filename] = results\n",
    "    \n",
    "    except Exception as e:\n",
    "        print(f\"Error processing {row['company_withAccessInfo']}: {e}\")\n"
   ]
  },
  {
   "cell_type": "markdown",
   "id": "6244c120",
   "metadata": {},
   "source": [
    "Note: Ressorces needed for 3 reports\n",
    "- Time: 1.5 min (--> 13 h for 500 reports)\n",
    "- Costs: 0.2 Dollar (--> 100$ for 500 reports)"
   ]
  },
  {
   "cell_type": "code",
   "execution_count": 47,
   "id": "59152a9e",
   "metadata": {},
   "outputs": [],
   "source": [
    "# save results\n",
    "results_df = pd.DataFrame.from_dict(all_results, orient='index')\n",
    "results_df.to_csv('retrieval_results_0_OpenAI.csv', index=True)"
   ]
  },
  {
   "cell_type": "code",
   "execution_count": 23,
   "id": "cba42403",
   "metadata": {},
   "outputs": [
    {
     "name": "stdout",
     "output_type": "stream",
     "text": [
      "                                                                     S1_A  \\\n",
      "ContinentalAG_2024      [Document(id='f70624ef-9430-4e33-9d99-a9b819d9...   \n",
      "SchneiderElectric_2024  [Document(id='936599b4-792a-4a1e-9989-bffdbf10...   \n",
      "Philips_2024            [Document(id='bd852d12-c665-44a9-8e08-d4d8b338...   \n",
      "\n",
      "                                                                     S1_B  \\\n",
      "ContinentalAG_2024      [Document(id='fdbd762e-227e-4497-8db1-93efb79a...   \n",
      "SchneiderElectric_2024  [Document(id='f47c1f60-1031-4d04-b28f-4344d0e4...   \n",
      "Philips_2024            [Document(id='bd852d12-c665-44a9-8e08-d4d8b338...   \n",
      "\n",
      "                                                                     S1_C  \\\n",
      "ContinentalAG_2024      [Document(id='fdbd762e-227e-4497-8db1-93efb79a...   \n",
      "SchneiderElectric_2024  [Document(id='f8c3f3d8-aa22-4292-8773-0877a8e3...   \n",
      "Philips_2024            [Document(id='a2a532a9-1887-4d22-ae91-6eea603e...   \n",
      "\n",
      "                                                                     S1_D  \\\n",
      "ContinentalAG_2024      [Document(id='e882ceac-ac54-470c-857c-3fb7bf35...   \n",
      "SchneiderElectric_2024  [Document(id='80e4fafb-b5b2-45a5-a813-cf3b92a1...   \n",
      "Philips_2024            [Document(id='b9379325-7763-490a-a508-f2e61c6a...   \n",
      "\n",
      "                                                                     S1_E  \\\n",
      "ContinentalAG_2024      [Document(id='4f698100-1ca1-444f-ae02-876d8eca...   \n",
      "SchneiderElectric_2024  [Document(id='610f6a19-5f42-471b-8002-d882f68e...   \n",
      "Philips_2024            [Document(id='bf46b610-48f6-49c1-8c8c-7249b194...   \n",
      "\n",
      "                                                                     S1_F  \\\n",
      "ContinentalAG_2024      [Document(id='40a15634-9a45-48f3-9082-6b0bcd7c...   \n",
      "SchneiderElectric_2024  [Document(id='4b83256d-0e62-4566-ab09-b1a8c8a0...   \n",
      "Philips_2024            [Document(id='da75d162-ccab-4c0a-b073-7ea0dbaa...   \n",
      "\n",
      "                                                                     S1_G  \\\n",
      "ContinentalAG_2024      [Document(id='08f6a717-5470-496b-bcbf-7bd2a33c...   \n",
      "SchneiderElectric_2024  [Document(id='20c8403b-14b3-4c1e-ae6a-72e76712...   \n",
      "Philips_2024            [Document(id='a87f4b70-0619-40d9-a247-1bfe8a3b...   \n",
      "\n",
      "                                                                     S1_H  \\\n",
      "ContinentalAG_2024      [Document(id='2e821fa2-b2aa-4d75-abec-644b61cb...   \n",
      "SchneiderElectric_2024  [Document(id='b4aabc36-c287-4174-a1f3-c67377fa...   \n",
      "Philips_2024            [Document(id='1f62765e-578a-4bda-ad50-e8b16b4c...   \n",
      "\n",
      "                                                                     S1_I  \\\n",
      "ContinentalAG_2024      [Document(id='fdbd762e-227e-4497-8db1-93efb79a...   \n",
      "SchneiderElectric_2024  [Document(id='783ba9b9-c4cf-495d-84ad-5a8cc7f7...   \n",
      "Philips_2024            [Document(id='a2a532a9-1887-4d22-ae91-6eea603e...   \n",
      "\n",
      "                                                                     S1_J  \\\n",
      "ContinentalAG_2024      [Document(id='ee6fb87e-6065-4d40-9653-cc74366a...   \n",
      "SchneiderElectric_2024  [Document(id='596c071d-22f1-4a96-9f9e-6b9d9ec6...   \n",
      "Philips_2024            [Document(id='a2a532a9-1887-4d22-ae91-6eea603e...   \n",
      "\n",
      "                                                                     S1_K  \\\n",
      "ContinentalAG_2024      [Document(id='13ddeab5-08dc-429c-abcd-97fc4e0a...   \n",
      "SchneiderElectric_2024  [Document(id='5bcfb017-9d5f-4de0-a15c-f5247ad6...   \n",
      "Philips_2024            [Document(id='287e9da1-40df-4b71-a9cf-d0c8175e...   \n",
      "\n",
      "                                                                     S1_L  \n",
      "ContinentalAG_2024      [Document(id='e882ceac-ac54-470c-857c-3fb7bf35...  \n",
      "SchneiderElectric_2024  [Document(id='eb5b11ad-0836-4ec4-8c38-25353fa2...  \n",
      "Philips_2024            [Document(id='45c090ca-bedf-4e89-8b4a-d9d5631a...  \n"
     ]
    }
   ],
   "source": [
    "# read in the results\n",
    "retrieval_results = pd.read_csv('retrieval_results_0_OpenAI.csv', index_col=0)\n",
    "print(retrieval_results.head())"
   ]
  },
  {
   "cell_type": "markdown",
   "id": "88ae5363",
   "metadata": {},
   "source": [
    "### Evaluate PDF Text Extraction\n",
    "- OCR (Optical Character Recognition) with MyPuPDF: This method involves utilizing open source 3rd party technology (Tesseract) to scan the page for images and to convert that imagery into text. Imagine PDFs which contain screenshots of information, these will just be identified as “image” within the PDF, but somehow we want machine-readable text. This method uses PyMuPDF’s Page.get_textpage_ocr()function to take on the heavy lifting. https://medium.com/@pymupdf/text-extraction-strategies-with-pymupdf-dd0ef2461847 \n",
    "    - Limitations: Slower processing times, Accuracy depends on image quality, Higher computational and memory requirements, May introduce errors in recognition\n",
    "- Docling OCR"
   ]
  }
 ],
 "metadata": {
  "kernelspec": {
   "display_name": ".venv",
   "language": "python",
   "name": "python3"
  },
  "language_info": {
   "codemirror_mode": {
    "name": "ipython",
    "version": 3
   },
   "file_extension": ".py",
   "mimetype": "text/x-python",
   "name": "python",
   "nbconvert_exporter": "python",
   "pygments_lexer": "ipython3",
   "version": "3.12.3"
  }
 },
 "nbformat": 4,
 "nbformat_minor": 5
}

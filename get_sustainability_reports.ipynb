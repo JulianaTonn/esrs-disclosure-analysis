{
 "cells": [
  {
   "cell_type": "markdown",
   "id": "30c630af",
   "metadata": {},
   "source": [
    "# Download Sustainability Reports"
   ]
  },
  {
   "cell_type": "code",
   "execution_count": null,
   "id": "fdcd2539",
   "metadata": {},
   "outputs": [],
   "source": [
    "# .venv\\Scripts\\Activate # to activate the virtual environment\n",
    "!pip freeze > requirements.txt"
   ]
  },
  {
   "cell_type": "code",
   "execution_count": 1,
   "id": "db136583",
   "metadata": {},
   "outputs": [],
   "source": [
    "import pandas as pd\n",
    "import requests"
   ]
  },
  {
   "cell_type": "markdown",
   "id": "abc5568e",
   "metadata": {},
   "source": [
    "## Reports for 2024\n",
    "Source: Sustainability Reporting Navigator (they crowd-source list of CSRD-compliant reports for fiscal years starting on 01/01/2024)\n",
    "\n",
    "Download pdf with a list of all reports under https://www.sustainabilityreportingnavigator.com/#/csrdreports "
   ]
  },
  {
   "cell_type": "code",
   "execution_count": 2,
   "id": "11f953f6",
   "metadata": {},
   "outputs": [
    {
     "name": "stdout",
     "output_type": "stream",
     "text": [
      "277\n"
     ]
    }
   ],
   "source": [
    "# Open the csv data file\n",
    "reports_24 = pd.read_csv('esg_reports_2024.csv')\n",
    "print(len(reports_24))"
   ]
  },
  {
   "cell_type": "markdown",
   "id": "2f21605f",
   "metadata": {},
   "source": [
    "## Reports for 2010 until 2023\n",
    "Source: Donau, Charlotte-Louise, Fikir Worku Edossa, Joachim Gassen, Gaia Melloni, Inga Meringdal, Bianca Minuth, Arianna Piscella, Paul Pronobis and Victor Wagner (2023): SRN Document Database, https://github.com/trr266/srn_docs.\n",
    "\n",
    "\"Our objective is to develop this repository into a collaborative data platform that provides extensive coverage of sustainability-related documents published by European publicly-listed firms.\""
   ]
  },
  {
   "cell_type": "code",
   "execution_count": 3,
   "id": "3e6149a8",
   "metadata": {},
   "outputs": [
    {
     "name": "stdout",
     "output_type": "stream",
     "text": [
      "Searching comapny with a name containing 'Allianz'\n",
      "Found 1 match(es). Retrieving the documents for the first match.\n",
      "Found 30 documents. Retrieving the first document from the list and storing it as 'test_srn_docs.pdf'.\n",
      "done!\n"
     ]
    }
   ],
   "source": [
    "# Code from SRN API documentation https://github.com/trr266/srn_docs/blob/main/srn_docs_api.py\n",
    "\n",
    "srn_api_url = \"https://api.sustainabilityreportingnavigator.com/api/\"\n",
    "\n",
    "def get_srn_companies():\n",
    "    \"\"\"\n",
    "    Returns a list of companies that are included in SRN Document Database.\n",
    "\n",
    "    Returns:\n",
    "        [list{dict}]: A list containg company level metadata\n",
    "    \"\"\"\n",
    "    response = requests.get(srn_api_url + \"companies\")\n",
    "    return response.json()\n",
    "\n",
    "\n",
    "def get_srn_documents():\n",
    "    \"\"\"\n",
    "    Returns a list of documents that are included in SRN Document Database.\n",
    "\n",
    "    Returns:\n",
    "        [list{dict}]: A list containg document level metadata\n",
    "    \"\"\"\n",
    "    response = requests.get(srn_api_url + \"documents\")\n",
    "    return response.json()\n",
    "\n",
    "\n",
    "def download_document(id, fpath, timeout=60):\n",
    "    \"\"\"\n",
    "    Retreives a certain document from the SRN Document Database and \n",
    "    stores it at the provided file path.\n",
    "\n",
    "    Args:\n",
    "        id (str): The SRN document id.\n",
    "        fpath (str): A sting containt the file path where you want to\n",
    "            store the file.\n",
    "        timeout (int, optional): Sometimes, a download API call might\n",
    "            nlock because of a dying connection or because the data\n",
    "            is not available. If a timeout is reached, the according\n",
    "            API request will raise an exception and exit. \n",
    "            Defaults to 60 seconds.\n",
    "    \"\"\"\n",
    "    response = requests.get(\n",
    "        srn_api_url + f\"documents/{id}/download\", \n",
    "        timeout=timeout\n",
    "    )\n",
    "    with open(fpath, 'wb') as f: f.write(response.content)\n",
    "\n",
    "\n",
    "if __name__ == \"__main__\":\n",
    "    companies = get_srn_companies()\n",
    "    documents = get_srn_documents()\n",
    "    print(\"Searching comapny with a name containing 'Allianz'\")\n",
    "    matches = [c for c in companies if 'Allianz' in c['name']]\n",
    "    print(\n",
    "        f\"Found {len(matches)} match(es). \" +\n",
    "        \"Retrieving the documents for the first match.\"\n",
    "    )\n",
    "    docs = [d for d in documents if d['company_id'] == matches[0]['id']] \n",
    "    FPATH = 'test_srn_docs.pdf'\n",
    "    print(\n",
    "        f\"Found {len(docs)} documents. \" +\n",
    "        \"Retrieving the first document from the list \" +\n",
    "        f\"and storing it as '{FPATH}'.\"\n",
    "    )\n",
    "    download_document(docs[0]['id'], FPATH)\n",
    "    print(\"done!\")"
   ]
  },
  {
   "cell_type": "code",
   "execution_count": 4,
   "id": "30547360",
   "metadata": {},
   "outputs": [
    {
     "name": "stdout",
     "output_type": "stream",
     "text": [
      "922\n",
      "{'id': '8dee5d4e-2b5d-44c4-a78d-2d5d8dd92df1', 'name': '1&1', 'isin': 'DE0005545503', 'country': 'Germany', 'sector': 'Media & Entertainment', 'href': '', 'href_logo': '', 'company_type': 'public', 'indices': ['c233b29e-f073-426f-88cf-9e9d5e645e6e']}\n"
     ]
    }
   ],
   "source": [
    "# get a list of all companies in the SRN database\n",
    "srn_companies = get_srn_companies()\n",
    "print(len(srn_companies))\n",
    "print(srn_companies[0])"
   ]
  },
  {
   "cell_type": "code",
   "execution_count": 5,
   "id": "cbc8010a",
   "metadata": {},
   "outputs": [
    {
     "name": "stdout",
     "output_type": "stream",
     "text": [
      "11922\n",
      "{'id': '8e22a8db-51ec-49f2-9118-52b5f3e745bd', 'name': 'A.P. Møller-Mærsk Sustainability Report 2022', 'href': 'https://www.maersk.com/~/media_sc9/maersk/corporate/sustainability/files/resources/2022/maersk-sustainability-yearly-report_2022.pdf?la=de-de&hash=C82244C7CF694E2B8D83CDC7BAC8306D', 'type': 'SR', 'year': '2022', 'source': 'url_cached', 'company_id': '4e2266f6-6bc9-469f-bfa0-344873b81fc6', 'created_at': '2023-10-14T10:30:05.879596', 'created_by_info': None}\n"
     ]
    }
   ],
   "source": [
    "# retrieve all documents from the SRN database\n",
    "documents = get_srn_documents()\n",
    "print(len(documents))\n",
    "print(documents[0])"
   ]
  },
  {
   "cell_type": "markdown",
   "id": "0b9aff0a",
   "metadata": {},
   "source": [
    "## Prepare datasets for further investigation\n",
    "\n",
    "### 1. For all companies available"
   ]
  },
  {
   "cell_type": "code",
   "execution_count": 6,
   "id": "173dc2d5",
   "metadata": {},
   "outputs": [
    {
     "data": {
      "application/vnd.microsoft.datawrangler.viewer.v0+json": {
       "columns": [
        {
         "name": "index",
         "rawType": "int64",
         "type": "integer"
        },
        {
         "name": "id",
         "rawType": "object",
         "type": "string"
        },
        {
         "name": "name",
         "rawType": "object",
         "type": "string"
        },
        {
         "name": "country_x",
         "rawType": "object",
         "type": "string"
        },
        {
         "name": "sector_x",
         "rawType": "object",
         "type": "string"
        },
        {
         "name": "company_type",
         "rawType": "object",
         "type": "string"
        },
        {
         "name": "normalized_name",
         "rawType": "object",
         "type": "string"
        },
        {
         "name": "Unnamed: 0",
         "rawType": "float64",
         "type": "float"
        },
        {
         "name": "company_withAccessInfo",
         "rawType": "object",
         "type": "unknown"
        },
        {
         "name": "link",
         "rawType": "object",
         "type": "unknown"
        },
        {
         "name": "country_y",
         "rawType": "object",
         "type": "unknown"
        },
        {
         "name": "sector_y",
         "rawType": "object",
         "type": "unknown"
        },
        {
         "name": "industry",
         "rawType": "object",
         "type": "unknown"
        },
        {
         "name": "publication date",
         "rawType": "object",
         "type": "unknown"
        },
        {
         "name": "pages PDF",
         "rawType": "float64",
         "type": "float"
        },
        {
         "name": "auditor",
         "rawType": "object",
         "type": "unknown"
        },
        {
         "name": "type",
         "rawType": "object",
         "type": "unknown"
        },
        {
         "name": "year",
         "rawType": "float64",
         "type": "float"
        }
       ],
       "conversionMethod": "pd.DataFrame",
       "ref": "463b5af0-2bdf-49bc-b268-fbda41efb333",
       "rows": [
        [
         "0",
         "8dee5d4e-2b5d-44c4-a78d-2d5d8dd92df1",
         "1&1",
         "Germany",
         "Media & Entertainment",
         "public",
         "1&1",
         null,
         null,
         null,
         null,
         null,
         null,
         null,
         null,
         null,
         null,
         null
        ],
        [
         "1",
         "def442c8-8f64-42c3-af85-728971264d7e",
         "3i Group PLC",
         "United Kingdom",
         "Financial Services",
         "public",
         "3igroupplc",
         null,
         null,
         null,
         null,
         null,
         null,
         null,
         null,
         null,
         null,
         null
        ],
        [
         "2",
         "b21cc316-6693-4dc9-a5d5-fabf650b5787",
         "3M",
         "United States",
         "Basic Materials & Mining",
         "public",
         "3m",
         null,
         null,
         null,
         null,
         null,
         null,
         null,
         null,
         null,
         null,
         null
        ],
        [
         "3",
         "1bcd009f-f39f-44a5-8d61-69e531bffcb9",
         "4Workers Sp. z o.o.",
         "Poland",
         "Clothing & Footwear",
         "private",
         "4workerssp.zo.o.",
         null,
         null,
         null,
         null,
         null,
         null,
         null,
         null,
         null,
         null,
         null
        ],
        [
         "4",
         "4e2266f6-6bc9-469f-bfa0-344873b81fc6",
         "A.P. Moeller-Maersk",
         "Denmark",
         "Automobiles & Other Transport Vehicles",
         "public",
         "a.p.moeller-maersk",
         null,
         null,
         null,
         null,
         null,
         null,
         null,
         null,
         null,
         null,
         null
        ]
       ],
       "shape": {
        "columns": 17,
        "rows": 5
       }
      },
      "text/html": [
       "<div>\n",
       "<style scoped>\n",
       "    .dataframe tbody tr th:only-of-type {\n",
       "        vertical-align: middle;\n",
       "    }\n",
       "\n",
       "    .dataframe tbody tr th {\n",
       "        vertical-align: top;\n",
       "    }\n",
       "\n",
       "    .dataframe thead th {\n",
       "        text-align: right;\n",
       "    }\n",
       "</style>\n",
       "<table border=\"1\" class=\"dataframe\">\n",
       "  <thead>\n",
       "    <tr style=\"text-align: right;\">\n",
       "      <th></th>\n",
       "      <th>id</th>\n",
       "      <th>name</th>\n",
       "      <th>country_x</th>\n",
       "      <th>sector_x</th>\n",
       "      <th>company_type</th>\n",
       "      <th>normalized_name</th>\n",
       "      <th>Unnamed: 0</th>\n",
       "      <th>company_withAccessInfo</th>\n",
       "      <th>link</th>\n",
       "      <th>country_y</th>\n",
       "      <th>sector_y</th>\n",
       "      <th>industry</th>\n",
       "      <th>publication date</th>\n",
       "      <th>pages PDF</th>\n",
       "      <th>auditor</th>\n",
       "      <th>type</th>\n",
       "      <th>year</th>\n",
       "    </tr>\n",
       "  </thead>\n",
       "  <tbody>\n",
       "    <tr>\n",
       "      <th>0</th>\n",
       "      <td>8dee5d4e-2b5d-44c4-a78d-2d5d8dd92df1</td>\n",
       "      <td>1&amp;1</td>\n",
       "      <td>Germany</td>\n",
       "      <td>Media &amp; Entertainment</td>\n",
       "      <td>public</td>\n",
       "      <td>1&amp;1</td>\n",
       "      <td>NaN</td>\n",
       "      <td>NaN</td>\n",
       "      <td>NaN</td>\n",
       "      <td>NaN</td>\n",
       "      <td>NaN</td>\n",
       "      <td>NaN</td>\n",
       "      <td>NaN</td>\n",
       "      <td>NaN</td>\n",
       "      <td>NaN</td>\n",
       "      <td>NaN</td>\n",
       "      <td>NaN</td>\n",
       "    </tr>\n",
       "    <tr>\n",
       "      <th>1</th>\n",
       "      <td>def442c8-8f64-42c3-af85-728971264d7e</td>\n",
       "      <td>3i Group PLC</td>\n",
       "      <td>United Kingdom</td>\n",
       "      <td>Financial Services</td>\n",
       "      <td>public</td>\n",
       "      <td>3igroupplc</td>\n",
       "      <td>NaN</td>\n",
       "      <td>NaN</td>\n",
       "      <td>NaN</td>\n",
       "      <td>NaN</td>\n",
       "      <td>NaN</td>\n",
       "      <td>NaN</td>\n",
       "      <td>NaN</td>\n",
       "      <td>NaN</td>\n",
       "      <td>NaN</td>\n",
       "      <td>NaN</td>\n",
       "      <td>NaN</td>\n",
       "    </tr>\n",
       "    <tr>\n",
       "      <th>2</th>\n",
       "      <td>b21cc316-6693-4dc9-a5d5-fabf650b5787</td>\n",
       "      <td>3M</td>\n",
       "      <td>United States</td>\n",
       "      <td>Basic Materials &amp; Mining</td>\n",
       "      <td>public</td>\n",
       "      <td>3m</td>\n",
       "      <td>NaN</td>\n",
       "      <td>NaN</td>\n",
       "      <td>NaN</td>\n",
       "      <td>NaN</td>\n",
       "      <td>NaN</td>\n",
       "      <td>NaN</td>\n",
       "      <td>NaN</td>\n",
       "      <td>NaN</td>\n",
       "      <td>NaN</td>\n",
       "      <td>NaN</td>\n",
       "      <td>NaN</td>\n",
       "    </tr>\n",
       "    <tr>\n",
       "      <th>3</th>\n",
       "      <td>1bcd009f-f39f-44a5-8d61-69e531bffcb9</td>\n",
       "      <td>4Workers Sp. z o.o.</td>\n",
       "      <td>Poland</td>\n",
       "      <td>Clothing &amp; Footwear</td>\n",
       "      <td>private</td>\n",
       "      <td>4workerssp.zo.o.</td>\n",
       "      <td>NaN</td>\n",
       "      <td>NaN</td>\n",
       "      <td>NaN</td>\n",
       "      <td>NaN</td>\n",
       "      <td>NaN</td>\n",
       "      <td>NaN</td>\n",
       "      <td>NaN</td>\n",
       "      <td>NaN</td>\n",
       "      <td>NaN</td>\n",
       "      <td>NaN</td>\n",
       "      <td>NaN</td>\n",
       "    </tr>\n",
       "    <tr>\n",
       "      <th>4</th>\n",
       "      <td>4e2266f6-6bc9-469f-bfa0-344873b81fc6</td>\n",
       "      <td>A.P. Moeller-Maersk</td>\n",
       "      <td>Denmark</td>\n",
       "      <td>Automobiles &amp; Other Transport Vehicles</td>\n",
       "      <td>public</td>\n",
       "      <td>a.p.moeller-maersk</td>\n",
       "      <td>NaN</td>\n",
       "      <td>NaN</td>\n",
       "      <td>NaN</td>\n",
       "      <td>NaN</td>\n",
       "      <td>NaN</td>\n",
       "      <td>NaN</td>\n",
       "      <td>NaN</td>\n",
       "      <td>NaN</td>\n",
       "      <td>NaN</td>\n",
       "      <td>NaN</td>\n",
       "      <td>NaN</td>\n",
       "    </tr>\n",
       "  </tbody>\n",
       "</table>\n",
       "</div>"
      ],
      "text/plain": [
       "                                     id                 name       country_x  \\\n",
       "0  8dee5d4e-2b5d-44c4-a78d-2d5d8dd92df1                  1&1         Germany   \n",
       "1  def442c8-8f64-42c3-af85-728971264d7e         3i Group PLC  United Kingdom   \n",
       "2  b21cc316-6693-4dc9-a5d5-fabf650b5787                   3M   United States   \n",
       "3  1bcd009f-f39f-44a5-8d61-69e531bffcb9  4Workers Sp. z o.o.          Poland   \n",
       "4  4e2266f6-6bc9-469f-bfa0-344873b81fc6  A.P. Moeller-Maersk         Denmark   \n",
       "\n",
       "                                 sector_x company_type     normalized_name  \\\n",
       "0                   Media & Entertainment       public                 1&1   \n",
       "1                      Financial Services       public          3igroupplc   \n",
       "2                Basic Materials & Mining       public                  3m   \n",
       "3                     Clothing & Footwear      private    4workerssp.zo.o.   \n",
       "4  Automobiles & Other Transport Vehicles       public  a.p.moeller-maersk   \n",
       "\n",
       "   Unnamed: 0 company_withAccessInfo link country_y sector_y industry  \\\n",
       "0         NaN                    NaN  NaN       NaN      NaN      NaN   \n",
       "1         NaN                    NaN  NaN       NaN      NaN      NaN   \n",
       "2         NaN                    NaN  NaN       NaN      NaN      NaN   \n",
       "3         NaN                    NaN  NaN       NaN      NaN      NaN   \n",
       "4         NaN                    NaN  NaN       NaN      NaN      NaN   \n",
       "\n",
       "  publication date  pages PDF auditor type  year  \n",
       "0              NaN        NaN     NaN  NaN   NaN  \n",
       "1              NaN        NaN     NaN  NaN   NaN  \n",
       "2              NaN        NaN     NaN  NaN   NaN  \n",
       "3              NaN        NaN     NaN  NaN   NaN  \n",
       "4              NaN        NaN     NaN  NaN   NaN  "
      ]
     },
     "execution_count": 6,
     "metadata": {},
     "output_type": "execute_result"
    }
   ],
   "source": [
    "all_sr = pd.DataFrame(srn_companies)\n",
    "all_sr = all_sr.drop(columns=['isin', 'href', 'href_logo', 'indices']) # drop unecessary columns\n",
    "\n",
    "# normalize company name to lowercase and remove whitespace\n",
    "all_sr['normalized_name'] = all_sr['name'].str.lower()\n",
    "all_sr['normalized_name'] = all_sr['normalized_name'].str.replace(' ', '')\n",
    "\n",
    "# also remove * in the names in reports_24 & normalize the name\n",
    "reports_24['company_withAccessInfo'] = reports_24['company_withAccessInfo'].str.replace('*', '')\n",
    "reports_24['normalized_name'] = reports_24['company_withAccessInfo'].str.lower()\n",
    "reports_24['normalized_name'] = reports_24['normalized_name'].str.replace(' ', '')\n",
    "\n",
    "# add a column type = CSRD to the reports_24 dataframe\n",
    "reports_24['type'] = 'CSRD'\n",
    "# add a column year = 2024\n",
    "reports_24['year'] = 2024\t\n",
    "\n",
    "# merge the two datasets on the normalized name\n",
    "all_sr = pd.merge(all_sr, reports_24, on='normalized_name', how='outer')\n",
    "\n",
    "all_sr.head()"
   ]
  },
  {
   "cell_type": "code",
   "execution_count": 7,
   "id": "0e013508",
   "metadata": {},
   "outputs": [
    {
     "name": "stdout",
     "output_type": "stream",
     "text": [
      "            name company_withAccessInfo\n",
      "29        Adidas                 adidas\n",
      "48       Aixtron                AIXTRON\n",
      "582   Kion Group             KION Group\n",
      "587         KONE                   Kone\n",
      "781         Relx                   RELX\n",
      "981    TietoEVRY              Tietoevry\n",
      "1042       Vinci                  VINCI\n"
     ]
    },
    {
     "name": "stderr",
     "output_type": "stream",
     "text": [
      "C:\\Users\\julia\\AppData\\Local\\Temp\\ipykernel_19964\\960314625.py:7: SettingWithCopyWarning: \n",
      "A value is trying to be set on a copy of a slice from a DataFrame.\n",
      "Try using .loc[row_indexer,col_indexer] = value instead\n",
      "\n",
      "See the caveats in the documentation: https://pandas.pydata.org/pandas-docs/stable/user_guide/indexing.html#returning-a-view-versus-a-copy\n",
      "  control['names_match'] = control['name'] == control['company_withAccessInfo']\n"
     ]
    }
   ],
   "source": [
    "### controll whether the two dataframes contain any mismatches in the information they provide\n",
    "\n",
    "# drop all rows where the name and company_withAccessInfo columns are not the same\n",
    "control = all_sr.dropna()\n",
    "\n",
    "# show whether name and company_withAccessInfo are the same\n",
    "control['names_match'] = control['name'] == control['company_withAccessInfo']\n",
    "mismatches = control[control['names_match'] == False]\n",
    "print(mismatches[['name', 'company_withAccessInfo']])\n"
   ]
  },
  {
   "cell_type": "markdown",
   "id": "d7399cf4",
   "metadata": {},
   "source": [
    "Only differences in writing not in meaning."
   ]
  },
  {
   "cell_type": "code",
   "execution_count": 8,
   "id": "5c42b1ed",
   "metadata": {},
   "outputs": [
    {
     "name": "stdout",
     "output_type": "stream",
     "text": [
      "       name country_x   country_y\n",
      "44   Airbus   Germany      France\n",
      "535  InPost    Poland  Luxembourg\n",
      "694   Nokia    Sweden     Finland\n",
      "844     SEB    France      Sweden\n"
     ]
    },
    {
     "name": "stderr",
     "output_type": "stream",
     "text": [
      "C:\\Users\\julia\\AppData\\Local\\Temp\\ipykernel_19964\\214439586.py:2: SettingWithCopyWarning: \n",
      "A value is trying to be set on a copy of a slice from a DataFrame.\n",
      "Try using .loc[row_indexer,col_indexer] = value instead\n",
      "\n",
      "See the caveats in the documentation: https://pandas.pydata.org/pandas-docs/stable/user_guide/indexing.html#returning-a-view-versus-a-copy\n",
      "  control['country_match'] = control['country_x'] == control['country_y']\n"
     ]
    }
   ],
   "source": [
    "# control the countries\n",
    "control['country_match'] = control['country_x'] == control['country_y']\n",
    "mismatches = control[control['country_match'] == False]\n",
    "print(mismatches[['name', 'country_x', 'country_y']])"
   ]
  },
  {
   "cell_type": "markdown",
   "id": "9890763b",
   "metadata": {},
   "source": [
    "! need further investigation which information is truthfull"
   ]
  },
  {
   "cell_type": "code",
   "execution_count": 9,
   "id": "f5dc7759",
   "metadata": {},
   "outputs": [
    {
     "name": "stdout",
     "output_type": "stream",
     "text": [
      "                name                                sector_x  \\\n",
      "29            Adidas                     Clothing & Footwear   \n",
      "44            Airbus                         Heavy Machinery   \n",
      "48           Aixtron                             Electronics   \n",
      "53             Alfen                 Building & Construction   \n",
      "59           Allianz                               Insurance   \n",
      "...              ...                                     ...   \n",
      "1018             UPM                  Forestry & Agriculture   \n",
      "1042           Vinci                 Building & Construction   \n",
      "1052      Volkswagen  Automobiles & Other Transport Vehicles   \n",
      "1077  Wolters Kluwer          Industrial Products & Services   \n",
      "1080        Wärtsilä                    Industrial Machinery   \n",
      "\n",
      "                                      sector_y  \n",
      "29                              Consumer Goods  \n",
      "44                     Resource Transformation  \n",
      "48                 Technology & Communications  \n",
      "53                     Resource Transformation  \n",
      "59                                  Financials  \n",
      "...                                        ...  \n",
      "1018  Renewable Resources & Alternative Energy  \n",
      "1042                            Infrastructure  \n",
      "1052                            Transportation  \n",
      "1077                                  Services  \n",
      "1080                            Consumer Goods  \n",
      "\n",
      "[81 rows x 3 columns]\n"
     ]
    },
    {
     "name": "stderr",
     "output_type": "stream",
     "text": [
      "C:\\Users\\julia\\AppData\\Local\\Temp\\ipykernel_19964\\2404978995.py:2: SettingWithCopyWarning: \n",
      "A value is trying to be set on a copy of a slice from a DataFrame.\n",
      "Try using .loc[row_indexer,col_indexer] = value instead\n",
      "\n",
      "See the caveats in the documentation: https://pandas.pydata.org/pandas-docs/stable/user_guide/indexing.html#returning-a-view-versus-a-copy\n",
      "  control['sector_match'] = control['sector_x'] == control['sector_y']\n"
     ]
    }
   ],
   "source": [
    "# control the sector\n",
    "control['sector_match'] = control['sector_x'] == control['sector_y']\n",
    "mismatches = control[control['sector_match'] == False]\n",
    "print(mismatches[['name', 'sector_x', 'sector_y']])"
   ]
  },
  {
   "cell_type": "markdown",
   "id": "11b62d12",
   "metadata": {},
   "source": [
    "! need further investigation also with respect to the industry"
   ]
  },
  {
   "cell_type": "code",
   "execution_count": 11,
   "id": "35b59f4a",
   "metadata": {},
   "outputs": [],
   "source": [
    "# impute missing information to columns we want to keep\n",
    "# company name\n",
    "all_sr['name'] = all_sr['name'].fillna(all_sr['company_withAccessInfo'])\n",
    "# country\n",
    "all_sr['country_x'] = all_sr['country_x'].fillna(all_sr['country_y'])\n",
    "# sector\n",
    "all_sr['sector_x'] = all_sr['sector_x'].fillna(all_sr['sector_y'])\n",
    "\n",
    "# finish the dataframe of reports for 2024 by keeping only the columns we need\n",
    "all_sr = all_sr[['id', 'name', 'normalized_name', 'country_x', 'sector_x', 'company_type', 'link', 'year', 'pages PDF', 'auditor', 'type']]\n",
    "all_sr = all_sr.rename(columns={'id': 'company_id', 'name': 'company_name', 'country_x': 'country', 'sector_x': 'sector', 'pages PDF': 'pages_pdf'})"
   ]
  },
  {
   "cell_type": "code",
   "execution_count": 13,
   "id": "6a84305d",
   "metadata": {},
   "outputs": [],
   "source": [
    "### add reports from before 2024\n",
    "documents = pd.DataFrame(documents)\n",
    "\n",
    "# merge the two datasets on company_id\n",
    "all_sr = pd.merge(all_sr, documents, on='company_id', how='outer')\n",
    "\n",
    "# impute missing information to columns we want to keep\n",
    "# link\n",
    "all_sr['link'] = all_sr['link'].fillna(all_sr['href'])\n",
    "# type\n",
    "all_sr['type'] = all_sr['type_x'].fillna(all_sr['type_y'])\n",
    "# year\n",
    "all_sr['year'] = all_sr['year_x'].fillna(all_sr['year_y'])\n",
    "\n",
    "# finish the dataframe by keeping only the columns we need\n",
    "all_sr = all_sr[['company_id', 'company_name', 'normalized_name', 'country', 'sector', 'company_type', 'link', 'type', 'pages_pdf', 'year', 'auditor', 'id']]\n",
    "all_sr = all_sr.rename(columns={'id': 'document_id'})\n"
   ]
  },
  {
   "cell_type": "code",
   "execution_count": 14,
   "id": "cdc6af53",
   "metadata": {},
   "outputs": [],
   "source": [
    "# drop missing in company_name\n",
    "all_sr = all_sr.dropna(subset=['company_name'])"
   ]
  },
  {
   "cell_type": "code",
   "execution_count": 15,
   "id": "70bf5cc4",
   "metadata": {},
   "outputs": [],
   "source": [
    "# drop all missings and empty strings in the link column\n",
    "all_sr = all_sr.dropna(subset=['link'])\n",
    "all_sr = all_sr[all_sr['link'] != '']"
   ]
  },
  {
   "cell_type": "code",
   "execution_count": 16,
   "id": "558fdd73",
   "metadata": {},
   "outputs": [
    {
     "name": "stdout",
     "output_type": "stream",
     "text": [
      "        company_name                                               link\n",
      "3861          Smiths  *https://www.smiths.com/-/media/files/smiths-c...\n",
      "2698         Qinetiq                                                  0\n",
      "7688             EQT       2517f65322a56bad909f90dd00f55506db442bea.pdf\n",
      "10417     SUEZ Group             No internet link available (only PDFs)\n",
      "17     Admiral Group  admiralgroup.co.uk/sites/default/files_public/...\n",
      "16     Admiral Group  admiralgroup.co.uk/sites/default/files_public/...\n",
      "4722    Adecco Group  annualreport2012.adecco.com/fileadmin/user_upl...\n",
      "4727    Adecco Group  annualreport2013.adecco.com/fileadmin/user_upl...\n",
      "4721    Adecco Group  annualreport2014.adecco.com/fileadmin/user_upl...\n",
      "4724    Adecco Group  annualreport2015.adecco.com/fileadmin/user_upl...\n"
     ]
    }
   ],
   "source": [
    "# print links in ascending order\n",
    "all_sr = all_sr.sort_values(by=['link'])\n",
    "print(all_sr[['company_name', 'link']].head(10))"
   ]
  },
  {
   "cell_type": "markdown",
   "id": "8ce729be",
   "metadata": {},
   "source": [
    "### 2. Only companies with CSRD reports in 2024 and sustainability reports before 2024"
   ]
  },
  {
   "cell_type": "markdown",
   "id": "a2dc0d4b",
   "metadata": {},
   "source": [
    "# Extract pdf text"
   ]
  },
  {
   "cell_type": "code",
   "execution_count": null,
   "id": "877727b4",
   "metadata": {},
   "outputs": [],
   "source": [
    "def download_document(id, fpath, timeout=60):\n",
    "    \"\"\"\n",
    "    Retreives a certain document from the SRN Document Database and \n",
    "    stores it at the provided file path.\n",
    "\n",
    "    Args:\n",
    "        id (str): The SRN document id.\n",
    "        fpath (str): A sting containt the file path where you want to\n",
    "            store the file.\n",
    "        timeout (int, optional): Sometimes, a download API call might\n",
    "            nlock because of a dying connection or because the data\n",
    "            is not available. If a timeout is reached, the according\n",
    "            API request will raise an exception and exit. \n",
    "            Defaults to 60 seconds.\n",
    "    \"\"\"\n",
    "    response = requests.get(\n",
    "        srn_api_url + f\"documents/{id}/download\", \n",
    "        timeout=timeout\n",
    "    )\n",
    "    with open(fpath, 'wb') as f: f.write(response.content)"
   ]
  },
  {
   "cell_type": "code",
   "execution_count": 25,
   "id": "54613c44",
   "metadata": {},
   "outputs": [
    {
     "name": "stdout",
     "output_type": "stream",
     "text": [
      "Downloaded document c43e45ee-0246-4e86-9596-0f08b7c5ede2 to document_Smiths2011.pdf\n",
      "Downloaded document 165fb0c3-ee68-43a7-8b62-af05d15081a6 to document_Qinetiq2022.pdf\n",
      "Downloaded document e7ea3b2e-34ed-4ab8-a35e-14e75018ace7 to document_EQT2022.pdf\n",
      "Downloaded document 04529c13-9db0-4cc4-8b37-1ac5149ba17e to document_SUEZ Group2019.pdf\n",
      "Downloaded document 641c9576-2512-4e80-8150-c3cb7583bc35 to document_Admiral Group2013.pdf\n"
     ]
    }
   ],
   "source": [
    "# dowload five pdfs\n",
    "for i in range(5):\n",
    "    # get the document id\n",
    "    doc_id = all_sr.iloc[i]['document_id']\n",
    "    # get company name\n",
    "    company_name = all_sr.iloc[i]['company_name']\n",
    "    # get year\n",
    "    year = all_sr.iloc[i]['year']\n",
    "    # get the file path\n",
    "    fpath = f\"document_{company_name}{year}.pdf\"\n",
    "    # download the document\n",
    "    download_document(doc_id, fpath)\n",
    "    print(f\"Downloaded document {doc_id} to {fpath}\")"
   ]
  },
  {
   "cell_type": "markdown",
   "id": "f2ca845f",
   "metadata": {},
   "source": [
    "--> did not work"
   ]
  },
  {
   "cell_type": "code",
   "execution_count": 17,
   "id": "04de60a4",
   "metadata": {},
   "outputs": [
    {
     "data": {
      "application/vnd.microsoft.datawrangler.viewer.v0+json": {
       "columns": [
        {
         "name": "index",
         "rawType": "int64",
         "type": "integer"
        },
        {
         "name": "company_id",
         "rawType": "object",
         "type": "string"
        },
        {
         "name": "company_name",
         "rawType": "object",
         "type": "string"
        },
        {
         "name": "normalized_name",
         "rawType": "object",
         "type": "string"
        },
        {
         "name": "country",
         "rawType": "object",
         "type": "string"
        },
        {
         "name": "sector",
         "rawType": "object",
         "type": "string"
        },
        {
         "name": "company_type",
         "rawType": "object",
         "type": "unknown"
        },
        {
         "name": "link",
         "rawType": "object",
         "type": "string"
        },
        {
         "name": "type",
         "rawType": "object",
         "type": "string"
        },
        {
         "name": "pages_pdf",
         "rawType": "float64",
         "type": "float"
        },
        {
         "name": "year",
         "rawType": "object",
         "type": "unknown"
        },
        {
         "name": "auditor",
         "rawType": "object",
         "type": "unknown"
        },
        {
         "name": "document_id",
         "rawType": "object",
         "type": "string"
        }
       ],
       "conversionMethod": "pd.DataFrame",
       "ref": "53fa4946-50a4-4cd8-9ee0-c643017b3206",
       "rows": [
        [
         "7083",
         "981ca55f-11a4-4b79-95c9-af66c676e083",
         "Londonmetric Property PLC",
         "londonmetricpropertyplc",
         "United Kingdom",
         "Financial Services",
         null,
         "https://www.londonmetric.com/sites/london-metric/files/sustainability/lmp_responsible_business_2020.pdf",
         "SR",
         null,
         "2020",
         null,
         "99085e04-47ef-41e7-873f-79bc7fe8df3a"
        ],
        [
         "4394",
         "606dffee-a3af-45ac-98e1-94332e916738",
         "Investor",
         "investor",
         "Sweden",
         "Financial Services",
         "public",
         "https://www.investorab.com/media/t11dahrs/cop-investor-ab-2020.pdf",
         "SR",
         null,
         "2020",
         null,
         "dbb53e5b-069f-4eaf-a43f-940f599bb7da"
        ],
        [
         "4746",
         "64f716cf-80ba-40c5-8dfb-38de6d85c73a",
         "PHP Primay Health Properties",
         "phpprimayhealthproperties",
         "United Kingdom",
         "Financial Services",
         "public",
         "https://www.phpgroup.co.uk/application/files/3316/7872/5183/Primary_Health_Properties_PLC_Responsible_Business_Report_2022.pdf",
         "SR",
         null,
         "2022",
         null,
         "c734d646-b4d2-4417-b4d9-8dd213b52d2a"
        ],
        [
         "10917",
         "ecdd8b16-543e-4f0f-ae3c-edad528974d0",
         "Aixtron",
         "aixtron",
         "Germany",
         "Electronics",
         "public",
         "https://www.aixtron.com/investoren/publikationen/2024/en/Annual%20Report%202024.pdf",
         "CSRD",
         "87.0",
         "2024.0",
         "KPMG",
         "78a5f52c-d8a1-4c52-9cc5-c0bb0a4d9da2"
        ],
        [
         "7837",
         "a899ee2f-da85-4220-803d-64fdd8a70c3e",
         "Yara",
         "yara",
         "Norway",
         "Chemicals, Fuels & Biofuels",
         "public",
         "https://www.yara.com/siteassets/investors/057-reports-and-presentations/annual-reports/2013/yara_financial_report_2013.pdf",
         "SR",
         null,
         "2013",
         null,
         "2a3d1d49-7787-46ad-93eb-270c25fd3a94"
        ]
       ],
       "shape": {
        "columns": 12,
        "rows": 5
       }
      },
      "text/html": [
       "<div>\n",
       "<style scoped>\n",
       "    .dataframe tbody tr th:only-of-type {\n",
       "        vertical-align: middle;\n",
       "    }\n",
       "\n",
       "    .dataframe tbody tr th {\n",
       "        vertical-align: top;\n",
       "    }\n",
       "\n",
       "    .dataframe thead th {\n",
       "        text-align: right;\n",
       "    }\n",
       "</style>\n",
       "<table border=\"1\" class=\"dataframe\">\n",
       "  <thead>\n",
       "    <tr style=\"text-align: right;\">\n",
       "      <th></th>\n",
       "      <th>company_id</th>\n",
       "      <th>company_name</th>\n",
       "      <th>normalized_name</th>\n",
       "      <th>country</th>\n",
       "      <th>sector</th>\n",
       "      <th>company_type</th>\n",
       "      <th>link</th>\n",
       "      <th>type</th>\n",
       "      <th>pages_pdf</th>\n",
       "      <th>year</th>\n",
       "      <th>auditor</th>\n",
       "      <th>document_id</th>\n",
       "    </tr>\n",
       "  </thead>\n",
       "  <tbody>\n",
       "    <tr>\n",
       "      <th>7083</th>\n",
       "      <td>981ca55f-11a4-4b79-95c9-af66c676e083</td>\n",
       "      <td>Londonmetric Property PLC</td>\n",
       "      <td>londonmetricpropertyplc</td>\n",
       "      <td>United Kingdom</td>\n",
       "      <td>Financial Services</td>\n",
       "      <td>None</td>\n",
       "      <td>https://www.londonmetric.com/sites/london-metr...</td>\n",
       "      <td>SR</td>\n",
       "      <td>NaN</td>\n",
       "      <td>2020</td>\n",
       "      <td>NaN</td>\n",
       "      <td>99085e04-47ef-41e7-873f-79bc7fe8df3a</td>\n",
       "    </tr>\n",
       "    <tr>\n",
       "      <th>4394</th>\n",
       "      <td>606dffee-a3af-45ac-98e1-94332e916738</td>\n",
       "      <td>Investor</td>\n",
       "      <td>investor</td>\n",
       "      <td>Sweden</td>\n",
       "      <td>Financial Services</td>\n",
       "      <td>public</td>\n",
       "      <td>https://www.investorab.com/media/t11dahrs/cop-...</td>\n",
       "      <td>SR</td>\n",
       "      <td>NaN</td>\n",
       "      <td>2020</td>\n",
       "      <td>NaN</td>\n",
       "      <td>dbb53e5b-069f-4eaf-a43f-940f599bb7da</td>\n",
       "    </tr>\n",
       "    <tr>\n",
       "      <th>4746</th>\n",
       "      <td>64f716cf-80ba-40c5-8dfb-38de6d85c73a</td>\n",
       "      <td>PHP Primay Health Properties</td>\n",
       "      <td>phpprimayhealthproperties</td>\n",
       "      <td>United Kingdom</td>\n",
       "      <td>Financial Services</td>\n",
       "      <td>public</td>\n",
       "      <td>https://www.phpgroup.co.uk/application/files/3...</td>\n",
       "      <td>SR</td>\n",
       "      <td>NaN</td>\n",
       "      <td>2022</td>\n",
       "      <td>NaN</td>\n",
       "      <td>c734d646-b4d2-4417-b4d9-8dd213b52d2a</td>\n",
       "    </tr>\n",
       "    <tr>\n",
       "      <th>10917</th>\n",
       "      <td>ecdd8b16-543e-4f0f-ae3c-edad528974d0</td>\n",
       "      <td>Aixtron</td>\n",
       "      <td>aixtron</td>\n",
       "      <td>Germany</td>\n",
       "      <td>Electronics</td>\n",
       "      <td>public</td>\n",
       "      <td>https://www.aixtron.com/investoren/publikation...</td>\n",
       "      <td>CSRD</td>\n",
       "      <td>87.0</td>\n",
       "      <td>2024.0</td>\n",
       "      <td>KPMG</td>\n",
       "      <td>78a5f52c-d8a1-4c52-9cc5-c0bb0a4d9da2</td>\n",
       "    </tr>\n",
       "    <tr>\n",
       "      <th>7837</th>\n",
       "      <td>a899ee2f-da85-4220-803d-64fdd8a70c3e</td>\n",
       "      <td>Yara</td>\n",
       "      <td>yara</td>\n",
       "      <td>Norway</td>\n",
       "      <td>Chemicals, Fuels &amp; Biofuels</td>\n",
       "      <td>public</td>\n",
       "      <td>https://www.yara.com/siteassets/investors/057-...</td>\n",
       "      <td>SR</td>\n",
       "      <td>NaN</td>\n",
       "      <td>2013</td>\n",
       "      <td>NaN</td>\n",
       "      <td>2a3d1d49-7787-46ad-93eb-270c25fd3a94</td>\n",
       "    </tr>\n",
       "  </tbody>\n",
       "</table>\n",
       "</div>"
      ],
      "text/plain": [
       "                                 company_id                  company_name  \\\n",
       "7083   981ca55f-11a4-4b79-95c9-af66c676e083     Londonmetric Property PLC   \n",
       "4394   606dffee-a3af-45ac-98e1-94332e916738                      Investor   \n",
       "4746   64f716cf-80ba-40c5-8dfb-38de6d85c73a  PHP Primay Health Properties   \n",
       "10917  ecdd8b16-543e-4f0f-ae3c-edad528974d0                       Aixtron   \n",
       "7837   a899ee2f-da85-4220-803d-64fdd8a70c3e                          Yara   \n",
       "\n",
       "                 normalized_name         country                       sector  \\\n",
       "7083     londonmetricpropertyplc  United Kingdom           Financial Services   \n",
       "4394                    investor          Sweden           Financial Services   \n",
       "4746   phpprimayhealthproperties  United Kingdom           Financial Services   \n",
       "10917                    aixtron         Germany                  Electronics   \n",
       "7837                        yara          Norway  Chemicals, Fuels & Biofuels   \n",
       "\n",
       "      company_type                                               link  type  \\\n",
       "7083          None  https://www.londonmetric.com/sites/london-metr...    SR   \n",
       "4394        public  https://www.investorab.com/media/t11dahrs/cop-...    SR   \n",
       "4746        public  https://www.phpgroup.co.uk/application/files/3...    SR   \n",
       "10917       public  https://www.aixtron.com/investoren/publikation...  CSRD   \n",
       "7837        public  https://www.yara.com/siteassets/investors/057-...    SR   \n",
       "\n",
       "       pages_pdf    year auditor                           document_id  \n",
       "7083         NaN    2020     NaN  99085e04-47ef-41e7-873f-79bc7fe8df3a  \n",
       "4394         NaN    2020     NaN  dbb53e5b-069f-4eaf-a43f-940f599bb7da  \n",
       "4746         NaN    2022     NaN  c734d646-b4d2-4417-b4d9-8dd213b52d2a  \n",
       "10917       87.0  2024.0    KPMG  78a5f52c-d8a1-4c52-9cc5-c0bb0a4d9da2  \n",
       "7837         NaN    2013     NaN  2a3d1d49-7787-46ad-93eb-270c25fd3a94  "
      ]
     },
     "execution_count": 17,
     "metadata": {},
     "output_type": "execute_result"
    }
   ],
   "source": [
    "# randomly select 20 reports from all_sr dataframe\n",
    "sample = all_sr[all_sr['type'].isin(['CSRD', 'SR'])].sample(n=20, random_state=1)\n",
    "sample.head()"
   ]
  },
  {
   "cell_type": "markdown",
   "id": "cddf15ad",
   "metadata": {},
   "source": [
    "# Extract information from sustainability reports\n",
    "\n",
    "During search found several aplication examples of pdf information retrieval:\n",
    "- from SRN: https://github.com/trr266/srn_docs/blob/main/extract_text_from_docs.py \n",
    "- from Chatreport (Ni et al., 2023): https://github.com/EdisonNi-hku/chatreport/blob/main/code/document.py \n",
    "\n",
    "Decided to base my code on Chatrport because:\n",
    "- SRN only extracts raw text, Chatreport uses vector embeddings and semantic search\n",
    "- Chatreport uses PDF Parsing with `PyMuPDF` --> faster, more reliable and accurent in comparioson to pdfminer (used in SRN)\n",
    "- Chatreport extracts metadata like report title, chapter names, and images & uses Vector Search & Retrieval\n",
    "\n"
   ]
  },
  {
   "cell_type": "code",
   "execution_count": null,
   "id": "0f779c72",
   "metadata": {},
   "outputs": [],
   "source": [
    "# Setup & Imports\n",
    "! pip install pymupdf faiss-cpu langchain sentence-transformers\n"
   ]
  },
  {
   "cell_type": "code",
   "execution_count": null,
   "id": "3a0571c7",
   "metadata": {},
   "outputs": [],
   "source": []
  },
  {
   "cell_type": "code",
   "execution_count": null,
   "id": "fff2b4ee",
   "metadata": {},
   "outputs": [],
   "source": [
    "# Prpare Environment & Output Directories\n",
    "import os\n",
    "\n",
    "os.makedirs('reports_db', exist_ok=True)\n",
    "os.makedirs('retrieved_chunks', exist_ok=True)\n",
    "os.makedirs('saved_pdfs', exist_ok=True)\n"
   ]
  },
  {
   "cell_type": "code",
   "execution_count": null,
   "id": "d7832b51",
   "metadata": {},
   "outputs": [],
   "source": []
  },
  {
   "cell_type": "code",
   "execution_count": null,
   "id": "72d42b19",
   "metadata": {},
   "outputs": [],
   "source": [
    "# Iterate through each pdf\n",
    "from tqdm import tqdm\n",
    "\n",
    "all_reports = []\n",
    "for i, row in tqdm(sample.iterrows(), total=len(sample)):\n",
    "    url = row['link']\n",
    "    company_name = row.get('company', f'company_{i}')  # fallback if no company name\n",
    "    db_path = f'reports_db/{company_name}_faiss'\n",
    "    retrieved_path = f'retrieved_chunks/{company_name}'\n",
    "    store_pdf_path = f'saved_pdfs/{company_name}.pdf'\n",
    "    \n",
    "    try:\n",
    "        report = Report(\n",
    "            url=url,\n",
    "            title=company_name,\n",
    "            store_path=store_pdf_path,\n",
    "            db_path=db_path,\n",
    "            retrieved_chunks_path=retrieved_path,\n",
    "        )\n",
    "        all_reports.append(report)\n",
    "    except Exception as e:\n",
    "        print(f\"Failed to process {company_name} - {url} | Error: {e}\")\n"
   ]
  },
  {
   "cell_type": "code",
   "execution_count": null,
   "id": "dcc6da8f",
   "metadata": {},
   "outputs": [],
   "source": [
    "from your_module import Report  # adjust if class is in same file\n",
    "\n",
    "# Directory to store output data\n",
    "db_path_root = \"./faiss_dbs\"\n",
    "retrieved_chunks_path_root = \"./retrieved_chunks\"\n",
    "\n",
    "for idx, row in sample.iterrows():\n",
    "    url = row['link']\n",
    "    company_name = row.get('company_name', f\"report_{idx}\")  # fallback name\n",
    "    db_path = f\"{db_path_root}/{company_name}_db\"\n",
    "    retrieved_path = f\"{retrieved_chunks_path_root}/{company_name}\"\n",
    "\n",
    "    print(f\"Processing {company_name}...\")\n",
    "\n",
    "    try:\n",
    "        report = Report(\n",
    "            url=url,\n",
    "            db_path=db_path,\n",
    "            retrieved_chunks_path=retrieved_path\n",
    "        )\n",
    "        print(f\"✅ Done: {company_name}\")\n",
    "    except Exception as e:\n",
    "        print(f\"❌ Failed to process {company_name}: {e}\")\n"
   ]
  },
  {
   "cell_type": "markdown",
   "id": "658f0103",
   "metadata": {},
   "source": [
    "# PyMuPDF\n",
    "\n",
    "Additional information:\n",
    "- extract text as blocks https://github.com/pymupdf/PyMuPDF-Utilities/blob/master/text-extraction/PDF2TextBlocks.py\n"
   ]
  },
  {
   "cell_type": "code",
   "execution_count": 18,
   "id": "b650ff25",
   "metadata": {},
   "outputs": [],
   "source": [
    "import pymupdf\n",
    "\n",
    "doc = pymupdf.open(\"Lonza_2021.pdf\") # open a document"
   ]
  },
  {
   "cell_type": "code",
   "execution_count": 21,
   "id": "9ac7319e",
   "metadata": {},
   "outputs": [],
   "source": [
    "out = open(\"output.txt\", \"wb\") # create a text output\n",
    "for page in doc: # iterate the document pages\n",
    "    text = page.get_text().encode(\"utf8\") # get plain text (is in UTF-8)\n",
    "    out.write(text) # write text of page\n",
    "    out.write(bytes((12,))) # write page delimiter (form feed 0x0C)\n",
    "out.close() # close the output file"
   ]
  },
  {
   "cell_type": "code",
   "execution_count": 35,
   "id": "05e04537",
   "metadata": {},
   "outputs": [],
   "source": [
    "import fitz  # PyMuPDF\n",
    "\n",
    "def extract_text_from_pdf(filename):\n",
    "    ofile = filename + \".txt\"\n",
    "    doc = fitz.open(filename)\n",
    "    with open(ofile, \"wb\") as fout:\n",
    "        for page in doc:\n",
    "            fout.write(page.get_text().encode(\"utf-8\") + bytes((12,)))\n",
    "\n",
    "# Usage\n",
    "extract_text_from_pdf(\"Lonza_2021.pdf\")"
   ]
  },
  {
   "cell_type": "code",
   "execution_count": 27,
   "id": "f130b2aa",
   "metadata": {},
   "outputs": [
    {
     "name": "stdout",
     "output_type": "stream",
     "text": [
      "0 found on page 11 of Lonza_2021.pdf\n"
     ]
    }
   ],
   "source": [
    "import pymupdf\n",
    "from pprint import pprint\n",
    "\n",
    "doc = pymupdf.open(\"Lonza_2021.pdf\") # open document\n",
    "page = doc[11] # get the 1st page of the document\n",
    "tabs = page.find_tables() # locate and extract any tables on page\n",
    "print(f\"{len(tabs.tables)} found on {page}\") # display number of found tables\n",
    "\n",
    "if tabs.tables:  # at least one table found?\n",
    "   pprint(tabs[11].extract())  # print content of first table"
   ]
  },
  {
   "cell_type": "code",
   "execution_count": 30,
   "id": "0806028c",
   "metadata": {},
   "outputs": [
    {
     "name": "stderr",
     "output_type": "stream",
     "text": [
      "[INFO] \u001b[1;36m[1/4] Opening document...\u001b[0m\n",
      "[INFO] \u001b[1;36m[2/4] Analyzing document...\u001b[0m\n",
      "[INFO] \u001b[1;36m[3/4] Parsing pages...\u001b[0m\n",
      "[INFO] (1/7) Page 1\n",
      "[INFO] (2/7) Page 2\n",
      "[INFO] (3/7) Page 3\n",
      "[INFO] (4/7) Page 4\n",
      "[INFO] (5/7) Page 5\n",
      "[INFO] (6/7) Page 6\n",
      "[INFO] (7/7) Page 7\n"
     ]
    }
   ],
   "source": [
    "from pdf2docx import Converter\n",
    "\n",
    "pdf_file = 'Lonza_2021.pdf'\n",
    "\n",
    "cv = Converter(pdf_file)\n",
    "tables = cv.extract_tables(start=0, end=7)\n",
    "cv.close()\n",
    "\n",
    "for table in tables:\n",
    "    print(table)"
   ]
  }
 ],
 "metadata": {
  "kernelspec": {
   "display_name": ".venv",
   "language": "python",
   "name": "python3"
  },
  "language_info": {
   "codemirror_mode": {
    "name": "ipython",
    "version": 3
   },
   "file_extension": ".py",
   "mimetype": "text/x-python",
   "name": "python",
   "nbconvert_exporter": "python",
   "pygments_lexer": "ipython3",
   "version": "3.12.3"
  }
 },
 "nbformat": 4,
 "nbformat_minor": 5
}

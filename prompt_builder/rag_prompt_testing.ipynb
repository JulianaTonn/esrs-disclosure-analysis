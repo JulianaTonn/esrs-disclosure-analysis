{
 "cells": [
  {
   "cell_type": "markdown",
   "id": "d48b96af",
   "metadata": {},
   "source": [
    "# Testing the prompts for the RAG implementation\n",
    "Purpose of the notebook: test which questions work best for RAG "
   ]
  },
  {
   "cell_type": "code",
   "execution_count": 16,
   "id": "f0304adf",
   "metadata": {},
   "outputs": [],
   "source": [
    "QUERIES = {\n",
    "    'general': [\"What is the company of the report?\", \"What sector does the company belong to?\", \"Where is the company located?\"],\n",
    "    'S1_A': \"What are the material risks and opportunities arising from the company’s impacts and dependencies on people in its own workforce?\",\n",
    "    'S1_B': \"What are the material impacts on the company’s own workforce, who is affected, and how are these impacts managed?\",\n",
    "    'S1_C': \"How does the company identify, prevent, and address negative impacts on its own workforce and how is affected by them?\",\n",
    "    'S1_D': \"What are the company’s material positive impacts on its own workforce, and who benefits from them?\",\n",
    "    'S1_E': \"What are the company’s human rights and labor rights commitments for its own workforce, what violations have occured, how were they managed? Which operations are considered at significant risk for human rights violations such as forced labor, child labor, or trafficking?\",\n",
    "    'S1_F': \"How does the company manage workplace accident prevention?\",\n",
    "    'S1_G': \"What policies does the company have in place to eliminate discrimination and promote diversity and inclusion within its own workforce, and how are these policies implemented and enforced?\",\n",
    "    'S1_H': \"When and how does the company engage with its own workforce or their representatives in decision-making processes and who in the organization is responsible that engagement influences strategy and operations? How does the company assess the effectiveness of its workforce engagement practices?\",\n",
    "    'S1_I': \"Has the company taken any actions to provide or enable remedy for negative impacts on its own workforce, and how does it ensure that such remedies are appropriate and effective?\",\n",
    "    'S1_J': \"What channels are available for people in the company’s own workforce to raise concerns or needs, how are these channels supported, protected, and monitored?\",\n",
    "    'S1_K': \"How does the company ensure that its employees receive adequate wages?\",\n",
    "    'S1_L': \"To what extent does the company’s own workforce receive social protection, and how does the company address employees who are not yet covered by such protections?\",\n",
    "}"
   ]
  },
  {
   "cell_type": "code",
   "execution_count": 19,
   "id": "9fd7f959",
   "metadata": {},
   "outputs": [
    {
     "name": "stderr",
     "output_type": "stream",
     "text": [
      "c:\\Users\\julia\\OneDrive - UT Cloud\\Thesis\\esg_extraction\\report_processing\\report_processor.py:83: LangChainDeprecationWarning: The method `BaseRetriever.get_relevant_documents` was deprecated in langchain-core 0.1.46 and will be removed in 1.0. Use :meth:`~invoke` instead.\n",
      "  docs_1 = self.retriever.get_relevant_documents(self.queries[key][0])[:5]\n"
     ]
    }
   ],
   "source": [
    "import sys\n",
    "import os\n",
    "\n",
    "# Adjust this path relative to your notebook\n",
    "sys.path.append(os.path.abspath(\"../report_processing\"))\n",
    "\n",
    "from report_processor import ReportProcessor\n",
    "sample_url = \"https://www.volkswagen-group.com/en/publications/more/annual-report-2024-2931/download?disposition=attachment\"\n",
    "db_path = \"sample_faiss_index\"\n",
    "\n",
    "rp = ReportProcessor(url=sample_url, queries=QUERIES)\n",
    "\n",
    "# Step 1: Load and parse the PDF\n",
    "rp.load_pdf()\n",
    "rp.extract_text()\n",
    "\n",
    "# Step 2: Create the retriever and FAISS index\n",
    "retriever, doc_search = rp._get_retriever(db_path)\n",
    "\n",
    "# Step 3: Retrieve relevant chunks based on queries\n",
    "answers = rp._retrieve_chunks()"
   ]
  },
  {
   "cell_type": "code",
   "execution_count": 20,
   "id": "5fb7631e",
   "metadata": {},
   "outputs": [
    {
     "name": "stdout",
     "output_type": "stream",
     "text": [
      "of the AktG to ensure early detection of any risks endangering the continued existence of the Company. The Report \n",
      "on Relationships of Volkswagen AG with Affiliated Companies as per section 312 of the AktG (dependent company \n",
      "report) submitted by the Board of Management for the period from January 1 to December 31, 2024 was also \n",
      "audited by the auditor, who issued the following opinion: “In our opinion and in accordance with our statutory audit,\n",
      "---\n",
      "Report on Risks and Opportunities  \n",
      " \n",
      "215 \n",
      "Group Management Report \n",
      " \n",
      "judgment was filed with the Stuttgart Higher Regional Court against Porsche SE; Volkswagen AG is involved in \n",
      "this action as a third party intervening in support of a party to the dispute. The Wolverhampton City Council, \n",
      "Administrating Authority for the West Midlands Metropolitan Authorities Pension Fund, was appointed model case\n",
      "---\n",
      "Report on Expected Developments  \n",
      " \n",
      "175 \n",
      "Group Management Report \n",
      "In the following, we describe the expected development of the Volkswagen Group and the general framework for \n",
      "its business activities. Risks and opportunities that could represent a departure from the forecast trends are \n",
      "presented in the Report on Risks and Opportunities. \n",
      "Our assumptions are based on current estimates by third-party institutions. These include economic research\n",
      "---\n",
      "Business conduct \n",
      "information  \n",
      "431\n",
      "Sustainability Report \n",
      "As set out in the Group policy on the whistleblower system, active elements of the whistleblower system include \n",
      "the Legal department, Internal Audit, the Security department, HR, and the Compliance department. \n",
      "The reporting channels are available around the clock and accept reports in all languages, including on \n",
      "supplier-related risks and breaches of human rights and environmental standards. They include an online reporting\n",
      "---\n",
      "Report on Risks and Opportunities  \n",
      " \n",
      "208 \n",
      "Group Management Report \n",
      " \n",
      "signatory states (including all EU states, other countries in Eastern Europe, the USA and Canada). These are also \n",
      "due for revision. Enhancements to the product portfolio in the Power Engineering segment focus on improving the \n",
      "efficiency and emissions reduction of equipment and systems. While adhering to current and future emissions\n",
      "---\n",
      "The company’s main area of economic activity is the manufacture of motor vehicles. The investments in this sector \n",
      "are the only ones classified as material. The analysis of economic activities revealed that activities involving coal, \n",
      "oil, and gas primarily take place in the context of vehicle-related business and are to be attributed to this.\n",
      "---\n",
      "listed company.  \n",
      "We are convinced that our corporate structure, which connects not only the brand groups but also the \n",
      "technology platforms, will enable us to make better use of existing expertise and economies of scale, leverage \n",
      "synergies more systematically and accelerate decision-making. In our view, clear responsibilities and a high \n",
      "degree of business responsibility in the brand groups and technology platforms form the basis for our sustainable \n",
      "success.\n",
      "---\n",
      "Volkswagen Group.\n",
      "---\n",
      "nities, Risks and Exposure (ENCORE). This performs a sector analysis in order to assess potential risks, impacts \n",
      "and dependencies in the context of the relevant sector. It focuses solely on the potential impacts that may arise \n",
      "from the Volkswagen Group’s own production, excluding the associated impacts from the supply chain (for exa-\n",
      "mple, metal production). The evaluation looked at the sector’s potential impact on a range of impact categories.\n",
      "---\n",
      "tive sector. The aim is to not only accelerate innovations but also scale them up for industrial production. The\n",
      "industry needs access to cheaper energy. It is important to diversify the sources of raw materials and enter into\n",
      "partnerships with third countries. Furthermore, regulations or red tape must not put European companies at a\n",
      "disadvantage.\n",
      "Volkswagen AG (R001681), Dr. Ing. h.c. F. Porsche AG (R001768), TRATON SE (R001565), VW Financial Services\n",
      "---\n",
      "long-term strategic partnership. The principal place of business is in Shanghai/China. \n",
      " \n",
      " \n",
      "SAIC-Volkswagen Sales Company \n",
      "SAIC-Volkswagen Sales Company sells passenger cars for SAIC-Volkswagen Automotive Company. There is an \n",
      "agreement in place between Group companies and the joint venture partner Shanghai Automotive Industry Cor-\n",
      "poration regarding a long-term strategic partnership. The principal place of business is in Shanghai/China.\n",
      "---\n",
      "group.com/investor-relations.\n",
      "---\n",
      "listed company.  \n",
      "We are convinced that our corporate structure, which connects not only the brand groups but also the \n",
      "technology platforms, will enable us to make better use of existing expertise and economies of scale, leverage \n",
      "synergies more systematically and accelerate decision-making. In our view, clear responsibilities and a high \n",
      "degree of business responsibility in the brand groups and technology platforms form the basis for our sustainable \n",
      "success.\n",
      "---\n",
      "place between Group companies and the joint venture partner China FAW Corporation Limited regarding a long-\n",
      "term strategic partnership. The principal place of business is in Changchun/China. \n",
      " \n",
      " \n",
      "SAIC-Volkswagen Automotive Company \n",
      "SAIC-Volkswagen Automotive Company develops and produces passenger cars. There is an agreement in place \n",
      "between Group companies and the joint venture partner Shanghai Automotive Industry Corporation regarding a\n",
      "---\n",
      "Volkswagen Group.\n",
      "---\n"
     ]
    }
   ],
   "source": [
    "# Example: print general section\n",
    "for doc in answers['general']:\n",
    "    print(doc.page_content)\n",
    "    print(\"---\")"
   ]
  },
  {
   "cell_type": "code",
   "execution_count": null,
   "id": "0ddf41b1",
   "metadata": {},
   "outputs": [
    {
     "ename": "SyntaxError",
     "evalue": "invalid syntax (642749628.py, line 1)",
     "output_type": "error",
     "traceback": [
      "  \u001b[36mCell\u001b[39m\u001b[36m \u001b[39m\u001b[32mIn[9]\u001b[39m\u001b[32m, line 1\u001b[39m\n\u001b[31m    \u001b[39m\u001b[31mfrom ..report_processing/report_processor import ReportProcessor\u001b[39m\n                            ^\n\u001b[31mSyntaxError\u001b[39m\u001b[31m:\u001b[39m invalid syntax\n"
     ]
    }
   ],
   "source": [
    "from report_processor import ReportProcessor\n",
    "\n",
    "def extract_text_from_link(row):\n",
    "    try:\n",
    "        rp = ReportProcessor(url=row['link'])\n",
    "        rp.load_pdf()\n",
    "        rp.extract_text()\n",
    "        return rp.all_text  # or rp.text_list if you want page-wise text\n",
    "    except Exception as e:\n",
    "        print(f\"Failed for {row['link']}: {e}\")\n",
    "        return None\n",
    "\n",
    "# Add a column with the raw extracted text\n",
    "sample['extracted_text'] = sample.apply(extract_text_from_link, axis=1)"
   ]
  },
  {
   "cell_type": "code",
   "execution_count": null,
   "id": "532fa4c9",
   "metadata": {},
   "outputs": [],
   "source": [
    "from langchain.text_splitter import RecursiveCharacterTextSplitter\n",
    "from langchain.embeddings.openai import OpenAIEmbeddings"
   ]
  },
  {
   "cell_type": "code",
   "execution_count": 6,
   "id": "2dfc093b",
   "metadata": {},
   "outputs": [],
   "source": [
    "from langchain_openai import OpenAIEmbeddings\n",
    "embeddings = OpenAIEmbeddings()"
   ]
  },
  {
   "cell_type": "code",
   "execution_count": 7,
   "id": "c74fe771",
   "metadata": {},
   "outputs": [],
   "source": [
    "text_splitter = RecursiveCharacterTextSplitter(\n",
    "    chunk_size=500,\n",
    "    chunk_overlap=20,\n",
    "    length_function=len,\n",
    "    separators=[\"\\n\\n\", \"\\n\", \" \"],\n",
    ")"
   ]
  },
  {
   "cell_type": "code",
   "execution_count": null,
   "id": "7b50c6b9",
   "metadata": {},
   "outputs": [],
   "source": []
  }
 ],
 "metadata": {
  "kernelspec": {
   "display_name": ".venv",
   "language": "python",
   "name": "python3"
  },
  "language_info": {
   "codemirror_mode": {
    "name": "ipython",
    "version": 3
   },
   "file_extension": ".py",
   "mimetype": "text/x-python",
   "name": "python",
   "nbconvert_exporter": "python",
   "pygments_lexer": "ipython3",
   "version": "3.12.3"
  }
 },
 "nbformat": 4,
 "nbformat_minor": 5
}

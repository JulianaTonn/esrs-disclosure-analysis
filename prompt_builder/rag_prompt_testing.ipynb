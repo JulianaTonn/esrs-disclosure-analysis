{
 "cells": [
  {
   "cell_type": "markdown",
   "id": "d48b96af",
   "metadata": {},
   "source": [
    "# Testing the prompts for the RAG implementation\n",
    "Purpose of the notebook: "
   ]
  },
  {
   "cell_type": "code",
   "execution_count": null,
   "id": "6ac68193",
   "metadata": {},
   "outputs": [],
   "source": [
    "# read in OpenAI key from environment variable\n",
    "import os\n",
    "import openai\n",
    "os.environ[\"OPENAI_API_KEY\"] = os.getenv(\"OPENAI_API_KEY\")"
   ]
  },
  {
   "cell_type": "code",
   "execution_count": null,
   "id": "f0304adf",
   "metadata": {},
   "outputs": [],
   "source": [
    "TOP_K = 20\n",
    "CHUNK_SIZE = 500\n",
    "CHUNK_OVERLAP = 20\n",
    "COMPRESSION = False\n",
    "\n",
    "QUERIES = {\n",
    "    'general': [\"What is the company of the report?\", \"What sector does the company belong to?\", \"Where is the company located?\"],\n",
    "    'S1_A': \"What are the material risks and opportunities arising from the company’s impacts and dependencies on people in its own workforce?\",\n",
    "    'S1_B': \"What are the material impacts on the company’s own workforce, who is affected, and how are these impacts managed?\",\n",
    "    'S1_C': \"How does the company identify, prevent, and address negative impacts on its own workforce and how is affected by them?\",\n",
    "    'S1_D': \"What are the company’s material positive impacts on its own workforce, and who benefits from them?\",\n",
    "    'S1_E': \"What are the company’s human rights and labor rights commitments for its own workforce, what violations have occured, how were they managed? Which operations are considered at significant risk for human rights violations such as forced labor, child labor, or trafficking?\",\n",
    "    'S1_F': \"How does the company manage workplace accident prevention?\",\n",
    "    'S1_G': \"What policies does the company have in place to eliminate discrimination and promote diversity and inclusion within its own workforce, and how are these policies implemented and enforced?\",\n",
    "    'S1_H': \"When and how does the company engage with its own workforce or their representatives in decision-making processes and who in the organization is responsible that engagement influences strategy and operations? How does the company assess the effectiveness of its workforce engagement practices?\",\n",
    "    'S1_I': \"Has the company taken any actions to provide or enable remedy for negative impacts on its own workforce, and how does it ensure that such remedies are appropriate and effective?\",\n",
    "    'S1_J': \"What channels are available for people in the company’s own workforce to raise concerns or needs, how are these channels supported, protected, and monitored?\",\n",
    "    'S1_K': \"How does the company ensure that its employees receive adequate wages?\",\n",
    "    'S1_L': \"To what extent does the company’s own workforce receive social protection, and how does the company address employees who are not yet covered by such protections?\",\n",
    "}"
   ]
  }
 ],
 "metadata": {
  "language_info": {
   "name": "python"
  }
 },
 "nbformat": 4,
 "nbformat_minor": 5
}

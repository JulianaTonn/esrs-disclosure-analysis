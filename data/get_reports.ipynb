{
 "cells": [
  {
   "cell_type": "code",
   "execution_count": 1,
   "id": "838b71cb",
   "metadata": {},
   "outputs": [],
   "source": [
    "import pandas as pd\n",
    "import pandas as pd\n",
    "import re\n",
    "import geopandas as gpd\n",
    "import matplotlib.pyplot as plt\n",
    "import matplotlib.cm as cm\n",
    "import matplotlib.colors as mcolors"
   ]
  },
  {
   "cell_type": "markdown",
   "id": "ae51695d",
   "metadata": {},
   "source": [
    "# Dataset containing links to the reports\n",
    "Downloaded file from the Sustainability Reporting Navigator\n",
    "\n",
    "https://docs.google.com/spreadsheets/d/1Nlyf8Yz_9Fst8rEmQc2IMc-DWLF1fpmBTB7n4FlZwxs/edit?gid=0#gid=0 \n",
    "date: 14.08.2025"
   ]
  },
  {
   "cell_type": "code",
   "execution_count": 2,
   "id": "3ad16dbd",
   "metadata": {},
   "outputs": [
    {
     "name": "stdout",
     "output_type": "stream",
     "text": [
      "  verified      srn_id        company          isin  country publication date  \\\n",
      "0      yes  tVkXa1OoYn     Netcompany  DK0060952919  Denmark       2025-01-29   \n",
      "1      yes  4P9CZx30gn           Tryg  DK0060636678  Denmark       2025-01-23   \n",
      "2      yes  u63Ki9uBLF  DSV Panalpina  DK0060079531  Denmark       2025-02-04   \n",
      "3      yes  PtoavXijSQ       Lundbeck  DK0061804697  Denmark       2025-02-04   \n",
      "4      yes  g5GXXjndDy         Vestas  DK0061539921  Denmark       2025-02-05   \n",
      "\n",
      "  claim full CSRD compliance   auditor  start PDF  end PDF  pages PDF  \\\n",
      "0                       True        EY       62.0    154.0       93.0   \n",
      "1                       True       PwC       53.0    131.0       79.0   \n",
      "2                       True       PwC       42.0     84.0       43.0   \n",
      "3                       True       PwC       59.0    144.0       86.0   \n",
      "4                       True  Deloitte       51.0    132.0       82.0   \n",
      "\n",
      "                                                link ESEF-\\ntagged  \\\n",
      "0     https://netcompany.com/investor/annual-report/           NaN   \n",
      "1  https://tryg.com/sites/tryg.com/files/2025-01/...           NaN   \n",
      "2  https://investor.dsv.com/static-files/d34d3dfc...           NaN   \n",
      "3  https://www.lundbeck.com/content/dam/lundbeck-...           NaN   \n",
      "4  https://www.vestas.com/content/dam/vestas-com/...           NaN   \n",
      "\n",
      "     SASB industry \\n(SICS® Industries)  \n",
      "0             Internet Media & Services  \n",
      "1                             Insurance  \n",
      "2               Air Freight & Logistics  \n",
      "3       Biotechnology & Pharmaceuticals  \n",
      "4  Wind Technology & Project Developers  \n"
     ]
    }
   ],
   "source": [
    "# read in csv\n",
    "srn_reports_raw = pd.read_csv(\"SRN-CSRD_report_archive - csrd.csv\", header=2)\n",
    "print(srn_reports_raw.head())"
   ]
  },
  {
   "cell_type": "code",
   "execution_count": 3,
   "id": "58cc8988",
   "metadata": {},
   "outputs": [
    {
     "name": "stdout",
     "output_type": "stream",
     "text": [
      "627\n"
     ]
    }
   ],
   "source": [
    "# drop all rows where 'verified' is not yes\n",
    "srn_reports = srn_reports_raw[srn_reports_raw['verified'] == 'yes']\n",
    "print(len(srn_reports))\n",
    "\n",
    "# keep only relevant columns\n",
    "srn_reports = srn_reports[['company', 'isin', 'country', 'publication date', 'auditor', 'link', 'SASB industry \\n(SICS® Industries)']]\n",
    "# rename columns\n",
    "srn_reports = srn_reports.rename(columns={\n",
    "    'publication date': 'publication_date',\n",
    "    'SASB industry \\n(SICS® Industries)': 'SASB_industry'\n",
    "})"
   ]
  },
  {
   "cell_type": "code",
   "execution_count": 4,
   "id": "6348bf99",
   "metadata": {},
   "outputs": [
    {
     "name": "stdout",
     "output_type": "stream",
     "text": [
      "576\n"
     ]
    }
   ],
   "source": [
    "# drop all where isin \"n.a\" or \"n.a.\"\n",
    "srn_reports = srn_reports[~srn_reports['isin'].isin(['n.a', 'n.a.'])]\n",
    "\n",
    "print(len(srn_reports))"
   ]
  },
  {
   "cell_type": "code",
   "execution_count": 5,
   "id": "aafd1d67",
   "metadata": {},
   "outputs": [],
   "source": [
    "# new column for report_id (company name + year)\n",
    "# preparing filenames\n",
    "def prepare_filename(name):\n",
    "    return re.sub(r'[\\\\/*?:\"<>|]', \"\", name)\n",
    "\n",
    "for index, row in srn_reports.iterrows():\n",
    "    company_name = row['company']\n",
    "    report_id = f\"{prepare_filename(company_name)}_2024\".replace(\" \", \"\")\n",
    "    srn_reports.at[index, 'report_id'] = report_id\n"
   ]
  },
  {
   "cell_type": "code",
   "execution_count": 6,
   "id": "404d443c",
   "metadata": {},
   "outputs": [],
   "source": [
    "# save as excel\n",
    "srn_reports.to_excel(\"srn_reports.xlsx\", index=False)"
   ]
  },
  {
   "cell_type": "markdown",
   "id": "2001a9b7",
   "metadata": {},
   "source": [
    "# Dataset with company info\n",
    "\n",
    "retrieved all company data with the help of ISIN code from LSEG (where isin was available)"
   ]
  },
  {
   "cell_type": "code",
   "execution_count": null,
   "id": "a9241c5a",
   "metadata": {},
   "outputs": [],
   "source": [
    "company_data = pd.read_excel(\"company_data.xlsx\")"
   ]
  },
  {
   "cell_type": "code",
   "execution_count": null,
   "id": "10a070a8",
   "metadata": {},
   "outputs": [
    {
     "name": "stdout",
     "output_type": "stream",
     "text": [
      "506\n"
     ]
    }
   ],
   "source": [
    "# drop NAs\n",
    "company_data = company_data.dropna()\n",
    "print(len(company_data))"
   ]
  },
  {
   "cell_type": "code",
   "execution_count": 12,
   "id": "a055ad1f",
   "metadata": {},
   "outputs": [
    {
     "name": "stdout",
     "output_type": "stream",
     "text": [
      "485\n"
     ]
    }
   ],
   "source": [
    "# drop all companys with above 750 employees\n",
    "company_data = company_data[company_data['Number of Employees'] >= 750]\n",
    "print(len(company_data))"
   ]
  },
  {
   "cell_type": "code",
   "execution_count": null,
   "id": "5490d827",
   "metadata": {},
   "outputs": [
    {
     "name": "stdout",
     "output_type": "stream",
     "text": [
      "482\n"
     ]
    }
   ],
   "source": [
    "# keep only srn information on companies that are in company_data\n",
    "esrs_reports = srn_reports[srn_reports['isin'].isin(company_data['ISIN'])]\n",
    "print(len(esrs_reports))"
   ]
  },
  {
   "cell_type": "code",
   "execution_count": 19,
   "id": "fffff097",
   "metadata": {},
   "outputs": [],
   "source": [
    "# save as excel\n",
    "esrs_reports.to_excel(\"esrs_reports.xlsx\", index=False)"
   ]
  }
 ],
 "metadata": {
  "kernelspec": {
   "display_name": ".venv",
   "language": "python",
   "name": "python3"
  },
  "language_info": {
   "codemirror_mode": {
    "name": "ipython",
    "version": 3
   },
   "file_extension": ".py",
   "mimetype": "text/x-python",
   "name": "python",
   "nbconvert_exporter": "python",
   "pygments_lexer": "ipython3",
   "version": "3.12.3"
  }
 },
 "nbformat": 4,
 "nbformat_minor": 5
}

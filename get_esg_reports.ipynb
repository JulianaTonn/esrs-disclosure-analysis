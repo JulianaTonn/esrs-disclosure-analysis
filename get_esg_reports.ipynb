{
 "cells": [
  {
   "cell_type": "markdown",
   "id": "30c630af",
   "metadata": {},
   "source": [
    "# Download Sustainability Reports"
   ]
  },
  {
   "cell_type": "code",
   "execution_count": 6,
   "id": "ec395ce6",
   "metadata": {},
   "outputs": [
    {
     "name": "stdout",
     "output_type": "stream",
     "text": [
      "Collecting requests\n",
      "  Using cached requests-2.32.3-py3-none-any.whl.metadata (4.6 kB)\n",
      "Collecting charset-normalizer<4,>=2 (from requests)\n",
      "  Downloading charset_normalizer-3.4.1-cp312-cp312-win_amd64.whl.metadata (36 kB)\n",
      "Collecting idna<4,>=2.5 (from requests)\n",
      "  Using cached idna-3.10-py3-none-any.whl.metadata (10 kB)\n",
      "Collecting urllib3<3,>=1.21.1 (from requests)\n",
      "  Using cached urllib3-2.3.0-py3-none-any.whl.metadata (6.5 kB)\n",
      "Collecting certifi>=2017.4.17 (from requests)\n",
      "  Downloading certifi-2025.1.31-py3-none-any.whl.metadata (2.5 kB)\n",
      "Using cached requests-2.32.3-py3-none-any.whl (64 kB)\n",
      "Downloading certifi-2025.1.31-py3-none-any.whl (166 kB)\n",
      "Downloading charset_normalizer-3.4.1-cp312-cp312-win_amd64.whl (102 kB)\n",
      "Using cached idna-3.10-py3-none-any.whl (70 kB)\n",
      "Using cached urllib3-2.3.0-py3-none-any.whl (128 kB)\n",
      "Installing collected packages: urllib3, idna, charset-normalizer, certifi, requests\n",
      "Successfully installed certifi-2025.1.31 charset-normalizer-3.4.1 idna-3.10 requests-2.32.3 urllib3-2.3.0\n"
     ]
    }
   ],
   "source": [
    "!pip install requests"
   ]
  },
  {
   "cell_type": "code",
   "execution_count": 7,
   "id": "fdcd2539",
   "metadata": {},
   "outputs": [],
   "source": [
    "!pip freeze > requirements.txt"
   ]
  },
  {
   "cell_type": "code",
   "execution_count": 8,
   "id": "db136583",
   "metadata": {},
   "outputs": [],
   "source": [
    "import pandas as pd\n",
    "import requests"
   ]
  },
  {
   "cell_type": "markdown",
   "id": "abc5568e",
   "metadata": {},
   "source": [
    "## Reports for 2024\n",
    "Source: Sustainability Reporting Navigator (they crowd-source list of CSRD-compliant reports for fiscal years starting on 01/01/2024)\n",
    "\n",
    "Download pdf with a list of all reports under https://www.sustainabilityreportingnavigator.com/#/csrdreports "
   ]
  },
  {
   "cell_type": "code",
   "execution_count": 4,
   "id": "11f953f6",
   "metadata": {},
   "outputs": [],
   "source": [
    "# Open the csv data file\n",
    "reports_24 = pd.read_csv('esg_reports_2024.csv')"
   ]
  },
  {
   "cell_type": "code",
   "execution_count": 9,
   "id": "3d5aea54",
   "metadata": {},
   "outputs": [
    {
     "name": "stdout",
     "output_type": "stream",
     "text": [
      "277\n"
     ]
    }
   ],
   "source": [
    "print(len(reports_24))"
   ]
  },
  {
   "cell_type": "markdown",
   "id": "2f21605f",
   "metadata": {},
   "source": [
    "## Reports for 2010 until 2023\n",
    "Source: Donau, Charlotte-Louise, Fikir Worku Edossa, Joachim Gassen, Gaia Melloni, Inga Meringdal, Bianca Minuth, Arianna Piscella, Paul Pronobis and Victor Wagner (2023): SRN Document Database, https://github.com/trr266/srn_docs.\n",
    "\n",
    "\"Our objective is to develop this repository into a collaborative data platform that provides extensive coverage of sustainability-related documents published by European publicly-listed firms.\""
   ]
  },
  {
   "cell_type": "code",
   "execution_count": 10,
   "id": "3e6149a8",
   "metadata": {},
   "outputs": [
    {
     "name": "stdout",
     "output_type": "stream",
     "text": [
      "Searching comapny with a name containing 'Allianz'\n",
      "Found 1 match(es). Retrieving the documents for the first match.\n",
      "Found 30 documents. Retrieving the first document from the list and storing it as 'test_srn_docs.pdf'.\n",
      "done!\n"
     ]
    }
   ],
   "source": [
    "# Code from SRN API documentation https://github.com/trr266/srn_docs/blob/main/srn_docs_api.py\n",
    "\n",
    "srn_api_url = \"https://api.sustainabilityreportingnavigator.com/api/\"\n",
    "\n",
    "def get_srn_companies():\n",
    "    \"\"\"\n",
    "    Returns a list of companies that are included in SRN Document Database.\n",
    "\n",
    "    Returns:\n",
    "        [list{dict}]: A list containg company level metadata\n",
    "    \"\"\"\n",
    "    response = requests.get(srn_api_url + \"companies\")\n",
    "    return response.json()\n",
    "\n",
    "\n",
    "def get_srn_documents():\n",
    "    \"\"\"\n",
    "    Returns a list of documents that are included in SRN Document Database.\n",
    "\n",
    "    Returns:\n",
    "        [list{dict}]: A list containg document level metadata\n",
    "    \"\"\"\n",
    "    response = requests.get(srn_api_url + \"documents\")\n",
    "    return response.json()\n",
    "\n",
    "\n",
    "def download_document(id, fpath, timeout=60):\n",
    "    \"\"\"\n",
    "    Retreives a certain document from the SRN Document Database and \n",
    "    stores it at the provided file path.\n",
    "\n",
    "    Args:\n",
    "        id (str): The SRN document id.\n",
    "        fpath (str): A sting containt the file path where you want to\n",
    "            store the file.\n",
    "        timeout (int, optional): Sometimes, a download API call might\n",
    "            nlock because of a dying connection or because the data\n",
    "            is not available. If a timeout is reached, the according\n",
    "            API request will raise an exception and exit. \n",
    "            Defaults to 60 seconds.\n",
    "    \"\"\"\n",
    "    response = requests.get(\n",
    "        srn_api_url + f\"documents/{id}/download\", \n",
    "        timeout=timeout\n",
    "    )\n",
    "    with open(fpath, 'wb') as f: f.write(response.content)\n",
    "\n",
    "\n",
    "if __name__ == \"__main__\":\n",
    "    companies = get_srn_companies()\n",
    "    documents = get_srn_documents()\n",
    "    print(\"Searching comapny with a name containing 'Allianz'\")\n",
    "    matches = [c for c in companies if 'Allianz' in c['name']]\n",
    "    print(\n",
    "        f\"Found {len(matches)} match(es). \" +\n",
    "        \"Retrieving the documents for the first match.\"\n",
    "    )\n",
    "    docs = [d for d in documents if d['company_id'] == matches[0]['id']] \n",
    "    FPATH = 'test_srn_docs.pdf'\n",
    "    print(\n",
    "        f\"Found {len(docs)} documents. \" +\n",
    "        \"Retrieving the first document from the list \" +\n",
    "        f\"and storing it as '{FPATH}'.\"\n",
    "    )\n",
    "    download_document(docs[0]['id'], FPATH)\n",
    "    print(\"done!\")"
   ]
  },
  {
   "cell_type": "code",
   "execution_count": 16,
   "id": "30547360",
   "metadata": {},
   "outputs": [],
   "source": [
    "# get a list of all companies in the SRN database\n",
    "srn_companies = get_srn_companies()\n",
    "\n",
    "# covert to a dataframe\n",
    "srn_companies = pd.DataFrame(srn_companies)"
   ]
  },
  {
   "cell_type": "code",
   "execution_count": 17,
   "id": "8991ddfe",
   "metadata": {},
   "outputs": [],
   "source": [
    "# get all companies that are in the reports_24 dataframe and SRN database\n",
    "companies = srn_companies[srn_companies['name'].isin(reports_24['company_withAccessInfo'])]"
   ]
  },
  {
   "cell_type": "markdown",
   "id": "03ee01ba",
   "metadata": {},
   "source": [
    "! reports_24 some companys have * maybe also other preprocessing"
   ]
  }
 ],
 "metadata": {
  "kernelspec": {
   "display_name": ".venv",
   "language": "python",
   "name": "python3"
  },
  "language_info": {
   "codemirror_mode": {
    "name": "ipython",
    "version": 3
   },
   "file_extension": ".py",
   "mimetype": "text/x-python",
   "name": "python",
   "nbconvert_exporter": "python",
   "pygments_lexer": "ipython3",
   "version": "3.12.3"
  }
 },
 "nbformat": 4,
 "nbformat_minor": 5
}

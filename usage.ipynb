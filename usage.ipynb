{
 "cells": [
  {
   "cell_type": "markdown",
   "id": "7fbc3fbd",
   "metadata": {},
   "source": [
    "Purpose: usage examples of my pipeline"
   ]
  },
  {
   "cell_type": "code",
   "execution_count": null,
   "id": "82dde49e",
   "metadata": {},
   "outputs": [],
   "source": [
    "from ReportProcessor import ReportProcessor\n",
    "from ReportAnalyzer import ReportAnalyzer"
   ]
  }
 ],
 "metadata": {
  "kernelspec": {
   "display_name": ".venv",
   "language": "python",
   "name": "python3"
  },
  "language_info": {
   "name": "python",
   "version": "3.12.3"
  }
 },
 "nbformat": 4,
 "nbformat_minor": 5
}

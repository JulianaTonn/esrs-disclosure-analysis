{
 "cells": [
  {
   "cell_type": "markdown",
   "id": "7fbc3fbd",
   "metadata": {},
   "source": [
    "Purpose: usage examples of my pipeline"
   ]
  },
  {
   "cell_type": "code",
   "execution_count": 1,
   "id": "0dde39db-679e-4ed1-a2c3-468e16956b14",
   "metadata": {},
   "outputs": [],
   "source": [
    "import pandas as pd\n",
    "skipped_reports = pd.read_csv(\"skipped_reports.csv\")"
   ]
  },
  {
   "cell_type": "code",
   "execution_count": 40,
   "id": "799a2192-2cfd-401a-92e3-ecbcdb633c0b",
   "metadata": {},
   "outputs": [
    {
     "data": {
      "text/plain": [
       "'https://www.fluidra.com/pdf-viewer.php?file=https://www.fluidra.com/wp-content/uploads/2025/03/3.-Integrated-Report_ENG_vFinal-ENG.pdf'"
      ]
     },
     "execution_count": 40,
     "metadata": {},
     "output_type": "execute_result"
    }
   ],
   "source": [
    "skipped_reports['link'][20]"
   ]
  },
  {
   "cell_type": "code",
   "execution_count": 41,
   "id": "7a70ecfc-120f-4454-8fb0-681a26d625fc",
   "metadata": {},
   "outputs": [
    {
     "data": {
      "text/plain": [
       "'Fluidra_2024'"
      ]
     },
     "execution_count": 41,
     "metadata": {},
     "output_type": "execute_result"
    }
   ],
   "source": [
    "skipped_reports['report_id'][20]"
   ]
  },
  {
   "cell_type": "code",
   "execution_count": 1,
   "id": "d0601010-2576-4733-aa4e-ea451936d9ce",
   "metadata": {},
   "outputs": [],
   "source": [
    "### Load Metadata of Reports to be analyzed\n",
    "import pandas as pd\n",
    "esrs_reports = pd.read_excel(\"./data_preparation/esrs_reports.xlsx\")"
   ]
  },
  {
   "cell_type": "code",
   "execution_count": 2,
   "id": "bef1177a-4f79-4b6d-b137-0f6f69a51441",
   "metadata": {},
   "outputs": [
    {
     "name": "stdout",
     "output_type": "stream",
     "text": [
      "13\n"
     ]
    },
    {
     "data": {
      "text/html": [
       "<div>\n",
       "<style scoped>\n",
       "    .dataframe tbody tr th:only-of-type {\n",
       "        vertical-align: middle;\n",
       "    }\n",
       "\n",
       "    .dataframe tbody tr th {\n",
       "        vertical-align: top;\n",
       "    }\n",
       "\n",
       "    .dataframe thead th {\n",
       "        text-align: right;\n",
       "    }\n",
       "</style>\n",
       "<table border=\"1\" class=\"dataframe\">\n",
       "  <thead>\n",
       "    <tr style=\"text-align: right;\">\n",
       "      <th></th>\n",
       "      <th>company</th>\n",
       "      <th>isin</th>\n",
       "      <th>country</th>\n",
       "      <th>publication_date</th>\n",
       "      <th>auditor</th>\n",
       "      <th>link</th>\n",
       "      <th>SASB_industry</th>\n",
       "      <th>report_id</th>\n",
       "    </tr>\n",
       "  </thead>\n",
       "  <tbody>\n",
       "    <tr>\n",
       "      <th>44</th>\n",
       "      <td>Philips</td>\n",
       "      <td>NL0000009538</td>\n",
       "      <td>Netherlands</td>\n",
       "      <td>2025-02-21</td>\n",
       "      <td>EY</td>\n",
       "      <td>https://www.results.philips.com/publications/a...</td>\n",
       "      <td>Electric Utilities &amp; Power Generators</td>\n",
       "      <td>Philips_2024</td>\n",
       "    </tr>\n",
       "    <tr>\n",
       "      <th>50</th>\n",
       "      <td>UniCredit</td>\n",
       "      <td>IT0005239360</td>\n",
       "      <td>Italy</td>\n",
       "      <td>2025-02-26</td>\n",
       "      <td>KPMG</td>\n",
       "      <td>https://www.unicreditgroup.eu/content/dam/unic...</td>\n",
       "      <td>Commercial Banks</td>\n",
       "      <td>UniCredit_2024</td>\n",
       "    </tr>\n",
       "    <tr>\n",
       "      <th>73</th>\n",
       "      <td>Acerinox</td>\n",
       "      <td>ES0132105018</td>\n",
       "      <td>Spain</td>\n",
       "      <td>2025-02-28</td>\n",
       "      <td>PwC</td>\n",
       "      <td>https://www.acerinox.com/export/sites/acerinox...</td>\n",
       "      <td>Iron &amp; Steel Producers</td>\n",
       "      <td>Acerinox_2024</td>\n",
       "    </tr>\n",
       "    <tr>\n",
       "      <th>89</th>\n",
       "      <td>Merck</td>\n",
       "      <td>DE0006599905</td>\n",
       "      <td>Germany</td>\n",
       "      <td>2025-03-06</td>\n",
       "      <td>Deloitte</td>\n",
       "      <td>https://www.merckgroup.com/en/annualreport/202...</td>\n",
       "      <td>Biotechnology &amp; Pharmaceuticals</td>\n",
       "      <td>Merck_2024</td>\n",
       "    </tr>\n",
       "    <tr>\n",
       "      <th>110</th>\n",
       "      <td>Iberdrola</td>\n",
       "      <td>ES0144580Y14</td>\n",
       "      <td>Spain</td>\n",
       "      <td>2025-02-28</td>\n",
       "      <td>KPMG</td>\n",
       "      <td>https://www.iberdrola.com/documents/20125/4238...</td>\n",
       "      <td>Electric Utilities &amp; Power Generators</td>\n",
       "      <td>Iberdrola_2024</td>\n",
       "    </tr>\n",
       "  </tbody>\n",
       "</table>\n",
       "</div>"
      ],
      "text/plain": [
       "       company          isin      country publication_date   auditor  \\\n",
       "44     Philips  NL0000009538  Netherlands       2025-02-21        EY   \n",
       "50   UniCredit  IT0005239360        Italy       2025-02-26      KPMG   \n",
       "73    Acerinox  ES0132105018        Spain       2025-02-28       PwC   \n",
       "89       Merck  DE0006599905      Germany       2025-03-06  Deloitte   \n",
       "110  Iberdrola  ES0144580Y14        Spain       2025-02-28      KPMG   \n",
       "\n",
       "                                                  link  \\\n",
       "44   https://www.results.philips.com/publications/a...   \n",
       "50   https://www.unicreditgroup.eu/content/dam/unic...   \n",
       "73   https://www.acerinox.com/export/sites/acerinox...   \n",
       "89   https://www.merckgroup.com/en/annualreport/202...   \n",
       "110  https://www.iberdrola.com/documents/20125/4238...   \n",
       "\n",
       "                             SASB_industry       report_id  \n",
       "44   Electric Utilities & Power Generators    Philips_2024  \n",
       "50                        Commercial Banks  UniCredit_2024  \n",
       "73                  Iron & Steel Producers   Acerinox_2024  \n",
       "89         Biotechnology & Pharmaceuticals      Merck_2024  \n",
       "110  Electric Utilities & Power Generators  Iberdrola_2024  "
      ]
     },
     "execution_count": 2,
     "metadata": {},
     "output_type": "execute_result"
    }
   ],
   "source": [
    "keep_ids = [\n",
    "    \"Acerinox_2024\", \"Commerzbank_2024\", \"Iberdrola_2024\", \"Philips_2024\", \"Vivendi_2024\",\n",
    "    \"AeroportsdeParis_2024\", \"CréditAgricole_2024\", \"Merck_2024\", \"Thales_2024\",\n",
    "    \"Cenergy_2024\", \"EssilorLuxottica_2024\", \"Mowi_2024\", \"UniCredit_2024\"\n",
    "]\n",
    "\n",
    "filtered_reports = esrs_reports[esrs_reports[\"report_id\"].isin(keep_ids)]\n",
    "print(len(filtered_reports))\n",
    "filtered_reports.head()"
   ]
  },
  {
   "cell_type": "code",
   "execution_count": 3,
   "id": "031eebf9-1b1a-4c71-8e86-9a156b0e59e1",
   "metadata": {},
   "outputs": [
    {
     "name": "stderr",
     "output_type": "stream",
     "text": [
      "/home/tu/tu_tu/tu_zxowg46/thesis/myEnv_thesis/lib64/python3.9/site-packages/networkx/utils/backends.py:135: RuntimeWarning: networkx backend defined more than once: nx-loopback\n",
      "  backends.update(_get_backends(\"networkx.backends\"))\n"
     ]
    },
    {
     "name": "stdout",
     "output_type": "stream",
     "text": [
      "Initializing RAG System...\n",
      "Loading embedding model: Qwen/Qwen3-Embedding-0.6B...\n",
      "Loading generation model: meta-llama/Llama-3.1-8B-Instruct...\n"
     ]
    },
    {
     "data": {
      "application/vnd.jupyter.widget-view+json": {
       "model_id": "3159a03472bc41f79d0d08352f622db9",
       "version_major": 2,
       "version_minor": 0
      },
      "text/plain": [
       "Loading checkpoint shards:   0%|          | 0/4 [00:00<?, ?it/s]"
      ]
     },
     "metadata": {},
     "output_type": "display_data"
    },
    {
     "name": "stderr",
     "output_type": "stream",
     "text": [
      "Device set to use cuda:0\n"
     ]
    },
    {
     "name": "stdout",
     "output_type": "stream",
     "text": [
      "RAG System initialized successfully.\n"
     ]
    }
   ],
   "source": [
    "import os\n",
    "import re\n",
    "import json\n",
    "import pandas as pd\n",
    "from pathlib import Path\n",
    "from dotenv import load_dotenv\n",
    "from huggingface_hub import login\n",
    "from rag_system import RAGSystem\n",
    "\n",
    "\n",
    "\n",
    "# ----------------------------\n",
    "# 0) Environment & Auth\n",
    "# ----------------------------\n",
    "os.environ[\"TOKENIZERS_PARALLELISM\"] = \"false\"\n",
    "dotenv_path = os.path.expanduser(\"~/thesis/esg_extraction/.env\")\n",
    "load_dotenv(dotenv_path=dotenv_path)\n",
    "HF_TOKEN = os.getenv(\"HUGGINGFACE_TOKEN\")\n",
    "login(HF_TOKEN)\n",
    "\n",
    "\n",
    "# ----------------------------\n",
    "# 1) Config\n",
    "# ----------------------------\n",
    "DB_ROOT = Path(\"./faiss_dbs\")\n",
    "DB_ROOT.mkdir(parents=True, exist_ok=True)\n",
    "ESRS_METADATA_PATH = 'EsrsMetadata.xlsx'\n",
    "REPORTS_CSV_PATH = './data_preparation/esrs_reports.csv' \n",
    "\n",
    "RESULTS_PATH = \"all_results.jsonl\" # nested dict: { report_id: { query_id: {verdict, analysis, sources} } }\n",
    "SKIPPED_PATH = \"skipped_reports.csv\" # keep track of skipped reports\n",
    "\n",
    "# Ensure skipped_reports.csv has a header if file doesn't exist\n",
    "if not os.path.exists(SKIPPED_PATH):\n",
    "    pd.DataFrame(columns=esrs_reports.columns).to_csv(SKIPPED_PATH, index=False)\n",
    "\n",
    "# ----------------------------\n",
    "# 2) Instantiate your system\n",
    "# ----------------------------\n",
    "rag = RAGSystem(ESRS_METADATA_PATH)\n"
   ]
  },
  {
   "cell_type": "code",
   "execution_count": 4,
   "id": "fd3287d5-07aa-4def-b187-cc7471ee9ba1",
   "metadata": {},
   "outputs": [
    {
     "name": "stdout",
     "output_type": "stream",
     "text": [
      "\n",
      "=== Running pipeline for: 44 - Philips_2024 ===\n",
      "Creating new vector store at faiss_dbs/Philips_2024...\n",
      "Create vectorestore at faiss_dbs/Philips_2024\n",
      "Starting augmented generation for 65 Prompts...\n",
      "Clearing GPU cache...\n",
      "--- Finished Pipeline for: Philips_2024 ---\n",
      "\n",
      "=== Running pipeline for: 50 - UniCredit_2024 ===\n",
      "Creating new vector store at faiss_dbs/UniCredit_2024...\n",
      "Create vectorestore at faiss_dbs/UniCredit_2024\n",
      "Starting augmented generation for 65 Prompts...\n",
      "Clearing GPU cache...\n",
      "--- Finished Pipeline for: UniCredit_2024 ---\n",
      "\n",
      "=== Running pipeline for: 73 - Acerinox_2024 ===\n",
      "Creating new vector store at faiss_dbs/Acerinox_2024...\n",
      "Create vectorestore at faiss_dbs/Acerinox_2024\n",
      "Starting augmented generation for 65 Prompts...\n",
      "Clearing GPU cache...\n",
      "--- Finished Pipeline for: Acerinox_2024 ---\n",
      "\n",
      "=== Running pipeline for: 89 - Merck_2024 ===\n",
      "Creating new vector store at faiss_dbs/Merck_2024...\n",
      "Create vectorestore at faiss_dbs/Merck_2024\n",
      "Starting augmented generation for 65 Prompts...\n",
      "Clearing GPU cache...\n",
      "--- Finished Pipeline for: Merck_2024 ---\n",
      "\n",
      "=== Running pipeline for: 110 - Iberdrola_2024 ===\n",
      "Creating new vector store at faiss_dbs/Iberdrola_2024...\n",
      "Create vectorestore at faiss_dbs/Iberdrola_2024\n",
      "Starting augmented generation for 65 Prompts...\n",
      "Clearing GPU cache...\n",
      "--- Finished Pipeline for: Iberdrola_2024 ---\n",
      "\n",
      "=== Running pipeline for: 118 - EssilorLuxottica_2024 ===\n",
      "Creating new vector store at faiss_dbs/EssilorLuxottica_2024...\n",
      "Create vectorestore at faiss_dbs/EssilorLuxottica_2024\n",
      "Starting augmented generation for 65 Prompts...\n",
      "Clearing GPU cache...\n",
      "--- Finished Pipeline for: EssilorLuxottica_2024 ---\n",
      "\n",
      "=== Running pipeline for: 167 - CréditAgricole_2024 ===\n",
      "Creating new vector store at faiss_dbs/CréditAgricole_2024...\n",
      "Create vectorestore at faiss_dbs/CréditAgricole_2024\n",
      "Starting augmented generation for 65 Prompts...\n",
      "Clearing GPU cache...\n",
      "--- Finished Pipeline for: CréditAgricole_2024 ---\n",
      "\n",
      "=== Running pipeline for: 176 - Commerzbank_2024 ===\n",
      "Creating new vector store at faiss_dbs/Commerzbank_2024...\n",
      "Create vectorestore at faiss_dbs/Commerzbank_2024\n",
      "Starting augmented generation for 65 Prompts...\n",
      "Clearing GPU cache...\n",
      "--- Finished Pipeline for: Commerzbank_2024 ---\n",
      "\n",
      "=== Running pipeline for: 228 - Vivendi_2024 ===\n",
      "Creating new vector store at faiss_dbs/Vivendi_2024...\n",
      "Create vectorestore at faiss_dbs/Vivendi_2024\n",
      "Starting augmented generation for 65 Prompts...\n",
      "Clearing GPU cache...\n",
      "--- Finished Pipeline for: Vivendi_2024 ---\n",
      "\n",
      "=== Running pipeline for: 260 - Cenergy_2024 ===\n",
      "Creating new vector store at faiss_dbs/Cenergy_2024...\n",
      "Create vectorestore at faiss_dbs/Cenergy_2024\n",
      "Starting augmented generation for 65 Prompts...\n",
      "Clearing GPU cache...\n",
      "--- Finished Pipeline for: Cenergy_2024 ---\n",
      "\n",
      "=== Running pipeline for: 295 - AeroportsdeParis_2024 ===\n",
      "Creating new vector store at faiss_dbs/AeroportsdeParis_2024...\n",
      "Create vectorestore at faiss_dbs/AeroportsdeParis_2024\n"
     ]
    },
    {
     "name": "stderr",
     "output_type": "stream",
     "text": [
      "You seem to be using the pipelines sequentially on GPU. In order to maximize efficiency please use a dataset\n"
     ]
    },
    {
     "name": "stdout",
     "output_type": "stream",
     "text": [
      "Starting augmented generation for 65 Prompts...\n",
      "Clearing GPU cache...\n",
      "--- Finished Pipeline for: AeroportsdeParis_2024 ---\n",
      "\n",
      "=== Running pipeline for: 370 - Mowi_2024 ===\n",
      "Creating new vector store at faiss_dbs/Mowi_2024...\n",
      "Create vectorestore at faiss_dbs/Mowi_2024\n",
      "Starting augmented generation for 65 Prompts...\n",
      "Clearing GPU cache...\n",
      "--- Finished Pipeline for: Mowi_2024 ---\n",
      "\n",
      "=== Running pipeline for: 410 - Thales_2024 ===\n",
      "Creating new vector store at faiss_dbs/Thales_2024...\n",
      "Create vectorestore at faiss_dbs/Thales_2024\n",
      "Starting augmented generation for 65 Prompts...\n",
      "Clearing GPU cache...\n",
      "--- Finished Pipeline for: Thales_2024 ---\n"
     ]
    }
   ],
   "source": [
    "for idx, row in filtered_reports.iterrows():\n",
    "    url = row.get(\"link\", None)\n",
    "    company_name = row['company']\n",
    "    report_id = row['report_id']\n",
    "    pdf_path = f\"./skipped_reports/{report_id}.pdf\"\n",
    "    db_path = str(DB_ROOT / report_id)\n",
    "    \n",
    "    print(f\"\\n=== Running pipeline for: {idx} - {report_id} ===\")\n",
    "    try:\n",
    "        # Important: use the method your class exposes\n",
    "        # (expects report_id, db_path, and either pdf_url or pdf_path)\n",
    "        result = rag.process_and_analyze_report(\n",
    "            report_id=report_id,\n",
    "            db_path=db_path,\n",
    "            pdf_path=pdf_path \n",
    "        )\n",
    "\n",
    "        # augment result with metadata before saving\n",
    "        record = {\n",
    "            \"report_id\": report_id,\n",
    "            \"company\": company_name,\n",
    "            \"row_index\": int(idx),\n",
    "            \"result\": result.get(report_id, {}),\n",
    "        }\n",
    "\n",
    "        # append result as one JSON line\n",
    "        with open(RESULTS_PATH, \"a\", encoding=\"utf-8\") as f:\n",
    "            f.write(json.dumps(record, ensure_ascii=False) + \"\\n\")\n",
    "\n",
    "    except Exception as e:\n",
    "        print(f\"Failed on {report_id}: {e}\")\n",
    "        # also log failure in skipped_reports.csv\n",
    "        row.to_frame().T.to_csv(SKIPPED_PATH, mode=\"a\", header=False, index=False)"
   ]
  }
 ],
 "metadata": {
  "kernelspec": {
   "display_name": "myKernel_thesis",
   "language": "python",
   "name": "mykernel_thesis"
  },
  "language_info": {
   "codemirror_mode": {
    "name": "ipython",
    "version": 3
   },
   "file_extension": ".py",
   "mimetype": "text/x-python",
   "name": "python",
   "nbconvert_exporter": "python",
   "pygments_lexer": "ipython3",
   "version": "3.9.20"
  }
 },
 "nbformat": 4,
 "nbformat_minor": 5
}

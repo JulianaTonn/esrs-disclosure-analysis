{
 "cells": [
  {
   "cell_type": "markdown",
   "id": "7fbc3fbd",
   "metadata": {},
   "source": [
    "Purpose: usage examples of my pipeline"
   ]
  },
  {
   "cell_type": "code",
   "execution_count": 1,
   "id": "0dde39db-679e-4ed1-a2c3-468e16956b14",
   "metadata": {},
   "outputs": [],
   "source": [
    "import pandas as pd\n",
    "skipped_reports = pd.read_csv(\"skipped_reports.csv\")"
   ]
  },
  {
   "cell_type": "code",
   "execution_count": 40,
   "id": "799a2192-2cfd-401a-92e3-ecbcdb633c0b",
   "metadata": {},
   "outputs": [
    {
     "data": {
      "text/plain": [
       "'https://www.fluidra.com/pdf-viewer.php?file=https://www.fluidra.com/wp-content/uploads/2025/03/3.-Integrated-Report_ENG_vFinal-ENG.pdf'"
      ]
     },
     "execution_count": 40,
     "metadata": {},
     "output_type": "execute_result"
    }
   ],
   "source": [
    "skipped_reports['link'][20]"
   ]
  },
  {
   "cell_type": "code",
   "execution_count": 41,
   "id": "7a70ecfc-120f-4454-8fb0-681a26d625fc",
   "metadata": {},
   "outputs": [
    {
     "data": {
      "text/plain": [
       "'Fluidra_2024'"
      ]
     },
     "execution_count": 41,
     "metadata": {},
     "output_type": "execute_result"
    }
   ],
   "source": [
    "skipped_reports['report_id'][20]"
   ]
  },
  {
   "cell_type": "code",
   "execution_count": 11,
   "id": "b97e4633-c61b-401f-93dc-d88d66acf4f0",
   "metadata": {},
   "outputs": [
    {
     "name": "stdout",
     "output_type": "stream",
     "text": [
      "383\n"
     ]
    },
    {
     "data": {
      "text/html": [
       "<div>\n",
       "<style scoped>\n",
       "    .dataframe tbody tr th:only-of-type {\n",
       "        vertical-align: middle;\n",
       "    }\n",
       "\n",
       "    .dataframe tbody tr th {\n",
       "        vertical-align: top;\n",
       "    }\n",
       "\n",
       "    .dataframe thead th {\n",
       "        text-align: right;\n",
       "    }\n",
       "</style>\n",
       "<table border=\"1\" class=\"dataframe\">\n",
       "  <thead>\n",
       "    <tr style=\"text-align: right;\">\n",
       "      <th></th>\n",
       "      <th>company</th>\n",
       "      <th>isin</th>\n",
       "      <th>country</th>\n",
       "      <th>publication_date</th>\n",
       "      <th>auditor</th>\n",
       "      <th>link</th>\n",
       "      <th>SASB_industry</th>\n",
       "      <th>report_id</th>\n",
       "    </tr>\n",
       "  </thead>\n",
       "  <tbody>\n",
       "    <tr>\n",
       "      <th>99</th>\n",
       "      <td>Volkswagen</td>\n",
       "      <td>DE0007664039</td>\n",
       "      <td>Germany</td>\n",
       "      <td>2025-03-11</td>\n",
       "      <td>EY</td>\n",
       "      <td>https://www.volkswagen-group.com/en/publicatio...</td>\n",
       "      <td>Automobiles</td>\n",
       "      <td>Volkswagen_2024</td>\n",
       "    </tr>\n",
       "    <tr>\n",
       "      <th>100</th>\n",
       "      <td>Helvetia</td>\n",
       "      <td>CH0466642201</td>\n",
       "      <td>Switzerland</td>\n",
       "      <td>2025-03-06</td>\n",
       "      <td>KPMG</td>\n",
       "      <td>https://www.helvetia.com/content/dam/os/corpor...</td>\n",
       "      <td>Insurance</td>\n",
       "      <td>Helvetia_2024</td>\n",
       "    </tr>\n",
       "    <tr>\n",
       "      <th>101</th>\n",
       "      <td>Iveco</td>\n",
       "      <td>NL0015000LU4</td>\n",
       "      <td>Netherlands</td>\n",
       "      <td>2025-03-05</td>\n",
       "      <td>Deloitte</td>\n",
       "      <td>https://www.ivecogroup.com/-/media/investors/s...</td>\n",
       "      <td>Industrial Machinery &amp; Goods</td>\n",
       "      <td>Iveco_2024</td>\n",
       "    </tr>\n",
       "    <tr>\n",
       "      <th>102</th>\n",
       "      <td>Air Liquide</td>\n",
       "      <td>FR0000120073</td>\n",
       "      <td>France</td>\n",
       "      <td>2025-03-07</td>\n",
       "      <td>PwC &amp; KPMG</td>\n",
       "      <td>https://www.airliquide.com/sites/airliquide.co...</td>\n",
       "      <td>Chemicals</td>\n",
       "      <td>AirLiquide_2024</td>\n",
       "    </tr>\n",
       "    <tr>\n",
       "      <th>103</th>\n",
       "      <td>ABN Amro</td>\n",
       "      <td>NL0011540547</td>\n",
       "      <td>Netherlands</td>\n",
       "      <td>2025-03-12</td>\n",
       "      <td>EY</td>\n",
       "      <td>https://downloads.ctfassets.net/1u811bvgvthc/4...</td>\n",
       "      <td>Commercial Banks</td>\n",
       "      <td>ABNAmro_2024</td>\n",
       "    </tr>\n",
       "  </tbody>\n",
       "</table>\n",
       "</div>"
      ],
      "text/plain": [
       "         company          isin      country publication_date     auditor  \\\n",
       "99    Volkswagen  DE0007664039      Germany       2025-03-11          EY   \n",
       "100     Helvetia  CH0466642201  Switzerland       2025-03-06        KPMG   \n",
       "101        Iveco  NL0015000LU4  Netherlands       2025-03-05    Deloitte   \n",
       "102  Air Liquide  FR0000120073       France       2025-03-07  PwC & KPMG   \n",
       "103     ABN Amro  NL0011540547  Netherlands       2025-03-12          EY   \n",
       "\n",
       "                                                  link  \\\n",
       "99   https://www.volkswagen-group.com/en/publicatio...   \n",
       "100  https://www.helvetia.com/content/dam/os/corpor...   \n",
       "101  https://www.ivecogroup.com/-/media/investors/s...   \n",
       "102  https://www.airliquide.com/sites/airliquide.co...   \n",
       "103  https://downloads.ctfassets.net/1u811bvgvthc/4...   \n",
       "\n",
       "                    SASB_industry        report_id  \n",
       "99                    Automobiles  Volkswagen_2024  \n",
       "100                     Insurance    Helvetia_2024  \n",
       "101  Industrial Machinery & Goods       Iveco_2024  \n",
       "102                     Chemicals  AirLiquide_2024  \n",
       "103              Commercial Banks     ABNAmro_2024  "
      ]
     },
     "execution_count": 11,
     "metadata": {},
     "output_type": "execute_result"
    }
   ],
   "source": [
    "### Load Metadata of Reports to be analyzed\n",
    "import pandas as pd\n",
    "esrs_reports = pd.read_excel(\"./data_preparation/esrs_reports.xlsx\")\n",
    "esrs_reports = esrs_reports[99:]\n",
    "print(len(esrs_reports))\n",
    "esrs_reports.head()"
   ]
  },
  {
   "cell_type": "code",
   "execution_count": 3,
   "id": "031eebf9-1b1a-4c71-8e86-9a156b0e59e1",
   "metadata": {},
   "outputs": [
    {
     "name": "stderr",
     "output_type": "stream",
     "text": [
      "/home/tu/tu_tu/tu_zxowg46/thesis/myEnv_thesis/lib64/python3.9/site-packages/networkx/utils/backends.py:135: RuntimeWarning: networkx backend defined more than once: nx-loopback\n",
      "  backends.update(_get_backends(\"networkx.backends\"))\n"
     ]
    },
    {
     "name": "stdout",
     "output_type": "stream",
     "text": [
      "Initializing RAG System...\n",
      "Loading embedding model: Qwen/Qwen3-Embedding-0.6B...\n",
      "Loading generation model: meta-llama/Llama-3.1-8B-Instruct...\n"
     ]
    },
    {
     "data": {
      "application/vnd.jupyter.widget-view+json": {
       "model_id": "18530717a2914c10857cfcb11180b1de",
       "version_major": 2,
       "version_minor": 0
      },
      "text/plain": [
       "Loading checkpoint shards:   0%|          | 0/4 [00:00<?, ?it/s]"
      ]
     },
     "metadata": {},
     "output_type": "display_data"
    },
    {
     "name": "stderr",
     "output_type": "stream",
     "text": [
      "Device set to use cuda:0\n"
     ]
    },
    {
     "name": "stdout",
     "output_type": "stream",
     "text": [
      "RAG System initialized successfully.\n"
     ]
    }
   ],
   "source": [
    "import os\n",
    "import re\n",
    "import json\n",
    "import pandas as pd\n",
    "from pathlib import Path\n",
    "from dotenv import load_dotenv\n",
    "from huggingface_hub import login\n",
    "from rag_system import RAGSystem\n",
    "\n",
    "\n",
    "\n",
    "# ----------------------------\n",
    "# 0) Environment & Auth\n",
    "# ----------------------------\n",
    "os.environ[\"TOKENIZERS_PARALLELISM\"] = \"false\"\n",
    "dotenv_path = os.path.expanduser(\"~/thesis/esg_extraction/.env\")\n",
    "load_dotenv(dotenv_path=dotenv_path)\n",
    "HF_TOKEN = os.getenv(\"HUGGINGFACE_TOKEN\")\n",
    "login(HF_TOKEN)\n",
    "\n",
    "\n",
    "# ----------------------------\n",
    "# 1) Config\n",
    "# ----------------------------\n",
    "DB_ROOT = Path(\"./faiss_dbs\")\n",
    "DB_ROOT.mkdir(parents=True, exist_ok=True)\n",
    "ESRS_METADATA_PATH = 'EsrsMetadata.xlsx'\n",
    "REPORTS_CSV_PATH = './data_preparation/esrs_reports.csv' \n",
    "\n",
    "RESULTS_PATH = \"all_results.jsonl\" # nested dict: { report_id: { query_id: {verdict, analysis, sources} } }\n",
    "SKIPPED_PATH = \"skipped_reports.csv\" # keep track of skipped reports\n",
    "\n",
    "# Ensure skipped_reports.csv has a header if file doesn't exist\n",
    "if not os.path.exists(SKIPPED_PATH):\n",
    "    pd.DataFrame(columns=esrs_reports.columns).to_csv(SKIPPED_PATH, index=False)\n",
    "\n",
    "# ----------------------------\n",
    "# 2) Instantiate your system\n",
    "# ----------------------------\n",
    "rag = RAGSystem(ESRS_METADATA_PATH)\n"
   ]
  },
  {
   "cell_type": "code",
   "execution_count": 9,
   "id": "fd3287d5-07aa-4def-b187-cc7471ee9ba1",
   "metadata": {},
   "outputs": [
    {
     "name": "stdout",
     "output_type": "stream",
     "text": [
      "\n",
      "=== Running pipeline for: 89 - Merck_2024 ===\n",
      "Failed on Merck_2024: HTTPSConnectionPool(host='www.merckgroup.com', port=443): Read timed out. (read timeout=60)\n",
      "\n",
      "=== Running pipeline for: 90 - Telefónica_2024 ===\n",
      "Creating new vector store at faiss_dbs/Telefónica_2024...\n",
      "Create vectorestore at faiss_dbs/Telefónica_2024\n",
      "Starting augmented generation for 65 Prompts...\n",
      "Clearing GPU cache...\n",
      "--- Finished Pipeline for: Telefónica_2024 ---\n",
      "\n",
      "=== Running pipeline for: 91 - Signify_2024 ===\n",
      "Creating new vector store at faiss_dbs/Signify_2024...\n",
      "Create vectorestore at faiss_dbs/Signify_2024\n",
      "Starting augmented generation for 65 Prompts...\n",
      "Clearing GPU cache...\n",
      "--- Finished Pipeline for: Signify_2024 ---\n",
      "\n",
      "=== Running pipeline for: 92 - UPM_2024 ===\n",
      "Creating new vector store at faiss_dbs/UPM_2024...\n",
      "Create vectorestore at faiss_dbs/UPM_2024\n",
      "Starting augmented generation for 65 Prompts...\n",
      "Clearing GPU cache...\n",
      "--- Finished Pipeline for: UPM_2024 ---\n",
      "\n",
      "=== Running pipeline for: 93 - NokianRenkaat_2024 ===\n",
      "Creating new vector store at faiss_dbs/NokianRenkaat_2024...\n",
      "Create vectorestore at faiss_dbs/NokianRenkaat_2024\n",
      "Starting augmented generation for 65 Prompts...\n",
      "Clearing GPU cache...\n",
      "--- Finished Pipeline for: NokianRenkaat_2024 ---\n",
      "\n",
      "=== Running pipeline for: 94 - ÖsterreichischePost_2024 ===\n",
      "Creating new vector store at faiss_dbs/ÖsterreichischePost_2024...\n",
      "Create vectorestore at faiss_dbs/ÖsterreichischePost_2024\n",
      "Starting augmented generation for 65 Prompts...\n",
      "Clearing GPU cache...\n",
      "--- Finished Pipeline for: ÖsterreichischePost_2024 ---\n",
      "\n",
      "=== Running pipeline for: 95 - KoninklijkeKPN_2024 ===\n",
      "Creating new vector store at faiss_dbs/KoninklijkeKPN_2024...\n",
      "Create vectorestore at faiss_dbs/KoninklijkeKPN_2024\n",
      "Starting augmented generation for 65 Prompts...\n",
      "Clearing GPU cache...\n",
      "--- Finished Pipeline for: KoninklijkeKPN_2024 ---\n",
      "\n",
      "=== Running pipeline for: 96 - AlliedIrishBanks(AIB)Group_2024 ===\n",
      "Creating new vector store at faiss_dbs/AlliedIrishBanks(AIB)Group_2024...\n",
      "Create vectorestore at faiss_dbs/AlliedIrishBanks(AIB)Group_2024\n",
      "Starting augmented generation for 65 Prompts...\n",
      "Clearing GPU cache...\n",
      "--- Finished Pipeline for: AlliedIrishBanks(AIB)Group_2024 ---\n",
      "\n",
      "=== Running pipeline for: 97 - Stellantis_2024 ===\n",
      "Creating new vector store at faiss_dbs/Stellantis_2024...\n",
      "Create vectorestore at faiss_dbs/Stellantis_2024\n",
      "Starting augmented generation for 65 Prompts...\n",
      "Clearing GPU cache...\n",
      "--- Finished Pipeline for: Stellantis_2024 ---\n",
      "\n",
      "=== Running pipeline for: 98 - EDPRenováveis_2024 ===\n",
      "Creating new vector store at faiss_dbs/EDPRenováveis_2024...\n",
      "Create vectorestore at faiss_dbs/EDPRenováveis_2024\n",
      "Starting augmented generation for 65 Prompts...\n",
      "Clearing GPU cache...\n",
      "--- Finished Pipeline for: EDPRenováveis_2024 ---\n"
     ]
    }
   ],
   "source": [
    "for idx, row in esrs_reports.iterrows():\n",
    "    url = row.get(\"link\", None)\n",
    "    company_name = row['company']\n",
    "    report_id = row['report_id']\n",
    "    db_path = str(DB_ROOT / report_id)\n",
    "    \n",
    "    if pd.isna(url) or not isinstance(url, str) or not url.strip():\n",
    "        print(f\"Row {idx}, Company {report_id}: no valid 'link' URL -> skipping\")\n",
    "        # append directly to skipped_reports.csv\n",
    "        row.to_frame().T.to_csv(SKIPPED_PATH, mode=\"a\", header=False, index=False)\n",
    "        continue\n",
    "\n",
    "    print(f\"\\n=== Running pipeline for: {idx} - {report_id} ===\")\n",
    "    try:\n",
    "        # Important: use the method your class exposes\n",
    "        # (expects report_id, db_path, and either pdf_url or pdf_path)\n",
    "        result = rag.process_and_analyze_report(\n",
    "            report_id=report_id,\n",
    "            db_path=db_path,\n",
    "            pdf_url=url        # we’re using the 'link' column (a URL)\n",
    "        )\n",
    "\n",
    "        # augment result with metadata before saving\n",
    "        record = {\n",
    "            \"report_id\": report_id,\n",
    "            \"company\": company_name,\n",
    "            \"row_index\": int(idx),\n",
    "            \"result\": result.get(report_id, {}),\n",
    "        }\n",
    "\n",
    "        # append result as one JSON line\n",
    "        with open(RESULTS_PATH, \"a\", encoding=\"utf-8\") as f:\n",
    "            f.write(json.dumps(record, ensure_ascii=False) + \"\\n\")\n",
    "\n",
    "    except Exception as e:\n",
    "        print(f\"Failed on {report_id}: {e}\")\n",
    "        # also log failure in skipped_reports.csv\n",
    "        row.to_frame().T.to_csv(SKIPPED_PATH, mode=\"a\", header=False, index=False)"
   ]
  }
 ],
 "metadata": {
  "kernelspec": {
   "display_name": "myKernel_thesis",
   "language": "python",
   "name": "mykernel_thesis"
  },
  "language_info": {
   "codemirror_mode": {
    "name": "ipython",
    "version": 3
   },
   "file_extension": ".py",
   "mimetype": "text/x-python",
   "name": "python",
   "nbconvert_exporter": "python",
   "pygments_lexer": "ipython3",
   "version": "3.9.20"
  }
 },
 "nbformat": 4,
 "nbformat_minor": 5
}
